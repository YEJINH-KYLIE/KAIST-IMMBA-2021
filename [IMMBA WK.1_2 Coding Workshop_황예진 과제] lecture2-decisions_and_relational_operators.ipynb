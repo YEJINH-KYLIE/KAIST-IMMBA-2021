{
 "cells": [
  {
   "cell_type": "markdown",
   "metadata": {},
   "source": [
    "# Lecture 2 : Decisions and Relational Operators"
   ]
  },
  {
   "cell_type": "markdown",
   "metadata": {},
   "source": [
    "* One of the essential features of computer programs is to make decisions. Like a train that changes tracks depending on how the switches are set, a program can take different actions depending on inputs and other circumstances.\n",
    "* In this lecture, you will learn how to program simple and complex decisions. You will apply what you learn to the task of checking user input.\n",
    "\n",
    "## 1. The IF statement\n",
    "* A computer program often needs to make decisions based on input, or circumstances\n",
    "* The two keywords of the if statement are:\n",
    "    * if\n",
    "    * else\n",
    "* The ***if*** statement allows a program to carry out different actions depending on the nature of the data to be processed."
   ]
  },
  {
   "cell_type": "code",
   "execution_count": 1,
   "metadata": {},
   "outputs": [
    {
     "data": {
      "text/plain": [
       "7.5"
      ]
     },
     "execution_count": 1,
     "metadata": {},
     "output_type": "execute_result"
    }
   ],
   "source": [
    "# 나누기, 나머지도 함께 반환\n",
    "15/2"
   ]
  },
  {
   "cell_type": "code",
   "execution_count": 2,
   "metadata": {},
   "outputs": [
    {
     "data": {
      "text/plain": [
       "7"
      ]
     },
     "execution_count": 2,
     "metadata": {},
     "output_type": "execute_result"
    }
   ],
   "source": [
    "# 나누고, 나머지를 반올림하여 몫을 반환 \n",
    "15//2"
   ]
  },
  {
   "cell_type": "code",
   "execution_count": 3,
   "metadata": {},
   "outputs": [
    {
     "name": "stdout",
     "output_type": "stream",
     "text": [
      "Floor: 17\n",
      "high!\n"
     ]
    }
   ],
   "source": [
    "floor = int(input(\"Floor: \"))\n",
    "\n",
    "if floor > 15:\n",
    "    message = \"high!\"\n",
    "else:\n",
    "    message = \"low..\"\n",
    "    \n",
    "print(message)"
   ]
  },
  {
   "cell_type": "code",
   "execution_count": null,
   "metadata": {},
   "outputs": [],
   "source": [
    "floor = int(input(\"Floor: \"))\n",
    "\n",
    "if floor > 15:\n",
    "    message = \"high!\"\n",
    "else:\n",
    "    message = \"low..\"\n",
    "    \n",
    "\n",
    "    return(message)"
   ]
  },
  {
   "cell_type": "markdown",
   "metadata": {},
   "source": [
    "* An ***if*** statement may not need a ‘False’ (***else***) branch"
   ]
  },
  {
   "cell_type": "code",
   "execution_count": 5,
   "metadata": {},
   "outputs": [
    {
     "name": "stdout",
     "output_type": "stream",
     "text": [
      "Floor: 12\n"
     ]
    }
   ],
   "source": [
    "floor = int(input(\"Floor: \"))\n",
    "\n",
    "if floor > 15:\n",
    "    message = \"high!\""
   ]
  },
  {
   "cell_type": "markdown",
   "metadata": {},
   "source": [
    "### Programming tip: Avoid duplication in branches\n",
    "* If the same code is duplicated in each branch then move it out of the if statement."
   ]
  },
  {
   "cell_type": "code",
   "execution_count": 6,
   "metadata": {},
   "outputs": [
    {
     "name": "stdout",
     "output_type": "stream",
     "text": [
      "high!\n"
     ]
    }
   ],
   "source": [
    "floor = 20\n",
    "\n",
    "if floor > 15:\n",
    "    message = \"high!\"\n",
    "    print(message)\n",
    "else:\n",
    "    message = \"low..\"\n",
    "    print(message)"
   ]
  },
  {
   "cell_type": "code",
   "execution_count": null,
   "metadata": {},
   "outputs": [],
   "source": []
  },
  {
   "cell_type": "markdown",
   "metadata": {},
   "source": [
    "### One more thing! : Inline conditionals\n",
    "* You can simplify the above code in one line of code ussing the syntax\n",
    "\n",
    "    `var = value if condition else other_value`"
   ]
  },
  {
   "cell_type": "code",
   "execution_count": 9,
   "metadata": {},
   "outputs": [
    {
     "name": "stdout",
     "output_type": "stream",
     "text": [
      "high!\n"
     ]
    }
   ],
   "source": [
    "floor = 20\n",
    "message = \"high!\" if floor > 15 else \"low..\"\n",
    "\n",
    "print(message)"
   ]
  },
  {
   "cell_type": "markdown",
   "metadata": {},
   "source": [
    "### 1.1 Relational operators\n",
    "* Every if statement has a condition\n",
    "    * Usually compares two values with an operator"
   ]
  },
  {
   "cell_type": "code",
   "execution_count": null,
   "metadata": {},
   "outputs": [],
   "source": [
    "floor = 20\n",
    "\n",
    "if floor > 15: # greater than\n",
    "    message = \"high!\"\n",
    "else:\n",
    "    message = \"low..\"\n",
    "\n",
    "print(message)"
   ]
  },
  {
   "cell_type": "code",
   "execution_count": null,
   "metadata": {},
   "outputs": [],
   "source": [
    "floor = 20\n",
    "\n",
    "if floor >= 15: # greater than or equals\n",
    "    message = \"high!\"\n",
    "else:\n",
    "    message = \"low..\"\n",
    "\n",
    "print(message)"
   ]
  },
  {
   "cell_type": "code",
   "execution_count": null,
   "metadata": {},
   "outputs": [],
   "source": [
    "floor = 20\n",
    "\n",
    "if floor < 15: # less than\n",
    "    message = \"low..\"\n",
    "else:\n",
    "    message = \"high!\"\n",
    "\n",
    "print(message)"
   ]
  },
  {
   "cell_type": "code",
   "execution_count": 13,
   "metadata": {},
   "outputs": [
    {
     "name": "stdout",
     "output_type": "stream",
     "text": [
      "high!\n"
     ]
    }
   ],
   "source": [
    "floor = 20\n",
    "\n",
    "if floor <= 15: # less than or equals\n",
    "    message = \"low..\"\n",
    "else:\n",
    "    message = \"high!\"\n",
    "\n",
    "print(message)"
   ]
  },
  {
   "cell_type": "code",
   "execution_count": 15,
   "metadata": {},
   "outputs": [
    {
     "ename": "SyntaxError",
     "evalue": "invalid syntax (<ipython-input-15-82730bf2c5a0>, line 3)",
     "output_type": "error",
     "traceback": [
      "\u001b[0;36m  File \u001b[0;32m\"<ipython-input-15-82730bf2c5a0>\"\u001b[0;36m, line \u001b[0;32m3\u001b[0m\n\u001b[0;31m    if ((floor < 15) or (floor = 15)) : # less than or equals\u001b[0m\n\u001b[0m                               ^\u001b[0m\n\u001b[0;31mSyntaxError\u001b[0m\u001b[0;31m:\u001b[0m invalid syntax\n"
     ]
    }
   ],
   "source": [
    "floor = 20\n",
    "\n",
    "if floor <= 15 : # less than or equals\n",
    "    message = \"low..\"\n",
    "else:\n",
    "    message = \"high!\"\n",
    "\n",
    "print(message)"
   ]
  },
  {
   "cell_type": "code",
   "execution_count": null,
   "metadata": {},
   "outputs": [],
   "source": [
    "floor = 20\n",
    "\n",
    "if floor == 15: # equals\n",
    "    message = \"True!\"\n",
    "else:\n",
    "    message = \"False!\"\n",
    "\n",
    "print(message)"
   ]
  },
  {
   "cell_type": "code",
   "execution_count": 12,
   "metadata": {},
   "outputs": [
    {
     "name": "stdout",
     "output_type": "stream",
     "text": [
      "Floor: 14\n",
      "\n"
     ]
    }
   ],
   "source": [
    "floor = int(input(\"Floor: \"))\n",
    "message = '' # variable 초기화. 파이썬에선 제때 해둘 필요있음\n",
    "\n",
    "if floor > 15:\n",
    "    message = \"high!\"\n",
    "print(message)"
   ]
  },
  {
   "cell_type": "markdown",
   "metadata": {},
   "source": [
    "### Quiz1\n",
    "https://forms.gle/78oSCP8ynP9Dk6FXA"
   ]
  },
  {
   "cell_type": "code",
   "execution_count": null,
   "metadata": {},
   "outputs": [],
   "source": []
  },
  {
   "cell_type": "markdown",
   "metadata": {},
   "source": [
    "### Mini Exercise : Write a code to check if two strings are equal\n",
    "   * Use two variables \"name1\" and \"name2\"\n",
    "   * Assign values by input function\n",
    "   * if two strings are equal, print \"The strings are identical.\", else \"The strings are not identical.\""
   ]
  },
  {
   "cell_type": "code",
   "execution_count": 22,
   "metadata": {},
   "outputs": [
    {
     "name": "stdout",
     "output_type": "stream",
     "text": [
      "Name 1 : what is your name ? :yejin\n",
      "Name 2 : what is your name ? :Yejin\n",
      "The strings are identical.\n"
     ]
    }
   ],
   "source": [
    "#your code here\n",
    "\n",
    "name1 = input(\"Name 1 : what is your name ? :\")\n",
    "name2 = input(\"Name 2 : what is your name ? :\")\n",
    "\n",
    "if name1.lower() == name2.lower() : \n",
    "    message = \"The strings are identical.\"\n",
    "else  :\n",
    "    message =  \"The strings are not identical.\"\n",
    "\n",
    "print(message)"
   ]
  },
  {
   "cell_type": "markdown",
   "metadata": {},
   "source": [
    "### 1.2 Operator precedence\n",
    "* The comparison operators have lower precedence than arithmetic operators\n",
    "    * Calculations are done before the comparison"
   ]
  },
  {
   "cell_type": "code",
   "execution_count": 54,
   "metadata": {},
   "outputs": [],
   "source": [
    "height = 10\n",
    "high_floor = 15\n",
    "if height+10 < high_floor: print(\"high!\")"
   ]
  },
  {
   "cell_type": "markdown",
   "metadata": {},
   "source": [
    "### Common error: Floating point\n",
    "* Floating-point numbers have only a limited precision, and calculations can introduce roundoff errors. \n",
    "* You must take these inevitable roundoffs into account when comparing floating point numbers."
   ]
  },
  {
   "cell_type": "code",
   "execution_count": 50,
   "metadata": {},
   "outputs": [
    {
     "name": "stdout",
     "output_type": "stream",
     "text": [
      "sqrt(2.0) squared is not 2.0 but 2.0000000000000004\n"
     ]
    }
   ],
   "source": [
    "import math\n",
    "\n",
    "r = math.sqrt(2.0)\n",
    "if r * r == 2.0 :\n",
    "    print(\"sqrt(2.0) squared is 2.0\")\n",
    "else :\n",
    "    print(\"sqrt(2.0) squared is not 2.0 but\", r * r)"
   ]
  },
  {
   "cell_type": "markdown",
   "metadata": {},
   "source": [
    "* Use of Epsion!: Use a very small value to compare the difference to determine if floating-point values are ‘close enough’\n",
    "    * The magnitude of their difference should be less than some threshold\n",
    "    * Mathematically, we would write that x and y are close enough if:\n",
    "    \n",
    "    $ |x - y| < \\epsilon $"
   ]
  },
  {
   "cell_type": "code",
   "execution_count": 51,
   "metadata": {},
   "outputs": [
    {
     "name": "stdout",
     "output_type": "stream",
     "text": [
      "sqrt(2.0) squared is approximately 2.0\n"
     ]
    }
   ],
   "source": [
    "EPSILON = 1.0e-10\n",
    "r = math.sqrt(2.0)\n",
    "if (abs(r * r - 2.0)) < EPSILON :\n",
    "    print(\"sqrt(2.0) squared is approximately 2.0\")\n",
    "else :\n",
    "    print(\"They are different\")"
   ]
  },
  {
   "cell_type": "markdown",
   "metadata": {},
   "source": [
    "* For more information, you can read https://docs.python.org/3/tutorial/floatingpoint.html"
   ]
  },
  {
   "cell_type": "markdown",
   "metadata": {},
   "source": [
    "## 2. Nested Branches\n",
    "\n",
    "* It is often necessary to include an **if** statement inside another.\n",
    "* Such an arrangement is called a **nested** set of statements.\n",
    "* Let's consider an example of tax rates depending on the taxpayer's marital status.\n",
    "\n",
    "<img src=\"lecture2-figure1.png\" style=\"height:500px\" align=\"left\">"
   ]
  },
  {
   "cell_type": "code",
   "execution_count": 25,
   "metadata": {},
   "outputs": [
    {
     "name": "stdout",
     "output_type": "stream",
     "text": [
      "Please enter your income: 2800\n",
      "Please enter s for single, m for married: m\n",
      "224.0\n"
     ]
    }
   ],
   "source": [
    "##\n",
    "# This program computes income taxes, using a simplified tax schedule.\n",
    "#\n",
    "\n",
    "# Initialize constant variables for the tax rates and rate limits.\n",
    "RATE_S, RATE_M, RATE_extra = 0.10, 0.08, 0.20\n",
    "RATE1_SINGLE_LIMIT = 30000.0\n",
    "RATE2_MARRIED_LIMIT = 50000.0\n",
    "\n",
    "# Read income and marital status.\n",
    "income = float(input(\"Please enter your income: \"))\n",
    "maritalStatus = input(\"Please enter s for single, m for married: \")\n",
    "\n",
    "# Compute taxes due.\n",
    "tax1, tax2 = 0.0, 0.0\n",
    "\n",
    "if maritalStatus == \"s\":\n",
    "    if income < RATE1_SINGLE_LIMIT:\n",
    "        tax1 = RATE_S * income\n",
    "    else:\n",
    "        tax1 = RATE_S * RATE1_SINGLE_LIMIT\n",
    "        tax2 = RATE_extra * (income - RATE1_SINGLE_LIMIT)\n",
    "else:\n",
    "    if income < RATE2_MARRIED_LIMIT:\n",
    "        tax1 = RATE_M * income\n",
    "    else:\n",
    "        tax1 = RATE_M * RATE2_MARRIED_LIMIT\n",
    "        tax2 = RATE_extra * (income - RATE2_MARRIED_LIMIT)\n",
    "    \n",
    "totalTax = tax1 + tax2\n",
    "print(totalTax)"
   ]
  },
  {
   "cell_type": "markdown",
   "metadata": {},
   "source": [
    "### Quiz2\n",
    "https://forms.gle/oZvsU3VMACyXER47A"
   ]
  },
  {
   "cell_type": "code",
   "execution_count": null,
   "metadata": {},
   "outputs": [],
   "source": []
  },
  {
   "cell_type": "markdown",
   "metadata": {},
   "source": [
    "## 3. Multiple Alternatives\n",
    "* In many situations, there are more than two cases. For example of the effect of earthquake, as measured by the Richter scale,\n",
    "\n",
    "| Value |                       Effect                         |\n",
    "|:-----:|:----------------------------------------------------:|\n",
    "|   8   |                Most structures fall                  |\n",
    "|   7   |              Many buildings destroyed                |\n",
    "|   6   | Many buildings considerably damaged, some collapse   |\n",
    "|  4.5  |       Damage to poorly constructed buildings         |"
   ]
  },
  {
   "cell_type": "markdown",
   "metadata": {},
   "source": [
    "* You can use multiple **if** statement to implement multiple alternatives, like,"
   ]
  },
  {
   "cell_type": "code",
   "execution_count": 55,
   "metadata": {},
   "outputs": [
    {
     "ename": "KeyboardInterrupt",
     "evalue": "",
     "output_type": "error",
     "traceback": [
      "\u001b[0;31m---------------------------------------------------------------------------\u001b[0m",
      "\u001b[0;31mKeyboardInterrupt\u001b[0m                         Traceback (most recent call last)",
      "\u001b[0;32m~/opt/anaconda3/lib/python3.7/site-packages/ipykernel/kernelbase.py\u001b[0m in \u001b[0;36m_input_request\u001b[0;34m(self, prompt, ident, parent, password)\u001b[0m\n\u001b[1;32m    883\u001b[0m             \u001b[0;32mtry\u001b[0m\u001b[0;34m:\u001b[0m\u001b[0;34m\u001b[0m\u001b[0;34m\u001b[0m\u001b[0m\n\u001b[0;32m--> 884\u001b[0;31m                 \u001b[0mident\u001b[0m\u001b[0;34m,\u001b[0m \u001b[0mreply\u001b[0m \u001b[0;34m=\u001b[0m \u001b[0mself\u001b[0m\u001b[0;34m.\u001b[0m\u001b[0msession\u001b[0m\u001b[0;34m.\u001b[0m\u001b[0mrecv\u001b[0m\u001b[0;34m(\u001b[0m\u001b[0mself\u001b[0m\u001b[0;34m.\u001b[0m\u001b[0mstdin_socket\u001b[0m\u001b[0;34m,\u001b[0m \u001b[0;36m0\u001b[0m\u001b[0;34m)\u001b[0m\u001b[0;34m\u001b[0m\u001b[0;34m\u001b[0m\u001b[0m\n\u001b[0m\u001b[1;32m    885\u001b[0m             \u001b[0;32mexcept\u001b[0m \u001b[0mException\u001b[0m\u001b[0;34m:\u001b[0m\u001b[0;34m\u001b[0m\u001b[0;34m\u001b[0m\u001b[0m\n",
      "\u001b[0;32m~/opt/anaconda3/lib/python3.7/site-packages/jupyter_client/session.py\u001b[0m in \u001b[0;36mrecv\u001b[0;34m(self, socket, mode, content, copy)\u001b[0m\n\u001b[1;32m    802\u001b[0m         \u001b[0;32mtry\u001b[0m\u001b[0;34m:\u001b[0m\u001b[0;34m\u001b[0m\u001b[0;34m\u001b[0m\u001b[0m\n\u001b[0;32m--> 803\u001b[0;31m             \u001b[0mmsg_list\u001b[0m \u001b[0;34m=\u001b[0m \u001b[0msocket\u001b[0m\u001b[0;34m.\u001b[0m\u001b[0mrecv_multipart\u001b[0m\u001b[0;34m(\u001b[0m\u001b[0mmode\u001b[0m\u001b[0;34m,\u001b[0m \u001b[0mcopy\u001b[0m\u001b[0;34m=\u001b[0m\u001b[0mcopy\u001b[0m\u001b[0;34m)\u001b[0m\u001b[0;34m\u001b[0m\u001b[0;34m\u001b[0m\u001b[0m\n\u001b[0m\u001b[1;32m    804\u001b[0m         \u001b[0;32mexcept\u001b[0m \u001b[0mzmq\u001b[0m\u001b[0;34m.\u001b[0m\u001b[0mZMQError\u001b[0m \u001b[0;32mas\u001b[0m \u001b[0me\u001b[0m\u001b[0;34m:\u001b[0m\u001b[0;34m\u001b[0m\u001b[0;34m\u001b[0m\u001b[0m\n",
      "\u001b[0;32m~/opt/anaconda3/lib/python3.7/site-packages/zmq/sugar/socket.py\u001b[0m in \u001b[0;36mrecv_multipart\u001b[0;34m(self, flags, copy, track)\u001b[0m\n\u001b[1;32m    474\u001b[0m         \"\"\"\n\u001b[0;32m--> 475\u001b[0;31m         \u001b[0mparts\u001b[0m \u001b[0;34m=\u001b[0m \u001b[0;34m[\u001b[0m\u001b[0mself\u001b[0m\u001b[0;34m.\u001b[0m\u001b[0mrecv\u001b[0m\u001b[0;34m(\u001b[0m\u001b[0mflags\u001b[0m\u001b[0;34m,\u001b[0m \u001b[0mcopy\u001b[0m\u001b[0;34m=\u001b[0m\u001b[0mcopy\u001b[0m\u001b[0;34m,\u001b[0m \u001b[0mtrack\u001b[0m\u001b[0;34m=\u001b[0m\u001b[0mtrack\u001b[0m\u001b[0;34m)\u001b[0m\u001b[0;34m]\u001b[0m\u001b[0;34m\u001b[0m\u001b[0;34m\u001b[0m\u001b[0m\n\u001b[0m\u001b[1;32m    476\u001b[0m         \u001b[0;31m# have first part already, only loop while more to receive\u001b[0m\u001b[0;34m\u001b[0m\u001b[0;34m\u001b[0m\u001b[0;34m\u001b[0m\u001b[0m\n",
      "\u001b[0;32mzmq/backend/cython/socket.pyx\u001b[0m in \u001b[0;36mzmq.backend.cython.socket.Socket.recv\u001b[0;34m()\u001b[0m\n",
      "\u001b[0;32mzmq/backend/cython/socket.pyx\u001b[0m in \u001b[0;36mzmq.backend.cython.socket.Socket.recv\u001b[0;34m()\u001b[0m\n",
      "\u001b[0;32mzmq/backend/cython/socket.pyx\u001b[0m in \u001b[0;36mzmq.backend.cython.socket._recv_copy\u001b[0;34m()\u001b[0m\n",
      "\u001b[0;32m~/opt/anaconda3/lib/python3.7/site-packages/zmq/backend/cython/checkrc.pxd\u001b[0m in \u001b[0;36mzmq.backend.cython.checkrc._check_rc\u001b[0;34m()\u001b[0m\n",
      "\u001b[0;31mKeyboardInterrupt\u001b[0m: ",
      "\nDuring handling of the above exception, another exception occurred:\n",
      "\u001b[0;31mKeyboardInterrupt\u001b[0m                         Traceback (most recent call last)",
      "\u001b[0;32m<ipython-input-55-7b955bb24a3d>\u001b[0m in \u001b[0;36m<module>\u001b[0;34m\u001b[0m\n\u001b[1;32m      4\u001b[0m \u001b[0;34m\u001b[0m\u001b[0m\n\u001b[1;32m      5\u001b[0m \u001b[0;31m#Obtain the user input.\u001b[0m\u001b[0;34m\u001b[0m\u001b[0;34m\u001b[0m\u001b[0;34m\u001b[0m\u001b[0m\n\u001b[0;32m----> 6\u001b[0;31m \u001b[0mrichter\u001b[0m \u001b[0;34m=\u001b[0m \u001b[0mfloat\u001b[0m\u001b[0;34m(\u001b[0m\u001b[0minput\u001b[0m\u001b[0;34m(\u001b[0m\u001b[0;34m\"Enter a magnitude on the Richter scale: \"\u001b[0m\u001b[0;34m)\u001b[0m\u001b[0;34m)\u001b[0m\u001b[0;34m\u001b[0m\u001b[0;34m\u001b[0m\u001b[0m\n\u001b[0m\u001b[1;32m      7\u001b[0m \u001b[0;34m\u001b[0m\u001b[0m\n\u001b[1;32m      8\u001b[0m \u001b[0;31m#Print the description.\u001b[0m\u001b[0;34m\u001b[0m\u001b[0;34m\u001b[0m\u001b[0;34m\u001b[0m\u001b[0m\n",
      "\u001b[0;32m~/opt/anaconda3/lib/python3.7/site-packages/ipykernel/kernelbase.py\u001b[0m in \u001b[0;36mraw_input\u001b[0;34m(self, prompt)\u001b[0m\n\u001b[1;32m    857\u001b[0m             \u001b[0mself\u001b[0m\u001b[0;34m.\u001b[0m\u001b[0m_parent_ident\u001b[0m\u001b[0;34m,\u001b[0m\u001b[0;34m\u001b[0m\u001b[0;34m\u001b[0m\u001b[0m\n\u001b[1;32m    858\u001b[0m             \u001b[0mself\u001b[0m\u001b[0;34m.\u001b[0m\u001b[0m_parent_header\u001b[0m\u001b[0;34m,\u001b[0m\u001b[0;34m\u001b[0m\u001b[0;34m\u001b[0m\u001b[0m\n\u001b[0;32m--> 859\u001b[0;31m             \u001b[0mpassword\u001b[0m\u001b[0;34m=\u001b[0m\u001b[0;32mFalse\u001b[0m\u001b[0;34m,\u001b[0m\u001b[0;34m\u001b[0m\u001b[0;34m\u001b[0m\u001b[0m\n\u001b[0m\u001b[1;32m    860\u001b[0m         )\n\u001b[1;32m    861\u001b[0m \u001b[0;34m\u001b[0m\u001b[0m\n",
      "\u001b[0;32m~/opt/anaconda3/lib/python3.7/site-packages/ipykernel/kernelbase.py\u001b[0m in \u001b[0;36m_input_request\u001b[0;34m(self, prompt, ident, parent, password)\u001b[0m\n\u001b[1;32m    887\u001b[0m             \u001b[0;32mexcept\u001b[0m \u001b[0mKeyboardInterrupt\u001b[0m\u001b[0;34m:\u001b[0m\u001b[0;34m\u001b[0m\u001b[0;34m\u001b[0m\u001b[0m\n\u001b[1;32m    888\u001b[0m                 \u001b[0;31m# re-raise KeyboardInterrupt, to truncate traceback\u001b[0m\u001b[0;34m\u001b[0m\u001b[0;34m\u001b[0m\u001b[0;34m\u001b[0m\u001b[0m\n\u001b[0;32m--> 889\u001b[0;31m                 \u001b[0;32mraise\u001b[0m \u001b[0mKeyboardInterrupt\u001b[0m\u001b[0;34m\u001b[0m\u001b[0;34m\u001b[0m\u001b[0m\n\u001b[0m\u001b[1;32m    890\u001b[0m             \u001b[0;32melse\u001b[0m\u001b[0;34m:\u001b[0m\u001b[0;34m\u001b[0m\u001b[0;34m\u001b[0m\u001b[0m\n\u001b[1;32m    891\u001b[0m                 \u001b[0;32mbreak\u001b[0m\u001b[0;34m\u001b[0m\u001b[0;34m\u001b[0m\u001b[0m\n",
      "\u001b[0;31mKeyboardInterrupt\u001b[0m: "
     ]
    }
   ],
   "source": [
    "##\n",
    "# This program prints a description of an earthquake, given the Richter scale magnitude.\n",
    "#\n",
    "\n",
    "#Obtain the user input.\n",
    "richter = float(input(\"Enter a magnitude on the Richter scale: \"))\n",
    "\n",
    "#Print the description.\n",
    "if richter >= 8.0:\n",
    "    print(\"Most structures fall\")\n",
    "else:\n",
    "    if richter >= 7.0:\n",
    "        print(\"Many buildings destroyed\")\n",
    "    else:\n",
    "        if richter >= 6.0:\n",
    "            print(\"Many buildings considerably damaged, some collapse\")\n",
    "        else:\n",
    "            if richter >= 4.5:\n",
    "                print(\"Damage to poorly constructed buildings\")\n",
    "            else:\n",
    "                print(\"No description of buildings\")"
   ]
  },
  {
   "cell_type": "markdown",
   "metadata": {},
   "source": [
    "* However, this becomes difficult to read and, as the number of branches increases, the code begins to shift further and further to the right due to the required indentation.\n",
    "* Python provides the special construct **elif** for creating **if** statements containing multiple branches."
   ]
  },
  {
   "cell_type": "code",
   "execution_count": null,
   "metadata": {},
   "outputs": [],
   "source": [
    "##\n",
    "# This program prints a description of an earthquake, given the Richter scale magnitude.\n",
    "#\n",
    "\n",
    "#Obtain the user input.\n",
    "richter = float(input(\"Enter a magnitude on the Richter scale: \"))\n",
    "\n",
    "#Print the description.\n",
    "if richter >= 8.0:\n",
    "    print(\"Most structures fall\")\n",
    "elif richter >= 7.0:\n",
    "    print(\"Many buildings destroyed\")\n",
    "elif richter >= 6.0:\n",
    "    print(\"Many buildings considerably damaged, some collapse\")\n",
    "elif richter >= 4.5:\n",
    "    print(\"Damage to poorly constructed buildings\")\n",
    "else:\n",
    "    print(\"No description of buildings\")"
   ]
  },
  {
   "cell_type": "markdown",
   "metadata": {},
   "source": [
    "* As soon as one on the test conditions succeeds, the statement block is executed\n",
    "    * No other tests are attempted\n",
    "* If none of the test conditions succeed the final else clause is executed\n",
    "\n",
    "### Quiz3\n",
    "https://forms.gle/R76EUTdXwxLbQJJ46"
   ]
  },
  {
   "cell_type": "code",
   "execution_count": null,
   "metadata": {},
   "outputs": [],
   "source": []
  },
  {
   "cell_type": "markdown",
   "metadata": {},
   "source": [
    "### Mini Exercise \n",
    "* Write a conditional statement with three branches that set s to 1 if x is positive, to -1 if x is negative, and to 0 if x is zero."
   ]
  },
  {
   "cell_type": "code",
   "execution_count": 49,
   "metadata": {},
   "outputs": [
    {
     "name": "stdout",
     "output_type": "stream",
     "text": [
      "Enter the number x :9\n",
      "x = 1\n"
     ]
    }
   ],
   "source": [
    "#your code here\n",
    "\n",
    "s = float(input(\"Enter the number x :\"))\n",
    "\n",
    "if s > 0 : \n",
    "    print(\"x = 1\")\n",
    "elif s == 0 :\n",
    "    print(\"x = 0\")\n",
    "else :\n",
    "    print(\"x = -1\")\n",
    "\n",
    "\n"
   ]
  },
  {
   "cell_type": "markdown",
   "metadata": {},
   "source": [
    "## 4. Boolean Variables"
   ]
  },
  {
   "cell_type": "markdown",
   "metadata": {},
   "source": [
    "* A Boolean variable is often called a flag because it can be either up (true) or down (false)\n",
    "* **boolean** is a Python data type\n",
    "* Boolean variables can be either **True** or **False**\n",
    "* There are two Boolean Operators: **and**, **or**\n",
    "    * They are used to combine multiple conditions\n",
    "    \n",
    "### Combined conditions\n",
    "* Combining two conditions is often used in range checking\n",
    "    * Is a value between two other values?\n",
    "* Both sides of the **and** must be true for the result to be true"
   ]
  },
  {
   "cell_type": "code",
   "execution_count": 41,
   "metadata": {},
   "outputs": [],
   "source": [
    "temp = 200\n",
    "\n",
    "if (temp > 0) & (temp < 100) : \n",
    "    print(\"Liquid\")"
   ]
  },
  {
   "cell_type": "code",
   "execution_count": 42,
   "metadata": {},
   "outputs": [
    {
     "name": "stdout",
     "output_type": "stream",
     "text": [
      "Liquid\n"
     ]
    }
   ],
   "source": [
    "temp = 200\n",
    "\n",
    "if temp > 0 & temp < 100 : \n",
    "    print(\"Liquid\")"
   ]
  },
  {
   "cell_type": "code",
   "execution_count": 43,
   "metadata": {},
   "outputs": [],
   "source": [
    "temp = 200\n",
    "\n",
    "if temp > 0 and temp < 100 : \n",
    "    print(\"Liquid\")"
   ]
  },
  {
   "cell_type": "code",
   "execution_count": 144,
   "metadata": {},
   "outputs": [],
   "source": [
    "temp = 200\n",
    "\n",
    "if (temp > 0) and (temp < 100): \n",
    "    print(\"Liquid\")"
   ]
  },
  {
   "cell_type": "markdown",
   "metadata": {},
   "source": [
    "* We use **or** if only one of two conditions need to be true\n",
    "    * Use a compound conditional with an **or**:\n",
    "* If either condition is true, the result is true"
   ]
  },
  {
   "cell_type": "code",
   "execution_count": 33,
   "metadata": {},
   "outputs": [
    {
     "name": "stdout",
     "output_type": "stream",
     "text": [
      "Not liquid\n"
     ]
    }
   ],
   "source": [
    "if temp <= 0 or temp >= 100 :\n",
    "    print(\"Not liquid\")"
   ]
  },
  {
   "cell_type": "code",
   "execution_count": 46,
   "metadata": {},
   "outputs": [
    {
     "name": "stdout",
     "output_type": "stream",
     "text": [
      "Not liquid\n"
     ]
    }
   ],
   "source": [
    "if temp <= 0 | temp >= 100 :\n",
    "    print(\"Not liquid\")"
   ]
  },
  {
   "cell_type": "code",
   "execution_count": 47,
   "metadata": {},
   "outputs": [
    {
     "name": "stdout",
     "output_type": "stream",
     "text": [
      "Not liquid\n"
     ]
    }
   ],
   "source": [
    "if (temp <= 0) or (temp >= 100) :\n",
    "    print(\"Not liquid\")"
   ]
  },
  {
   "cell_type": "code",
   "execution_count": 48,
   "metadata": {},
   "outputs": [
    {
     "name": "stdout",
     "output_type": "stream",
     "text": [
      "Not liquid\n"
     ]
    }
   ],
   "source": [
    "if (temp <= 0) | (temp >= 100) :\n",
    "    print(\"Not liquid\")"
   ]
  },
  {
   "cell_type": "markdown",
   "metadata": {},
   "source": [
    "* If you need to invert a boolean variable or comparison, precede it with **not**"
   ]
  },
  {
   "cell_type": "code",
   "execution_count": 34,
   "metadata": {},
   "outputs": [
    {
     "name": "stdout",
     "output_type": "stream",
     "text": [
      "Gas\n"
     ]
    }
   ],
   "source": [
    "if not (temp < 100):\n",
    "    print(\"Gas\")"
   ]
  },
  {
   "cell_type": "markdown",
   "metadata": {},
   "source": [
    "### Quiz4\n",
    "https://forms.gle/kc8FSLkRx43yNr5A7"
   ]
  },
  {
   "cell_type": "code",
   "execution_count": null,
   "metadata": {},
   "outputs": [],
   "source": []
  },
  {
   "cell_type": "markdown",
   "metadata": {},
   "source": [
    "## 5. Analyzing Strings\n"
   ]
  },
  {
   "cell_type": "markdown",
   "metadata": {},
   "source": [
    "* Sometimes it’s necessary to analyze or ask certain questions about a particular string.\n",
    "    * Sometimes it is necessary to determine if a string contains a given substring. That is, one string contains an exact match of another string.\n",
    "* Given this code segment,\n",
    "    * department = \"KAIST Business School\"\n",
    "* the expression\n",
    "    * \"Bus\" in department\n",
    "* yields **True** because the substring \"Bus\" occurs within the string stored in variable name\n",
    "* The **not in** operator is the inverse on the **in** operator"
   ]
  },
  {
   "cell_type": "code",
   "execution_count": 56,
   "metadata": {},
   "outputs": [],
   "source": [
    "department = \"KAIST Business School\""
   ]
  },
  {
   "cell_type": "code",
   "execution_count": null,
   "metadata": {},
   "outputs": [],
   "source": []
  },
  {
   "cell_type": "markdown",
   "metadata": {},
   "source": [
    "### 5.1 Substring: Suffixes\n",
    "* Suppose you are given the name of a file and need to ensure that it has the correct extension\n",
    "* The endswith() string method is applied to the string stored in filename and returns True if the string ends with the substring \".txt\" and False otherwise."
   ]
  },
  {
   "cell_type": "code",
   "execution_count": null,
   "metadata": {},
   "outputs": [],
   "source": [
    "filename = \"lecture.txt\"\n",
    "if filename.endswith(\".txt\"):\n",
    "    print(\"This is a TXT file.\")\n",
    "else:\n",
    "    print(\"This is not a TXT file.\")"
   ]
  },
  {
   "cell_type": "markdown",
   "metadata": {},
   "source": [
    "### 5.2 Operations for testing substrings"
   ]
  },
  {
   "cell_type": "code",
   "execution_count": 26,
   "metadata": {},
   "outputs": [],
   "source": [
    "name = \"KAIST Business School\""
   ]
  },
  {
   "cell_type": "code",
   "execution_count": 63,
   "metadata": {},
   "outputs": [
    {
     "data": {
      "text/plain": [
       "'KAISTBusinessSchool'"
      ]
     },
     "execution_count": 63,
     "metadata": {},
     "output_type": "execute_result"
    }
   ],
   "source": [
    "name_1 = name.replace(\" \",\"\")\n",
    "name_1"
   ]
  },
  {
   "cell_type": "markdown",
   "metadata": {},
   "source": [
    "* s.count(*substring*): Returns the number of non-overlapping occurences of *substring* in the string *s*."
   ]
  },
  {
   "cell_type": "code",
   "execution_count": 27,
   "metadata": {},
   "outputs": [
    {
     "data": {
      "text/plain": [
       "3"
      ]
     },
     "execution_count": 27,
     "metadata": {},
     "output_type": "execute_result"
    }
   ],
   "source": [
    "name.count(\"s\")"
   ]
  },
  {
   "cell_type": "code",
   "execution_count": 61,
   "metadata": {},
   "outputs": [
    {
     "data": {
      "text/plain": [
       "3"
      ]
     },
     "execution_count": 61,
     "metadata": {},
     "output_type": "execute_result"
    }
   ],
   "source": [
    "name_1.count(\"s\")"
   ]
  },
  {
   "cell_type": "markdown",
   "metadata": {},
   "source": [
    "* s.startswith(*substring*): Returns **True** if the string *s* begins with *substring* and **False** otherwise."
   ]
  },
  {
   "cell_type": "code",
   "execution_count": 64,
   "metadata": {},
   "outputs": [
    {
     "data": {
      "text/plain": [
       "True"
      ]
     },
     "execution_count": 64,
     "metadata": {},
     "output_type": "execute_result"
    }
   ],
   "source": [
    "name.startswith(\"KAI\")"
   ]
  },
  {
   "cell_type": "code",
   "execution_count": 75,
   "metadata": {},
   "outputs": [
    {
     "ename": "AttributeError",
     "evalue": "'str' object has no attribute 'startwith'",
     "output_type": "error",
     "traceback": [
      "\u001b[0;31m---------------------------------------------------------------------------\u001b[0m",
      "\u001b[0;31mAttributeError\u001b[0m                            Traceback (most recent call last)",
      "\u001b[0;32m<ipython-input-75-44a238d8c835>\u001b[0m in \u001b[0;36m<module>\u001b[0;34m\u001b[0m\n\u001b[0;32m----> 1\u001b[0;31m \u001b[0mname_1\u001b[0m\u001b[0;34m.\u001b[0m\u001b[0mstartwith\u001b[0m\u001b[0;34m(\u001b[0m\u001b[0;34m\"K\"\u001b[0m\u001b[0;34m)\u001b[0m\u001b[0;34m\u001b[0m\u001b[0;34m\u001b[0m\u001b[0m\n\u001b[0m",
      "\u001b[0;31mAttributeError\u001b[0m: 'str' object has no attribute 'startwith'"
     ]
    }
   ],
   "source": [
    "name_1.startwith(\"K\")"
   ]
  },
  {
   "cell_type": "markdown",
   "metadata": {},
   "source": [
    "* s.find(*substring*): Returns the lowest index in the string *s* where *substring* begins, or -1 if *substring* is not found."
   ]
  },
  {
   "cell_type": "code",
   "execution_count": 29,
   "metadata": {},
   "outputs": [
    {
     "data": {
      "text/plain": [
       "6"
      ]
     },
     "execution_count": 29,
     "metadata": {},
     "output_type": "execute_result"
    }
   ],
   "source": [
    "name.find(\"Business\")"
   ]
  },
  {
   "cell_type": "code",
   "execution_count": 76,
   "metadata": {},
   "outputs": [
    {
     "ename": "AttributeError",
     "evalue": "'str' object has no attribute 'fine'",
     "output_type": "error",
     "traceback": [
      "\u001b[0;31m---------------------------------------------------------------------------\u001b[0m",
      "\u001b[0;31mAttributeError\u001b[0m                            Traceback (most recent call last)",
      "\u001b[0;32m<ipython-input-76-ca9e87ea4b5f>\u001b[0m in \u001b[0;36m<module>\u001b[0;34m\u001b[0m\n\u001b[0;32m----> 1\u001b[0;31m \u001b[0mname_1\u001b[0m\u001b[0;34m.\u001b[0m\u001b[0mfine\u001b[0m\u001b[0;34m(\u001b[0m\u001b[0;34m\"Business\"\u001b[0m\u001b[0;34m)\u001b[0m\u001b[0;34m\u001b[0m\u001b[0;34m\u001b[0m\u001b[0m\n\u001b[0m",
      "\u001b[0;31mAttributeError\u001b[0m: 'str' object has no attribute 'fine'"
     ]
    }
   ],
   "source": [
    "name_1.fine(\"Business\")"
   ]
  },
  {
   "cell_type": "markdown",
   "metadata": {},
   "source": [
    "* s.isalnum(): Returns **True** if string *s* consists of only letters or digits and it contains at least one character. Otherwise it returns **False**."
   ]
  },
  {
   "cell_type": "code",
   "execution_count": 30,
   "metadata": {},
   "outputs": [
    {
     "data": {
      "text/plain": [
       "False"
      ]
     },
     "execution_count": 30,
     "metadata": {},
     "output_type": "execute_result"
    }
   ],
   "source": [
    "name.isalnum()"
   ]
  },
  {
   "cell_type": "code",
   "execution_count": 77,
   "metadata": {},
   "outputs": [
    {
     "data": {
      "text/plain": [
       "True"
      ]
     },
     "execution_count": 77,
     "metadata": {},
     "output_type": "execute_result"
    }
   ],
   "source": [
    "name_1.isalnum()"
   ]
  },
  {
   "cell_type": "markdown",
   "metadata": {},
   "source": [
    "* s.isalpha(): Returns **True** if string *s* consists of only letters and contains at least one character. Otherwise it returns **False**."
   ]
  },
  {
   "cell_type": "code",
   "execution_count": 57,
   "metadata": {},
   "outputs": [
    {
     "data": {
      "text/plain": [
       "False"
      ]
     },
     "execution_count": 57,
     "metadata": {},
     "output_type": "execute_result"
    }
   ],
   "source": [
    "name.isalpha()"
   ]
  },
  {
   "cell_type": "code",
   "execution_count": 78,
   "metadata": {},
   "outputs": [
    {
     "data": {
      "text/plain": [
       "True"
      ]
     },
     "execution_count": 78,
     "metadata": {},
     "output_type": "execute_result"
    }
   ],
   "source": [
    "name_1.isalpha()"
   ]
  },
  {
   "cell_type": "markdown",
   "metadata": {},
   "source": [
    "* s.isdigit(): Returns **True** if string *s* consists of only digits and contains at least one character. Otherwise it returns **False**."
   ]
  },
  {
   "cell_type": "code",
   "execution_count": 58,
   "metadata": {},
   "outputs": [
    {
     "data": {
      "text/plain": [
       "False"
      ]
     },
     "execution_count": 58,
     "metadata": {},
     "output_type": "execute_result"
    }
   ],
   "source": [
    "name.isdigit()"
   ]
  },
  {
   "cell_type": "code",
   "execution_count": 79,
   "metadata": {},
   "outputs": [
    {
     "data": {
      "text/plain": [
       "False"
      ]
     },
     "execution_count": 79,
     "metadata": {},
     "output_type": "execute_result"
    }
   ],
   "source": [
    "name_1.isdigit()"
   ]
  },
  {
   "cell_type": "markdown",
   "metadata": {},
   "source": [
    "* s.islower(): Returns **True** if string *s* contains at least one letter and all letters in the string are lowercase. Otherwise it returns **False**."
   ]
  },
  {
   "cell_type": "code",
   "execution_count": 80,
   "metadata": {},
   "outputs": [
    {
     "data": {
      "text/plain": [
       "False"
      ]
     },
     "execution_count": 80,
     "metadata": {},
     "output_type": "execute_result"
    }
   ],
   "source": [
    "name.islower()"
   ]
  },
  {
   "cell_type": "code",
   "execution_count": 83,
   "metadata": {},
   "outputs": [
    {
     "data": {
      "text/plain": [
       "False"
      ]
     },
     "execution_count": 83,
     "metadata": {},
     "output_type": "execute_result"
    }
   ],
   "source": [
    "name_1.islower()"
   ]
  },
  {
   "cell_type": "markdown",
   "metadata": {},
   "source": [
    "* s.isspace(): Returns **True** if string *s* consists of only white space characters (blank, newline, tab). Otherwise it returns **False**."
   ]
  },
  {
   "cell_type": "code",
   "execution_count": 81,
   "metadata": {},
   "outputs": [
    {
     "data": {
      "text/plain": [
       "False"
      ]
     },
     "execution_count": 81,
     "metadata": {},
     "output_type": "execute_result"
    }
   ],
   "source": [
    "name.isspace()"
   ]
  },
  {
   "cell_type": "code",
   "execution_count": 84,
   "metadata": {},
   "outputs": [
    {
     "data": {
      "text/plain": [
       "False"
      ]
     },
     "execution_count": 84,
     "metadata": {},
     "output_type": "execute_result"
    }
   ],
   "source": [
    "name_1.isspace()"
   ]
  },
  {
   "cell_type": "markdown",
   "metadata": {},
   "source": [
    "* s.isupper(): Returns **True** if string *s* contains at least one letter and all letters in the string are uppercase. Otherwise it returns **False**."
   ]
  },
  {
   "cell_type": "code",
   "execution_count": 82,
   "metadata": {},
   "outputs": [
    {
     "data": {
      "text/plain": [
       "False"
      ]
     },
     "execution_count": 82,
     "metadata": {},
     "output_type": "execute_result"
    }
   ],
   "source": [
    "name.isupper()"
   ]
  },
  {
   "cell_type": "code",
   "execution_count": 85,
   "metadata": {},
   "outputs": [
    {
     "ename": "AttributeError",
     "evalue": "'str' object has no attribute 'supper'",
     "output_type": "error",
     "traceback": [
      "\u001b[0;31m---------------------------------------------------------------------------\u001b[0m",
      "\u001b[0;31mAttributeError\u001b[0m                            Traceback (most recent call last)",
      "\u001b[0;32m<ipython-input-85-576c9db92c35>\u001b[0m in \u001b[0;36m<module>\u001b[0;34m\u001b[0m\n\u001b[0;32m----> 1\u001b[0;31m \u001b[0mname_1\u001b[0m\u001b[0;34m.\u001b[0m\u001b[0msupper\u001b[0m\u001b[0;34m(\u001b[0m\u001b[0;34m)\u001b[0m\u001b[0;34m\u001b[0m\u001b[0;34m\u001b[0m\u001b[0m\n\u001b[0m",
      "\u001b[0;31mAttributeError\u001b[0m: 'str' object has no attribute 'supper'"
     ]
    }
   ],
   "source": [
    "name_1.supper()"
   ]
  },
  {
   "cell_type": "markdown",
   "metadata": {},
   "source": [
    "* More of string methods can be found here:\n",
    "https://docs.python.org/3/library/stdtypes.html#string-methods"
   ]
  },
  {
   "cell_type": "markdown",
   "metadata": {},
   "source": [
    "## Exercise"
   ]
  },
  {
   "cell_type": "markdown",
   "metadata": {},
   "source": [
    "### Exercise 1. 정답"
   ]
  },
  {
   "cell_type": "markdown",
   "metadata": {},
   "source": [
    "1. Write a program that asks a number via input() function and to check whether the given number is even or odd. Print out an appropriate message to the user."
   ]
  },
  {
   "cell_type": "code",
   "execution_count": 170,
   "metadata": {},
   "outputs": [
    {
     "name": "stdout",
     "output_type": "stream",
     "text": [
      "Find out if your number is even or odd : 1.1\n",
      "Sorry! Pls input ONLY interger\n"
     ]
    }
   ],
   "source": [
    "# 모든 실수를 입력할 수 있도록 작성\n",
    "ex_1 = float(input(\"Find out if your number is even or odd : \"))\n",
    "\n",
    "if ex_1>0 :\n",
    "    if ex_1%2 == 0 :\n",
    "        print(\"Your number is Even!\")\n",
    "    elif ex_1%2 == 1 :\n",
    "        print(\"Your number is Odd!\")\n",
    "    else :\n",
    "        print(\"Sorry! Pls input ONLY interger\")\n",
    "\n",
    "elif ex_1 < 0 :\n",
    "    if abs(ex_1%2) == 0 or abs(ex_1%2) == 1 : \n",
    "        print(\"Your number is Negative Integer\")\n",
    "    else : \n",
    "        print(\"Sorry! Pls input ONLY interger\")\n",
    "        \n",
    "            \n",
    "else :\n",
    "     print(\"Your number is Zero !\")"
   ]
  },
  {
   "cell_type": "markdown",
   "metadata": {},
   "source": [
    "### Exercise 2. 정답"
   ]
  },
  {
   "cell_type": "markdown",
   "metadata": {},
   "source": [
    "2. Write a program that reads a floating number and prints \"zero\" if the number is zero. Otherwise, print \"positive\" or \"negative\". Add \"small\" if the absolute value of the number is less than 1, or \"large\" if it exceeds 1,000,000."
   ]
  },
  {
   "cell_type": "code",
   "execution_count": 175,
   "metadata": {},
   "outputs": [
    {
     "name": "stdout",
     "output_type": "stream",
     "text": [
      "Pls input any number : -0.1\n",
      "Your Number Is : \"Negative\" & \"Small\"\n"
     ]
    }
   ],
   "source": [
    "# your code here\n",
    "\n",
    "ex_2 = float(input(\"Pls input any number : \"))\n",
    "\n",
    "if ex_2 > 0 : \n",
    "    if ex_2 > 1000000 : \n",
    "        print(\"Your Number Is : \\\"Positive\\\" & \\\"Large\\\"\")\n",
    "    elif ex_2 < 1 :\n",
    "        print(\"Your Number Is : \\\"Positive\\\" & \\\"Small\\\"\")\n",
    "    else :\n",
    "        print(\"Your Number Is : \\\"Positive\\\"\")\n",
    "        \n",
    "elif ex_2 <0 :\n",
    "    if abs(ex_2) > 1000000 : \n",
    "        print(\"Your Number Is : \\\"Negative\\\" & \\\"Large\\\"\")\n",
    "    elif abs(ex_2) < 1 :\n",
    "        print(\"Your Number Is : \\\"Negative\\\" & \\\"Small\\\"\")\n",
    "    else :\n",
    "        print(\"Your Number Is : \\\"Negative\\\"\")   \n",
    "\n",
    "else :\n",
    "    print(\"Your Number Is : \\\"Zero\\\"\")\n",
    "        "
   ]
  },
  {
   "cell_type": "markdown",
   "metadata": {},
   "source": [
    "### Exercise 3. 정답"
   ]
  },
  {
   "cell_type": "markdown",
   "metadata": {},
   "source": [
    "3. Write a program that asks for the user's name via input() function. If the name is \"Bond\" make it print \"Welcome on board 007.\" Otherwise make it print \"Good morning NAME\". (Replace NAME with user's input name)"
   ]
  },
  {
   "cell_type": "code",
   "execution_count": 188,
   "metadata": {},
   "outputs": [
    {
     "name": "stdout",
     "output_type": "stream",
     "text": [
      "What is your name ? : yejin\n",
      "Good morning YEJIN\n"
     ]
    }
   ],
   "source": [
    "# your code here\n",
    "\n",
    "ex_3 = input(\"What is your name ? : \")\n",
    "\n",
    "if ex_3.lower() == 'bond' : \n",
    "        print(\"Welcome on board 007\")\n",
    "\n",
    "else :\n",
    "        print(\"Good morning\", ex_3.upper())"
   ]
  },
  {
   "cell_type": "markdown",
   "metadata": {},
   "source": [
    "### Exercise 4. 정답"
   ]
  },
  {
   "cell_type": "markdown",
   "metadata": {},
   "source": [
    "4. Write a program that asks for a score between 0.0 and 1.0 via input() function. If the score is out of range, print an error message \"Out of range!\". If the score is between 0.0 and 1.0, print a grade using the following table:\n",
    "\n",
    "| Score |                       Grade                         |\n",
    "|:-----:|:----------------------------------------------------:|\n",
    "| >=0.9 | A |\n",
    "| >=0.8 | B |\n",
    "| >=0.7 | C |\n",
    "| >=0.6 | D |\n",
    "| <0.6  | F |"
   ]
  },
  {
   "cell_type": "code",
   "execution_count": 196,
   "metadata": {},
   "outputs": [
    {
     "name": "stdout",
     "output_type": "stream",
     "text": [
      "Pls input your score :0.99\n",
      "Your Grade Is \"A\"\n"
     ]
    }
   ],
   "source": [
    "# your code here\n",
    "\n",
    "ex_4 = float(input(\"Pls input your score :\"))\n",
    "\n",
    "if round(ex_4,1) >= 0 and round(ex_4,1) <= 1 :\n",
    "    if round(ex_4,1) >= 0.9 :\n",
    "        print(\"Your Grade Is \\\"A\\\"\")\n",
    "    elif round(ex_4,1) >= 0.8 :\n",
    "        print(\"Your Grade Is \\\"B\\\"\")\n",
    "    elif round(ex_4,1) >= 0.7 :\n",
    "        print(\"Your Grade Is \\\"C\\\"\")\n",
    "    elif round(ex_4,1) >= 0.6 :\n",
    "        print(\"Your Grade Is \\\"D\\\"\")\n",
    "    else : \n",
    "        print(\"Your Grade Is \\\"F\\\"\")\n",
    "        \n",
    "else :\n",
    "    print(\"Out of range\")\n",
    "        "
   ]
  },
  {
   "cell_type": "markdown",
   "metadata": {},
   "source": [
    "### Exercise 5. 정답"
   ]
  },
  {
   "cell_type": "markdown",
   "metadata": {},
   "source": [
    "5. Write a program to sum of two given integers (prompt from user). However, if the sum is between 20 to 50 it will return 30."
   ]
  },
  {
   "cell_type": "code",
   "execution_count": 317,
   "metadata": {},
   "outputs": [
    {
     "name": "stdout",
     "output_type": "stream",
     "text": [
      "1.Pls input your 1st number.5\n",
      "2.Pls input your 2nd number.6\n",
      "SUM : 11.0\n"
     ]
    }
   ],
   "source": [
    "x = float(input(\"1.Pls input your 1st number.\"))\n",
    "y = float(input(\"2.Pls input your 2nd number.\"))\n",
    "\n",
    "\n",
    "if abs(x%2) == 0 or abs(x%2) == 1 or abs(y%2) == 0 or abs(y%2) == 1 :\n",
    "        if x+y in range(20,50) :\n",
    "            print(\"SUM :\", 30)\n",
    "        else :\n",
    "            print(\"SUM :\", x+y)\n",
    "\n",
    "else :\n",
    "    print(\"SUM : Pls input integer ONLY!\")"
   ]
  },
  {
   "cell_type": "markdown",
   "metadata": {},
   "source": [
    "### Exercise 6. 정답"
   ]
  },
  {
   "cell_type": "markdown",
   "metadata": {},
   "source": [
    "6. When you use an automated teller machine (ATM) with your bank card, you need to use a personal identification number (PIN) to access your account. If a user fails more than three times when entering the PIN, the machine will block the card.<br/>\n",
    "   Assume that the user's PIN is \"1234\" and write a program that askes the user for the PIN no more than three times, and does the following:\n",
    "   * If the user enters the right number, print a message saying \"Your PIN is correct\", and end the program.\n",
    "   * If the user enters a wrong number, print a message saying, \"Your PIN is incorrect\" and, if you have asked for the PIN less than three times, ask for it again.\n",
    "   * If the user enters a wrong number three times, print a message saying \"Your bank card is blocked\" and end the program."
   ]
  },
  {
   "cell_type": "code",
   "execution_count": 366,
   "metadata": {},
   "outputs": [
    {
     "name": "stdout",
     "output_type": "stream",
     "text": [
      "PLS ENTER YOUR PIN NUMBER : 1\n",
      "Trial : 1 회,  Your PIN is incorrect\n",
      "PLS ENTER YOUR PIN NUMBER : 1\n",
      "Trial : 2 회,  Your PIN is incorrect\n",
      "PLS ENTER YOUR PIN NUMBER : 1\n",
      "Trial : 3 회,  Your bank card is blocked\n",
      "PLS ENTER YOUR PIN NUMBER : 3\n",
      "Trial : 4 회,  will be deactivated soon\n",
      "PLS ENTER YOUR PIN NUMBER : 4\n",
      "Trial : 5 회,  will be deactivated soon\n",
      "PLS ENTER YOUR PIN NUMBER : 4\n",
      "Trial : 6 회,  will be deactivated soon\n",
      "PLS ENTER YOUR PIN NUMBER : 3\n",
      "Trial : 7 회,  will be deactivated soon\n",
      "PLS ENTER YOUR PIN NUMBER : 3\n",
      "Trial : 8 회,  will be deactivated soon\n",
      "PLS ENTER YOUR PIN NUMBER : 3\n",
      "Trial : 9 회,  will be deactivated soon\n",
      "PLS ENTER YOUR PIN NUMBER : 0\n",
      "Trial : 10 회,  DEACTIVATED\n"
     ]
    }
   ],
   "source": [
    "n = 0\n",
    "while n>= 0 :\n",
    "    n += 1\n",
    "    ex_6 = int(input(\"PLS ENTER YOUR PIN NUMBER : \"))\n",
    "    if n in [1,2] :\n",
    "        if ex_6 == 1234 :\n",
    "            print(\"Trial :\",n,\"회, \", \"Your PIN is correct\")\n",
    "            break\n",
    "        else :\n",
    "            print(\"Trial :\",n,\"회, \",\"Your PIN is incorrect\")\n",
    "            continue\n",
    "    elif n == 3 :\n",
    "        if ex_6 == 1234 :\n",
    "            print(\"Trial :\",n,\"회, \",\"Your PIN is correct\")\n",
    "            break\n",
    "        else :\n",
    "            print(\"Trial :\",n,\"회, \",\"Your bank card is blocked\") \n",
    "            continue\n",
    "        \n",
    "    elif n>=4 and n <10 : # 4회이상 10회 미만 잘못 입력 시, 경고 \n",
    "        print(\"Trial :\",n,\"회, \",\"will be deactivated soon\")\n",
    "        continue\n",
    "    else : # 10회, 사용중지 경고문과 함게 함수 작동 중지 \n",
    "        print(\"Trial :\",n,\"회, \",\"DEACTIVATED\")\n",
    "        break "
   ]
  },
  {
   "cell_type": "markdown",
   "metadata": {},
   "source": [
    "### Exercise 7. 정답"
   ]
  },
  {
   "cell_type": "markdown",
   "metadata": {},
   "source": [
    "7. Write a program that reads three numbers and prints \"all the same\" if they are all the same, \"all different\" if they are all different, and \"neither\" otherwise."
   ]
  },
  {
   "cell_type": "code",
   "execution_count": 372,
   "metadata": {},
   "outputs": [
    {
     "name": "stdout",
     "output_type": "stream",
     "text": [
      "1.Pls input your 1st number : 12\n",
      "2.Pls input your 2nd number : 23\n",
      "3.Pls input your 3rd number : 45\n",
      "ALL DIFFERENT\n"
     ]
    }
   ],
   "source": [
    "# your code here\n",
    "\n",
    "ex_7_1 = float(input(\"1.Pls input your 1st number : \"))\n",
    "ex_7_2 = float(input(\"2.Pls input your 2nd number : \"))\n",
    "ex_7_3 = float(input(\"3.Pls input your 3rd number : \"))\n",
    "\n",
    "if ex_7_1 == ex_7_2 == ex_7_3 :\n",
    "    print(\"ALL THE SAME\")\n",
    "elif ex_7_1 != ex_7_2 != ex_7_3 :\n",
    "    print(\"ALL DIFFERENT\")\n",
    "    \n",
    "else :\n",
    "    print(\"NEITHER\")\n"
   ]
  },
  {
   "cell_type": "markdown",
   "metadata": {},
   "source": [
    "## References\n",
    "* Horstmann, C. S., & Necaise, R. D. (2015). Python for everyone. Wiley Publishing.\n",
    "* 박진수 (2020). 바로 쓰는 파이썬. 서울대학교출판문화원\n",
    "* Python for Everybody Specialization on Coursera: https://www.coursera.org/specializations/python"
   ]
  },
  {
   "cell_type": "code",
   "execution_count": null,
   "metadata": {},
   "outputs": [],
   "source": []
  }
 ],
 "metadata": {
  "kernelspec": {
   "display_name": "Python 3",
   "language": "python",
   "name": "python3"
  },
  "language_info": {
   "codemirror_mode": {
    "name": "ipython",
    "version": 3
   },
   "file_extension": ".py",
   "mimetype": "text/x-python",
   "name": "python",
   "nbconvert_exporter": "python",
   "pygments_lexer": "ipython3",
   "version": "3.7.6"
  },
  "toc": {
   "base_numbering": 1,
   "nav_menu": {},
   "number_sections": true,
   "sideBar": true,
   "skip_h1_title": false,
   "title_cell": "Table of Contents",
   "title_sidebar": "Contents",
   "toc_cell": false,
   "toc_position": {
    "height": "calc(100% - 180px)",
    "left": "10px",
    "top": "150px",
    "width": "426.586px"
   },
   "toc_section_display": true,
   "toc_window_display": true
  }
 },
 "nbformat": 4,
 "nbformat_minor": 2
}
