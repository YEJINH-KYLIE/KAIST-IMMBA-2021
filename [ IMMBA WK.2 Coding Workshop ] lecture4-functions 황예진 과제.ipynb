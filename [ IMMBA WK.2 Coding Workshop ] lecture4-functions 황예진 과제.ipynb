{
 "cells": [
  {
   "cell_type": "markdown",
   "metadata": {},
   "source": [
    "# Lecture 4 : Functions"
   ]
  },
  {
   "cell_type": "markdown",
   "metadata": {},
   "source": [
    "* A function packages a computation consisting of multiple steps into a form that can be easily understood and reused. \n",
    "* In this lecture, you will learn how to design and implement your own functions using the process of stepwise refinement, you will be able to break up complex tasks into sets of cooperating functions.\n",
    "\n",
    "## 1. Functions as Black Boxes"
   ]
  },
  {
   "cell_type": "markdown",
   "metadata": {},
   "source": [
    "<img src=\"lecture4-figure1.png\" style=\"height:300px\" align=\"left\">\n",
    "\n",
    "* A function is a sequence of instructions with a name.\n",
    "* You call a function in order to execute its instructions.\n",
    "* By using the expression round(6.8275, 2), your program calls the round function, asking it to round 6.8275 to two decimal digits."
   ]
  },
  {
   "cell_type": "code",
   "execution_count": 290,
   "metadata": {},
   "outputs": [],
   "source": [
    "price = round(6.8275, 2)"
   ]
  },
  {
   "cell_type": "code",
   "execution_count": null,
   "metadata": {},
   "outputs": [],
   "source": []
  },
  {
   "cell_type": "markdown",
   "metadata": {},
   "source": [
    "### Mini exercise\n",
    "   * What is the return value of the function call round(round(5.799, 2), 0)?"
   ]
  },
  {
   "cell_type": "code",
   "execution_count": 291,
   "metadata": {},
   "outputs": [
    {
     "data": {
      "text/plain": [
       "6.0"
      ]
     },
     "execution_count": 291,
     "metadata": {},
     "output_type": "execute_result"
    }
   ],
   "source": [
    "# your code here\n",
    "\n",
    "round(round(5.799, 2), 0)"
   ]
  },
  {
   "cell_type": "markdown",
   "metadata": {},
   "source": [
    "## 2. Implementing and Tesing Functions"
   ]
  },
  {
   "cell_type": "markdown",
   "metadata": {},
   "source": [
    "* We will start with a very simple example: a function to compute the volume of a cube with a given side length.\n",
    "* When writing this function, you need to \n",
    "    * Pick a name for the function (cubeVolume).\n",
    "    * Define a variable for each argument (sideLength). These variables are called the **parameter variables**."
   ]
  },
  {
   "cell_type": "code",
   "execution_count": 292,
   "metadata": {},
   "outputs": [],
   "source": [
    "def cubeVolume(sideLength):\n",
    "    volume = sideLength ** 3\n",
    "    return volume"
   ]
  },
  {
   "cell_type": "markdown",
   "metadata": {},
   "source": [
    "* You can test/call the function."
   ]
  },
  {
   "cell_type": "code",
   "execution_count": null,
   "metadata": {},
   "outputs": [],
   "source": []
  },
  {
   "cell_type": "markdown",
   "metadata": {},
   "source": [
    "### Programming Tip: Function Comments\n",
    "   * Whenever you write a function, you should comment its behavior.\n",
    "   * Comments are for human readers, not compilers.\n",
    "   * Function comments explain the purpose of the function, the meaning of the parameter variables and the return value, as well as any special requirements."
   ]
  },
  {
   "cell_type": "code",
   "execution_count": 293,
   "metadata": {},
   "outputs": [],
   "source": [
    "## Computes the volume of a cube.\n",
    "# @param sideLength the length of a side of the cube\n",
    "# @return the volume of the cube\n",
    "#\n",
    "def cubeVolume(sideLength) :\n",
    "    volume = sideLength ** 3\n",
    "    return volume"
   ]
  },
  {
   "cell_type": "markdown",
   "metadata": {},
   "source": [
    "### Programs that Contain Functions"
   ]
  },
  {
   "cell_type": "markdown",
   "metadata": {},
   "source": [
    "* What is the problem with this code?"
   ]
  },
  {
   "cell_type": "code",
   "execution_count": 294,
   "metadata": {},
   "outputs": [
    {
     "name": "stdout",
     "output_type": "stream",
     "text": [
      "400\n"
     ]
    }
   ],
   "source": [
    "print(squareArea(20))\n",
    "\n",
    "def squareArea(sideLength):\n",
    "    area = sideLength ** 2\n",
    "    return area"
   ]
  },
  {
   "cell_type": "markdown",
   "metadata": {},
   "source": [
    "* A function can be called from within another function before the former has been defined."
   ]
  },
  {
   "cell_type": "code",
   "execution_count": 295,
   "metadata": {},
   "outputs": [
    {
     "name": "stdout",
     "output_type": "stream",
     "text": [
      "4\n"
     ]
    }
   ],
   "source": [
    "def main():\n",
    "    result = squareArea(2)\n",
    "    print(result)\n",
    "\n",
    "def squareArea(sideLength):\n",
    "    area = sideLength ** 2\n",
    "    return area\n",
    "\n",
    "main()"
   ]
  },
  {
   "cell_type": "markdown",
   "metadata": {},
   "source": [
    "### One more thing: Recursion function\n",
    "* Python accepts function recursion, which means a defined function can call itself."
   ]
  },
  {
   "cell_type": "code",
   "execution_count": 296,
   "metadata": {},
   "outputs": [],
   "source": [
    "def factorial(n):\n",
    "    if n==0:\n",
    "        return 1\n",
    "    else:\n",
    "        return n*factorial(n-1)"
   ]
  },
  {
   "cell_type": "code",
   "execution_count": 297,
   "metadata": {},
   "outputs": [
    {
     "data": {
      "text/plain": [
       "3628800"
      ]
     },
     "execution_count": 297,
     "metadata": {},
     "output_type": "execute_result"
    }
   ],
   "source": [
    "factorial(10)"
   ]
  },
  {
   "cell_type": "markdown",
   "metadata": {},
   "source": [
    "### Programming Tip: Do Not Modify Parameter Variables\n",
    "   * You can modify the values of the parameter variables in the body of a function.\n",
    "   * However, many programmers find this practice confusing. To avoid the confusion, simply introduce a separate variables."
   ]
  },
  {
   "cell_type": "code",
   "execution_count": 298,
   "metadata": {},
   "outputs": [
    {
     "name": "stdout",
     "output_type": "stream",
     "text": [
      "10.75\n"
     ]
    }
   ],
   "source": [
    "def addTax(total, rate):\n",
    "    tax = total * rate / 100\n",
    "    total = total + tax\n",
    "    return total\n",
    "\n",
    "total = 10\n",
    "result = addTax(total, 7.5)\n",
    "print(result)"
   ]
  },
  {
   "cell_type": "code",
   "execution_count": null,
   "metadata": {},
   "outputs": [],
   "source": []
  },
  {
   "cell_type": "markdown",
   "metadata": {},
   "source": [
    "## 3. Return Values"
   ]
  },
  {
   "cell_type": "markdown",
   "metadata": {},
   "source": [
    "* Functions can (optionally) return one value.\n",
    "* A return statement does two things:\n",
    "    * Immediately terminates the function\n",
    "    * Passes the return value back to the calling function"
   ]
  },
  {
   "cell_type": "code",
   "execution_count": 299,
   "metadata": {},
   "outputs": [],
   "source": [
    "def cubeVolume(sideLength) :\n",
    "    volume = sideLength ** 3\n",
    "    return volume"
   ]
  },
  {
   "cell_type": "markdown",
   "metadata": {},
   "source": [
    "### Multiple Return Statement"
   ]
  },
  {
   "cell_type": "markdown",
   "metadata": {},
   "source": [
    "* A function can use multiple return statements\n",
    "    * But every branch must have a return statement"
   ]
  },
  {
   "cell_type": "code",
   "execution_count": 288,
   "metadata": {},
   "outputs": [],
   "source": [
    "def cubeVolume(sideLength):\n",
    "    if (sideLength < 0): \n",
    "        return 0 \n",
    "    return sideLength * 3"
   ]
  },
  {
   "cell_type": "markdown",
   "metadata": {},
   "source": [
    "* Alternative to multiple returns (e.g., one for each branch):\n",
    "    * You can avoid multiple returns by storing the function result in a variable that you return in the last statement of the function.\n",
    "    * Make sure all conditions are handled."
   ]
  },
  {
   "cell_type": "code",
   "execution_count": 287,
   "metadata": {},
   "outputs": [],
   "source": [
    "def cubeVolume(sideLength) :\n",
    "    if sideLength >= 0:\n",
    "        volume = sideLength ** 3\n",
    "    else :\n",
    "        volume = 0\n",
    "    return volume"
   ]
  },
  {
   "cell_type": "markdown",
   "metadata": {},
   "source": [
    "## 4. Functions without Return Values"
   ]
  },
  {
   "cell_type": "markdown",
   "metadata": {},
   "source": [
    "* Let's consider a program to print a string in a box,"
   ]
  },
  {
   "cell_type": "code",
   "execution_count": 286,
   "metadata": {},
   "outputs": [],
   "source": [
    "def boxString(contents):\n",
    "    n = len(contents)\n",
    "    print(\"-\" * (n+2))\n",
    "    print(\"!\" + contents + \"!\")\n",
    "    print(\"-\" * (n+2))"
   ]
  },
  {
   "cell_type": "markdown",
   "metadata": {},
   "source": [
    "* You can call the function"
   ]
  },
  {
   "cell_type": "code",
   "execution_count": null,
   "metadata": {},
   "outputs": [],
   "source": []
  },
  {
   "cell_type": "markdown",
   "metadata": {},
   "source": [
    "* Do not call like this"
   ]
  },
  {
   "cell_type": "code",
   "execution_count": null,
   "metadata": {},
   "outputs": [],
   "source": []
  },
  {
   "cell_type": "markdown",
   "metadata": {},
   "source": [
    "## 5. Variable Scope"
   ]
  },
  {
   "cell_type": "markdown",
   "metadata": {},
   "source": [
    "* Variables can be declared:\n",
    "    * Inside a function\n",
    "        * Known as ‘local variables’\n",
    "        * Only available inside this function\n",
    "    * Outside of a function\n",
    "        * Sometimes called ‘global scope’\n",
    "        * Can be used (and changed) by code in any function"
   ]
  },
  {
   "cell_type": "code",
   "execution_count": 284,
   "metadata": {},
   "outputs": [],
   "source": [
    "def get_Sum() :\n",
    "    Sum = 0\n",
    "    for i in range(11) :\n",
    "        square = i * i\n",
    "        Sum = Sum + square\n",
    "    print(square, Sum)"
   ]
  },
  {
   "cell_type": "code",
   "execution_count": null,
   "metadata": {},
   "outputs": [],
   "source": []
  },
  {
   "cell_type": "markdown",
   "metadata": {},
   "source": [
    "### Re-using Names for Local Variables"
   ]
  },
  {
   "cell_type": "markdown",
   "metadata": {},
   "source": [
    "* Variables declared inside one function are not visible to other functions."
   ]
  },
  {
   "cell_type": "code",
   "execution_count": 285,
   "metadata": {},
   "outputs": [],
   "source": [
    "def square(n):\n",
    "    result = n * n\n",
    "    return result\n",
    "\n",
    "def main():\n",
    "    result = square(3) + square(4)\n",
    "    print(result)"
   ]
  },
  {
   "cell_type": "code",
   "execution_count": null,
   "metadata": {},
   "outputs": [],
   "source": []
  },
  {
   "cell_type": "markdown",
   "metadata": {},
   "source": [
    "## Exercise"
   ]
  },
  {
   "cell_type": "markdown",
   "metadata": {},
   "source": [
    "### Exercise 1. 정답"
   ]
  },
  {
   "cell_type": "markdown",
   "metadata": {},
   "source": [
    "1. Write a function that computes the larger of two integers."
   ]
  },
  {
   "cell_type": "code",
   "execution_count": 102,
   "metadata": {},
   "outputs": [],
   "source": [
    "# your code here\n",
    "\n",
    "def ex_1() :\n",
    "    a = str(input(\"Input the number 1 : \"))\n",
    "    b = str(input(\"Input the number 2 : \"))\n",
    "    \n",
    "                \n",
    "    while a != \"\" or b != \"\" :\n",
    "        if a.isalnum() == False or b.isalnum() == False : #소수점 방지 및 특수문자 방지 \n",
    "            result = print(\"Pls input integer ONLY !\")\n",
    "            break \n",
    "            \n",
    "        else : \n",
    "            if int(a) > int(b) :\n",
    "                result = print(\"The Larger Number is : \", int(a))\n",
    "            elif int(a) == int(b) :\n",
    "                result = print(\"Both Numbers are Same !\")\n",
    "            else :\n",
    "                result = print(\"The Larger Number is : \", int(b))\n",
    "                \n",
    "        return result\n",
    "    \n",
    "        a = str(input(\"Input the number 1 : \"))\n",
    "        b = str(input(\"Input the number 2 : \"))\n",
    "    \n"
   ]
  },
  {
   "cell_type": "code",
   "execution_count": 104,
   "metadata": {},
   "outputs": [
    {
     "name": "stdout",
     "output_type": "stream",
     "text": [
      "Input the number 1 : 1.1\n",
      "Input the number 2 : 2.2\n",
      "Pls input integer ONLY !\n"
     ]
    }
   ],
   "source": [
    "# 사용자 함수 확인 1\n",
    "ex_1()"
   ]
  },
  {
   "cell_type": "code",
   "execution_count": 107,
   "metadata": {},
   "outputs": [
    {
     "name": "stdout",
     "output_type": "stream",
     "text": [
      "Input the number 1 : 2\n",
      "Input the number 2 : 1\n",
      "The Larger Number is :  2\n"
     ]
    }
   ],
   "source": [
    "# 사용자 함수 확인 2\n",
    "ex_1()"
   ]
  },
  {
   "cell_type": "code",
   "execution_count": 106,
   "metadata": {},
   "outputs": [
    {
     "name": "stdout",
     "output_type": "stream",
     "text": [
      "Input the number 1 : 1\n",
      "Input the number 2 : 1\n",
      "Both Numbers are Same !\n"
     ]
    }
   ],
   "source": [
    "# 사용자 함수 확인 3\n",
    "ex_1()"
   ]
  },
  {
   "cell_type": "markdown",
   "metadata": {},
   "source": [
    "2. Write a function that returns the average of the arguments."
   ]
  },
  {
   "cell_type": "markdown",
   "metadata": {},
   "source": [
    "### Exercise 2. 정답"
   ]
  },
  {
   "cell_type": "code",
   "execution_count": 248,
   "metadata": {},
   "outputs": [],
   "source": [
    "# your code here\n",
    "\n",
    "import warnings\n",
    "warnings.filterwarnings(\"ignore\")\n",
    "\n",
    "\n",
    "def ex_2() : \n",
    "    \n",
    "    ex_2_input = str(input(\"Enter the Number : \"))\n",
    "    \n",
    "    ex_2_lst = []\n",
    "    while ex_2_input != \"\" :\n",
    "        if ex_2_input.isalnum() == False : #특수문자 방지 \n",
    "            try : print(\"Pls input numbers ONLY !\")\n",
    "                \n",
    "            except ZeroDivisionError:\n",
    "                pass\n",
    "               \n",
    "        else :\n",
    "            ex_2_values = float(ex_2_input)\n",
    "            ex_2_lst.append(ex_2_values)\n",
    "            \n",
    "        ex_2_input = input(\"Enter the Number : \")\n",
    "    \n",
    "    result = sum(ex_2_lst)/len(ex_2_lst)\n",
    "    return print(\"Average of the arguemnt : \", round(result,3))\n",
    "    print(ex_2_lst)\n",
    "  "
   ]
  },
  {
   "cell_type": "code",
   "execution_count": 249,
   "metadata": {},
   "outputs": [
    {
     "name": "stdout",
     "output_type": "stream",
     "text": [
      "Enter the Number : 1\n",
      "Enter the Number : 2\n",
      "Enter the Number : 3\n",
      "Enter the Number : 4\n",
      "Enter the Number : 5\n",
      "Enter the Number : 6\n",
      "Enter the Number : 7\n",
      "Enter the Number : 8\n",
      "Enter the Number : 9\n",
      "Enter the Number : 20\n",
      "Enter the Number : \n",
      "Average of the arguemnt :  6.5\n"
     ]
    }
   ],
   "source": [
    "# 사용자 함수 테스트 \n",
    "ex_2()"
   ]
  },
  {
   "cell_type": "markdown",
   "metadata": {},
   "source": [
    "3. Write a function that returns the first n characters of the argument.\n",
    "    * Test the function with the given input string."
   ]
  },
  {
   "cell_type": "markdown",
   "metadata": {},
   "source": [
    "### Exercise 3. 정답"
   ]
  },
  {
   "cell_type": "code",
   "execution_count": 250,
   "metadata": {},
   "outputs": [],
   "source": [
    "# your code here\n",
    "\n",
    "def ex_3() : \n",
    "    \n",
    "    ex_3_input = str(input(\"Enter the charaters : \"))\n",
    "    \n",
    "    ex_3_lst = []\n",
    "    while ex_3_input != \"\" :\n",
    "        if ex_3_input.isalnum() == False : #특수문자 방지 \n",
    "            try : print(\"Pls input characters ONLY !\")\n",
    "                \n",
    "            except ZeroDivisionError:\n",
    "                pass\n",
    "               \n",
    "        else :\n",
    "            ex_3_values = ex_3_input[0]\n",
    "            ex_3_lst.append(ex_3_values)\n",
    "            \n",
    "        ex_3_input = input(\"Enter the characters : \")\n",
    "    \n",
    "    result = ex_3_lst\n",
    "    return print(\"1st characters of the arguemnt : \", result)\n",
    "    \n",
    "  "
   ]
  },
  {
   "cell_type": "code",
   "execution_count": 265,
   "metadata": {},
   "outputs": [
    {
     "name": "stdout",
     "output_type": "stream",
     "text": [
      "Enter the charaters : !\n",
      "Pls input characters ONLY !\n",
      "Enter the characters : aldfalks\n",
      "Enter the characters : akdjfbhasdk\n",
      "Enter the characters : 1290w9r\n",
      "Enter the characters : adjfbaks\n",
      "Enter the characters : aksjdbka\n",
      "Enter the characters : \n",
      "1st characters of the arguemnt :  ['a', 'a', '1', 'a', 'a']\n"
     ]
    }
   ],
   "source": [
    "# 사용자 함수 테스트 \n",
    "ex_3()"
   ]
  },
  {
   "cell_type": "markdown",
   "metadata": {},
   "source": [
    "4. Write a function to reverse a given string.\n",
    "\n",
    "    Sample String : \"abcd1234\"<br/>\n",
    "    Expected Output : \"4321dcba\""
   ]
  },
  {
   "cell_type": "markdown",
   "metadata": {},
   "source": [
    "### Exercise 4. 정답"
   ]
  },
  {
   "cell_type": "code",
   "execution_count": 272,
   "metadata": {},
   "outputs": [],
   "source": [
    "# your code here\n",
    "\n",
    "def ex_4() : \n",
    "    \n",
    "    ex_4_input = str(input(\"Enter the charaters : \"))\n",
    "    \n",
    "    ex_4_lst = []\n",
    "    while ex_4_input != \"\" :\n",
    "        if ex_4_input.isalnum() == False : #특수문자 방지 \n",
    "            try : print(\"Pls input characters ONLY !\")\n",
    "                \n",
    "            except ZeroDivisionError:\n",
    "                pass\n",
    "               \n",
    "        else :\n",
    "            ex_4_values = ex_4_input[::-1]\n",
    "            ex_4_lst.append(ex_4_values)\n",
    "            \n",
    "        ex_4_input = input(\"Enter the characters : \")\n",
    "    \n",
    "    result = ex_4_lst\n",
    "    return print(\"Reversed string of the given : \", result)\n",
    "\n"
   ]
  },
  {
   "cell_type": "code",
   "execution_count": 274,
   "metadata": {},
   "outputs": [
    {
     "name": "stdout",
     "output_type": "stream",
     "text": [
      "Enter the charaters : askdjfbnbkasjngvla\n",
      "Enter the characters : qw0eijfldkfnavm\n",
      "Enter the characters : asjbvkasd\n",
      "Enter the characters :  vxzm \n",
      "Pls input characters ONLY !\n",
      "Enter the characters : askdfblsa\n",
      "Enter the characters : \n",
      "Reversed string of the given :  ['alvgnjsakbnbfjdksa', 'mvanfkdlfjie0wq', 'dsakvbjsa', 'aslbfdksa']\n"
     ]
    }
   ],
   "source": [
    "# 사용자 함수 테스트 \n",
    "ex_4()"
   ]
  },
  {
   "cell_type": "markdown",
   "metadata": {},
   "source": [
    "5. Write a function to multiply all the numbers in a given list."
   ]
  },
  {
   "cell_type": "markdown",
   "metadata": {},
   "source": [
    "### Exercise 5. 정답"
   ]
  },
  {
   "cell_type": "code",
   "execution_count": 305,
   "metadata": {},
   "outputs": [],
   "source": [
    "# your code here\n",
    "\n",
    "List = [1, 2, 3, 4]\n",
    "\n",
    "def ex_5(List) : \n",
    "    \n",
    "    result = 1\n",
    "    for i in List :\n",
    "        result = result * i \n",
    "        \n",
    "    return result\n",
    "        \n",
    "\n",
    "\n"
   ]
  },
  {
   "cell_type": "code",
   "execution_count": 306,
   "metadata": {},
   "outputs": [
    {
     "data": {
      "text/plain": [
       "24"
      ]
     },
     "execution_count": 306,
     "metadata": {},
     "output_type": "execute_result"
    }
   ],
   "source": [
    "ex_5(List)"
   ]
  },
  {
   "cell_type": "code",
   "execution_count": null,
   "metadata": {},
   "outputs": [],
   "source": []
  },
  {
   "cell_type": "markdown",
   "metadata": {},
   "source": [
    "## References\n",
    "* Horstmann, C. S., & Necaise, R. D. (2015). Python for everyone. Wiley Publishing.\n",
    "* 박진수 (2020). 바로 쓰는 파이썬. 서울대학교출판문화원\n",
    "* Python for Everybody Specialization on Coursera: https://www.coursera.org/specializations/python\n",
    "* figure1 ref: https://www.thatsoftwaredude.com/content/8881/what-is-blackbox-code-and-why-its-important"
   ]
  },
  {
   "cell_type": "code",
   "execution_count": null,
   "metadata": {},
   "outputs": [],
   "source": []
  }
 ],
 "metadata": {
  "kernelspec": {
   "display_name": "Python 3",
   "language": "python",
   "name": "python3"
  },
  "language_info": {
   "codemirror_mode": {
    "name": "ipython",
    "version": 3
   },
   "file_extension": ".py",
   "mimetype": "text/x-python",
   "name": "python",
   "nbconvert_exporter": "python",
   "pygments_lexer": "ipython3",
   "version": "3.7.6"
  },
  "toc": {
   "base_numbering": 1,
   "nav_menu": {},
   "number_sections": true,
   "sideBar": true,
   "skip_h1_title": false,
   "title_cell": "Table of Contents",
   "title_sidebar": "Contents",
   "toc_cell": false,
   "toc_position": {
    "height": "calc(100% - 180px)",
    "left": "10px",
    "top": "150px",
    "width": "426.586px"
   },
   "toc_section_display": true,
   "toc_window_display": true
  }
 },
 "nbformat": 4,
 "nbformat_minor": 2
}
