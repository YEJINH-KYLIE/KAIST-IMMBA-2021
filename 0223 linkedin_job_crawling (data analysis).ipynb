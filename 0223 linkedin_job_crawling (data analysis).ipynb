{
 "cells": [
  {
   "cell_type": "code",
   "execution_count": 3,
   "metadata": {},
   "outputs": [
    {
     "name": "stdout",
     "output_type": "stream",
     "text": [
      "Collecting selenium\n",
      "  Downloading selenium-3.141.0-py2.py3-none-any.whl (904 kB)\n",
      "\u001b[K     |████████████████████████████████| 904 kB 1.6 MB/s eta 0:00:01\n",
      "\u001b[?25hRequirement already satisfied: urllib3 in /Users/yejinhwang/opt/anaconda3/lib/python3.7/site-packages (from selenium) (1.25.8)\n",
      "Installing collected packages: selenium\n",
      "Successfully installed selenium-3.141.0\n",
      "Note: you may need to restart the kernel to use updated packages.\n"
     ]
    }
   ],
   "source": [
    "pip install selenium"
   ]
  },
  {
   "cell_type": "code",
   "execution_count": 64,
   "metadata": {},
   "outputs": [],
   "source": [
    "# importing packages\n",
    "import pandas as pd\n",
    "import re\n",
    "\n",
    "\n",
    "from bs4 import BeautifulSoup as bs\n",
    "from datetime import date, timedelta, datetime\n",
    "from IPython.core.display import clear_output\n",
    "from random import randint\n",
    "import requests\n",
    "from selenium import webdriver\n",
    "from selenium.webdriver.common.action_chains import ActionChains\n",
    "from time import sleep\n",
    "from time import time\n",
    "start_time = time()\n",
    "\n",
    "from warnings import warn"
   ]
  },
  {
   "cell_type": "code",
   "execution_count": 172,
   "metadata": {},
   "outputs": [],
   "source": [
    "# replace variables here.\n",
    "linkedin_url = \"https://www.linkedin.com/jobs/search/?geoId=105149562&keywords=data%20analyst&location=South%20Korea&sortBY=DD\"\n",
    "no_of_jobs = 86"
   ]
  },
  {
   "cell_type": "code",
   "execution_count": 173,
   "metadata": {},
   "outputs": [
    {
     "data": {
      "text/plain": [
       "<Response [200]>"
      ]
     },
     "execution_count": 173,
     "metadata": {},
     "output_type": "execute_result"
    }
   ],
   "source": [
    "requests.get(linkedin_url)"
   ]
  },
  {
   "cell_type": "code",
   "execution_count": 175,
   "metadata": {},
   "outputs": [],
   "source": [
    "# this will open up new window with the url provided above \n",
    "driver = webdriver.Chrome()\n",
    "driver.get(linkedin_url)\n",
    "sleep(3)\n",
    "action = ActionChains(driver)"
   ]
  },
  {
   "cell_type": "code",
   "execution_count": 176,
   "metadata": {},
   "outputs": [
    {
     "data": {
      "text/plain": [
       "bs4.BeautifulSoup"
      ]
     },
     "execution_count": 176,
     "metadata": {},
     "output_type": "execute_result"
    }
   ],
   "source": [
    "source1 = bs(driver.page_source)\n",
    "type(source1)"
   ]
  },
  {
   "cell_type": "code",
   "execution_count": 178,
   "metadata": {},
   "outputs": [],
   "source": [
    "\n",
    "# to show more jobs. Depends on number of jobs selected\n",
    "i = 2\n",
    "while i <= (no_of_jobs/86): \n",
    "    driver.find_element_by_xpath('/html/body/main/div/section/button').click()\n",
    "    i = i + 1\n",
    "    sleep(5)"
   ]
  },
  {
   "cell_type": "code",
   "execution_count": 179,
   "metadata": {},
   "outputs": [
    {
     "name": "stdout",
     "output_type": "stream",
     "text": [
      "You are scraping information about 23 jobs.\n"
     ]
    }
   ],
   "source": [
    "# parsing the visible webpage\n",
    "pageSource = driver.page_source\n",
    "lxml_soup = BeautifulSoup(pageSource, 'lxml')\n",
    "\n",
    "# searching for all job containers\n",
    "job_container = lxml_soup.find('ul', class_ = 'jobs-search__results-list')\n",
    "\n",
    "print('You are scraping information about {} jobs.'.format(len(job_container)))"
   ]
  },
  {
   "cell_type": "code",
   "execution_count": 184,
   "metadata": {},
   "outputs": [
    {
     "data": {
      "text/plain": [
       "<ul class=\"jobs-search__results-list\"><li class=\"result-card job-result-card result-card--with-hover-state job-card__contents--active\" data-column=\"1\" data-entity-urn=\"urn:li:jobPosting:2401687696\" data-id=\"2401687696\" data-row=\"1\" data-search-id=\"75622488-8146-43e8-bcc6-18aed8ee241d\" data-tracking-id=\"aQpdiKGkavcxp6ezJdJ1lA==\"><a class=\"result-card__full-card-link\" data-tracking-client-ingraph=\"\" data-tracking-control-name=\"public_jobs_job-result-card_result-card_full-click\" data-tracking-will-navigate=\"\" href=\"https://kr.linkedin.com/jobs/view/digital-optimisation-analyst-at-dyson-2401687696?refId=75622488-8146-43e8-bcc6-18aed8ee241d&amp;trackingId=aQpdiKGkavcxp6ezJdJ1lA%3D%3D&amp;position=1&amp;pageNum=0&amp;trk=public_jobs_job-result-card_result-card_full-click\"><span class=\"screen-reader-text\">Digital Optimisation Analyst</span></a><img alt=\"Dyson\" aria-hidden=\"true\" class=\"artdeco-entity-image job-result-card artdeco-entity-image--square-4 job-result-card--square-4 result-card__image lazy-loaded\" data-ghost-classes=\"artdeco-entity-image--ghost job-result-card--ghost\" data-ghost-url=\"https://static-exp1.licdn.com/sc/p/com.linkedin.jobs-guest-frontend%3Ajobs-guest-frontend-static-content%2B2.0.13/f/%2Fjobs-guest-frontend%2Fartdeco-icons%2Fstatic%2Fimages%2Fentity-ghosts%2Fcompany%2Faccent-4.svg\" src=\"https://media-exp1.licdn.com/dms/image/C560BAQEWPg-YOK9CVw/company-logo_100_100/0/1519856272097?e=1622073600&amp;v=beta&amp;t=_1Po5jJa9RQpTYX8N7ITn7CqRMw7wFk71vycObD-Qmk\"/><div class=\"result-card__contents job-result-card__contents\"><h3 class=\"result-card__title job-result-card__title\">Digital Optimisation Analyst</h3><h4 class=\"result-card__subtitle job-result-card__subtitle\"><a class=\"result-card__subtitle-link job-result-card__subtitle-link\" data-tracking-client-ingraph=\"\" data-tracking-control-name=\"public_jobs_job-result-card_result-card_subtitle-click\" data-tracking-will-navigate=\"\" href=\"https://uk.linkedin.com/company/dyson?trk=public_jobs_job-result-card_result-card_subtitle-click\">Dyson</a></h4><div class=\"result-card__meta job-result-card__meta\"><span class=\"job-result-card__location\">서울</span><time class=\"job-result-card__listdate\" datetime=\"2021-02-07\">2주 전</time></div></div></li><li class=\"result-card job-result-card result-card--with-hover-state\" data-column=\"1\" data-entity-urn=\"urn:li:jobPosting:2421699533\" data-id=\"2421699533\" data-row=\"2\" data-search-id=\"75622488-8146-43e8-bcc6-18aed8ee241d\" data-tracking-id=\"JAcOY3lQjIFoSAxFBw/WxA==\"><a class=\"result-card__full-card-link\" data-tracking-client-ingraph=\"\" data-tracking-control-name=\"public_jobs_job-result-card_result-card_full-click\" data-tracking-will-navigate=\"\" href=\"https://kr.linkedin.com/jobs/view/%ED%86%A0%EC%8A%A4%EC%A6%9D%EA%B6%8C-data-analyst-at-viva-republica-toss-2421699533?refId=75622488-8146-43e8-bcc6-18aed8ee241d&amp;trackingId=JAcOY3lQjIFoSAxFBw%2FWxA%3D%3D&amp;position=2&amp;pageNum=0&amp;trk=public_jobs_job-result-card_result-card_full-click\"><span class=\"screen-reader-text\">[토스증권] Data Analyst</span></a><img alt=\"Viva Republica (Toss)\" aria-hidden=\"true\" class=\"artdeco-entity-image job-result-card artdeco-entity-image--square-4 job-result-card--square-4 result-card__image lazy-loaded\" data-ghost-classes=\"artdeco-entity-image--ghost job-result-card--ghost\" data-ghost-url=\"https://static-exp1.licdn.com/sc/p/com.linkedin.jobs-guest-frontend%3Ajobs-guest-frontend-static-content%2B2.0.13/f/%2Fjobs-guest-frontend%2Fartdeco-icons%2Fstatic%2Fimages%2Fentity-ghosts%2Fcompany%2Faccent-4.svg\" src=\"https://media-exp1.licdn.com/dms/image/C560BAQGuGPu5c4Rmmw/company-logo_100_100/0/1605766502615?e=1622073600&amp;v=beta&amp;t=4V03faZs3gBPiiBotqSxwyUMRKqioOTxKp5aGViZhnw\"/><div class=\"result-card__contents job-result-card__contents\"><h3 class=\"result-card__title job-result-card__title\">[토스증권] Data Analyst</h3><h4 class=\"result-card__subtitle job-result-card__subtitle\"><a class=\"result-card__subtitle-link job-result-card__subtitle-link\" data-tracking-client-ingraph=\"\" data-tracking-control-name=\"public_jobs_job-result-card_result-card_subtitle-click\" data-tracking-will-navigate=\"\" href=\"https://kr.linkedin.com/company/viva-republica?trk=public_jobs_job-result-card_result-card_subtitle-click\">Viva Republica (Toss)</a></h4><div class=\"result-card__meta job-result-card__meta\"><span class=\"job-result-card__location\">서울, 대한민국</span><time class=\"job-result-card__listdate--new\" datetime=\"2021-02-22\">6시간 전</time></div></div></li><li class=\"result-card job-result-card result-card--with-hover-state\" data-column=\"1\" data-entity-urn=\"urn:li:jobPosting:2412547747\" data-id=\"2412547747\" data-row=\"3\" data-search-id=\"75622488-8146-43e8-bcc6-18aed8ee241d\" data-tracking-id=\"DwOvlZjehIjYKECeaa3x5g==\"><a class=\"result-card__full-card-link\" data-tracking-client-ingraph=\"\" data-tracking-control-name=\"public_jobs_job-result-card_result-card_full-click\" data-tracking-will-navigate=\"\" href=\"https://kr.linkedin.com/jobs/view/data-analyst-at-han-sung-motor-%ED%95%9C%EC%84%B1%EC%9E%90%EB%8F%99%EC%B0%A8-2412547747?refId=75622488-8146-43e8-bcc6-18aed8ee241d&amp;trackingId=DwOvlZjehIjYKECeaa3x5g%3D%3D&amp;position=3&amp;pageNum=0&amp;trk=public_jobs_job-result-card_result-card_full-click\"><span class=\"screen-reader-text\">Data Analyst</span></a><img alt=\"Han Sung Motor 한성자동차\" aria-hidden=\"true\" class=\"artdeco-entity-image job-result-card artdeco-entity-image--square-4 job-result-card--square-4 result-card__image lazy-loaded\" data-ghost-classes=\"artdeco-entity-image--ghost job-result-card--ghost\" data-ghost-url=\"https://static-exp1.licdn.com/sc/p/com.linkedin.jobs-guest-frontend%3Ajobs-guest-frontend-static-content%2B2.0.13/f/%2Fjobs-guest-frontend%2Fartdeco-icons%2Fstatic%2Fimages%2Fentity-ghosts%2Fcompany%2Faccent-4.svg\" src=\"https://media-exp1.licdn.com/dms/image/C560BAQGm2N7kkGvRog/company-logo_100_100/0/1541464015741?e=1622073600&amp;v=beta&amp;t=p9NeTl9d4WV6GhkFYHpzHrJkDW4yGgK98Sa1vH_AL3I\"/><div class=\"result-card__contents job-result-card__contents\"><h3 class=\"result-card__title job-result-card__title\">Data Analyst</h3><h4 class=\"result-card__subtitle job-result-card__subtitle\"><a class=\"result-card__subtitle-link job-result-card__subtitle-link\" data-tracking-client-ingraph=\"\" data-tracking-control-name=\"public_jobs_job-result-card_result-card_subtitle-click\" data-tracking-will-navigate=\"\" href=\"https://kr.linkedin.com/company/han-sung-motor?trk=public_jobs_job-result-card_result-card_subtitle-click\">Han Sung Motor 한성자동차</a></h4><div class=\"result-card__meta job-result-card__meta\"><span class=\"job-result-card__location\">서울, 대한민국</span><time class=\"job-result-card__listdate\" datetime=\"2021-02-16\">6일 전</time><span class=\"job-result-card__easy-apply-label\">지금 지원</span></div></div></li><li class=\"result-card job-result-card result-card--with-hover-state\" data-column=\"1\" data-entity-urn=\"urn:li:jobPosting:2433340415\" data-id=\"2433340415\" data-row=\"4\" data-search-id=\"75622488-8146-43e8-bcc6-18aed8ee241d\" data-tracking-id=\"jZIaOOPHYwvNXFSOY5M2CA==\"><a class=\"result-card__full-card-link\" data-tracking-client-ingraph=\"\" data-tracking-control-name=\"public_jobs_job-result-card_result-card_full-click\" data-tracking-will-navigate=\"\" href=\"https://kr.linkedin.com/jobs/view/associate-data-research-analyst-seoul-at-morningstar-2433340415?refId=75622488-8146-43e8-bcc6-18aed8ee241d&amp;trackingId=jZIaOOPHYwvNXFSOY5M2CA%3D%3D&amp;position=4&amp;pageNum=0&amp;trk=public_jobs_job-result-card_result-card_full-click\"><span class=\"screen-reader-text\">Associate data research analyst - Seoul</span></a><img alt=\"Morningstar\" aria-hidden=\"true\" class=\"artdeco-entity-image job-result-card artdeco-entity-image--square-4 job-result-card--square-4 artdeco-entity-image--ghost job-result-card--ghost result-card__image lazy-load\" data-delayed-url=\"https://static-exp1.licdn.com/sc/p/com.linkedin.jobs-guest-frontend%3Ajobs-guest-frontend-static-content%2B2.0.13/f/%2Fjobs-guest-frontend%2Fartdeco-icons%2Fstatic%2Fimages%2Fentity-ghosts%2Fcompany%2Faccent-4.svg\" data-ghost-classes=\"artdeco-entity-image--ghost job-result-card--ghost\" data-ghost-url=\"https://static-exp1.licdn.com/sc/p/com.linkedin.jobs-guest-frontend%3Ajobs-guest-frontend-static-content%2B2.0.13/f/%2Fjobs-guest-frontend%2Fartdeco-icons%2Fstatic%2Fimages%2Fentity-ghosts%2Fcompany%2Faccent-4.svg\"/><div class=\"result-card__contents job-result-card__contents\"><h3 class=\"result-card__title job-result-card__title\">Associate data research analyst - Seoul</h3><h4 class=\"result-card__subtitle job-result-card__subtitle\">Morningstar</h4><div class=\"result-card__meta job-result-card__meta\"><span class=\"job-result-card__location\">서울</span><time class=\"job-result-card__listdate\" datetime=\"2021-02-21\">1일 전</time></div></div></li><li class=\"result-card job-result-card result-card--with-hover-state\" data-column=\"1\" data-entity-urn=\"urn:li:jobPosting:2383871476\" data-id=\"2383871476\" data-row=\"5\" data-search-id=\"75622488-8146-43e8-bcc6-18aed8ee241d\" data-tracking-id=\"MrzAUx5fSTbSCYmD6lCR/Q==\"><a class=\"result-card__full-card-link\" data-tracking-client-ingraph=\"\" data-tracking-control-name=\"public_jobs_job-result-card_result-card_full-click\" data-tracking-will-navigate=\"\" href=\"https://kr.linkedin.com/jobs/view/data-analyst-at-asurion-2383871476?refId=75622488-8146-43e8-bcc6-18aed8ee241d&amp;trackingId=MrzAUx5fSTbSCYmD6lCR%2FQ%3D%3D&amp;position=5&amp;pageNum=0&amp;trk=public_jobs_job-result-card_result-card_full-click\"><span class=\"screen-reader-text\">Data Analyst</span></a><img alt=\"Asurion\" aria-hidden=\"true\" class=\"artdeco-entity-image job-result-card artdeco-entity-image--square-4 job-result-card--square-4 result-card__image lazy-load\" data-delayed-url=\"https://media-exp1.licdn.com/dms/image/C4D0BAQHuYRAtzgFflA/company-logo_100_100/0/1560980266786?e=1622073600&amp;v=beta&amp;t=wHo89POwELmHi-T0v2WjUY3NLC-UZLH6WgMzTRhg6BQ\" data-ghost-classes=\"artdeco-entity-image--ghost job-result-card--ghost\" data-ghost-url=\"https://static-exp1.licdn.com/sc/p/com.linkedin.jobs-guest-frontend%3Ajobs-guest-frontend-static-content%2B2.0.13/f/%2Fjobs-guest-frontend%2Fartdeco-icons%2Fstatic%2Fimages%2Fentity-ghosts%2Fcompany%2Faccent-4.svg\"/><div class=\"result-card__contents job-result-card__contents\"><h3 class=\"result-card__title job-result-card__title\">Data Analyst</h3><h4 class=\"result-card__subtitle job-result-card__subtitle\"><a class=\"result-card__subtitle-link job-result-card__subtitle-link\" data-tracking-client-ingraph=\"\" data-tracking-control-name=\"public_jobs_job-result-card_result-card_subtitle-click\" data-tracking-will-navigate=\"\" href=\"https://www.linkedin.com/company/asurion?trk=public_jobs_job-result-card_result-card_subtitle-click\">Asurion</a></h4><div class=\"result-card__meta job-result-card__meta\"><span class=\"job-result-card__location\">서울 인천 지역</span><time class=\"job-result-card__listdate\" datetime=\"2021-01-28\">4주 전</time><span class=\"job-result-card__easy-apply-label\">지금 지원</span></div></div></li><li class=\"result-card job-result-card result-card--with-hover-state\" data-column=\"1\" data-entity-urn=\"urn:li:jobPosting:1879749365\" data-id=\"1879749365\" data-row=\"6\" data-search-id=\"75622488-8146-43e8-bcc6-18aed8ee241d\" data-tracking-id=\"/7CKOpE60K9/xubFWw4DNA==\"><a class=\"result-card__full-card-link\" data-tracking-client-ingraph=\"\" data-tracking-control-name=\"public_jobs_job-result-card_result-card_full-click\" data-tracking-will-navigate=\"\" href=\"https://kr.linkedin.com/jobs/view/data-analyst-at-moloco-1879749365?refId=75622488-8146-43e8-bcc6-18aed8ee241d&amp;trackingId=%2F7CKOpE60K9%2FxubFWw4DNA%3D%3D&amp;position=6&amp;pageNum=0&amp;trk=public_jobs_job-result-card_result-card_full-click\"><span class=\"screen-reader-text\">Data Analyst</span></a><img alt=\"MOLOCO\" aria-hidden=\"true\" class=\"artdeco-entity-image job-result-card artdeco-entity-image--square-4 job-result-card--square-4 result-card__image lazy-load\" data-delayed-url=\"https://media-exp1.licdn.com/dms/image/C560BAQHXRLc4fQXgLQ/company-logo_100_100/0/1588966606052?e=1622073600&amp;v=beta&amp;t=fjTZv6YQcluvG82eyfgYDCxS7AzB7ruUEPTcnZ15sOw\" data-ghost-classes=\"artdeco-entity-image--ghost job-result-card--ghost\" data-ghost-url=\"https://static-exp1.licdn.com/sc/p/com.linkedin.jobs-guest-frontend%3Ajobs-guest-frontend-static-content%2B2.0.13/f/%2Fjobs-guest-frontend%2Fartdeco-icons%2Fstatic%2Fimages%2Fentity-ghosts%2Fcompany%2Faccent-4.svg\"/><div class=\"result-card__contents job-result-card__contents\"><h3 class=\"result-card__title job-result-card__title\">Data Analyst</h3><h4 class=\"result-card__subtitle job-result-card__subtitle\"><a class=\"result-card__subtitle-link job-result-card__subtitle-link\" data-tracking-client-ingraph=\"\" data-tracking-control-name=\"public_jobs_job-result-card_result-card_subtitle-click\" data-tracking-will-navigate=\"\" href=\"https://www.linkedin.com/company/moloco?trk=public_jobs_job-result-card_result-card_subtitle-click\">MOLOCO</a></h4><div class=\"result-card__meta job-result-card__meta\"><span class=\"job-result-card__location\">강남구</span><time class=\"job-result-card__listdate\" datetime=\"2021-01-04\">2개월 전</time></div></div></li><li class=\"result-card job-result-card result-card--with-hover-state\" data-column=\"1\" data-entity-urn=\"urn:li:jobPosting:2420548727\" data-id=\"2420548727\" data-row=\"7\" data-search-id=\"75622488-8146-43e8-bcc6-18aed8ee241d\" data-tracking-id=\"CwScomGhmjFAz8M2ghdxug==\"><a class=\"result-card__full-card-link\" data-tracking-client-ingraph=\"\" data-tracking-control-name=\"public_jobs_job-result-card_result-card_full-click\" data-tracking-will-navigate=\"\" href=\"https://kr.linkedin.com/jobs/view/research-analyst-2%EA%B0%9C%EC%9B%94-%EB%8B%A8%EA%B8%B0%EA%B3%84%EC%95%BD%EC%A7%81-at-ibm-2420548727?refId=75622488-8146-43e8-bcc6-18aed8ee241d&amp;trackingId=CwScomGhmjFAz8M2ghdxug%3D%3D&amp;position=7&amp;pageNum=0&amp;trk=public_jobs_job-result-card_result-card_full-click\"><span class=\"screen-reader-text\">Research Analyst (2개월 단기계약직)</span></a><img alt=\"IBM\" aria-hidden=\"true\" class=\"artdeco-entity-image job-result-card artdeco-entity-image--square-4 job-result-card--square-4 result-card__image lazy-load\" data-delayed-url=\"https://media-exp1.licdn.com/dms/image/C4E0BAQGfKOtAsJ7gOQ/company-logo_100_100/0/1591028793640?e=1622073600&amp;v=beta&amp;t=40qLC03fYUOtOH_pNkTowkgP9W4ApPB94nOtLv2Q6-s\" data-ghost-classes=\"artdeco-entity-image--ghost job-result-card--ghost\" data-ghost-url=\"https://static-exp1.licdn.com/sc/p/com.linkedin.jobs-guest-frontend%3Ajobs-guest-frontend-static-content%2B2.0.13/f/%2Fjobs-guest-frontend%2Fartdeco-icons%2Fstatic%2Fimages%2Fentity-ghosts%2Fcompany%2Faccent-4.svg\"/><div class=\"result-card__contents job-result-card__contents\"><h3 class=\"result-card__title job-result-card__title\">Research Analyst (2개월 단기계약직)</h3><h4 class=\"result-card__subtitle job-result-card__subtitle\"><a class=\"result-card__subtitle-link job-result-card__subtitle-link\" data-tracking-client-ingraph=\"\" data-tracking-control-name=\"public_jobs_job-result-card_result-card_subtitle-click\" data-tracking-will-navigate=\"\" href=\"https://www.linkedin.com/company/ibm?trk=public_jobs_job-result-card_result-card_subtitle-click\">IBM</a></h4><div class=\"result-card__meta job-result-card__meta\"><span class=\"job-result-card__location\">서울</span><time class=\"job-result-card__listdate\" datetime=\"2021-02-20\">2일 전</time></div></div></li><li class=\"result-card job-result-card result-card--with-hover-state\" data-column=\"1\" data-entity-urn=\"urn:li:jobPosting:2386917310\" data-id=\"2386917310\" data-row=\"8\" data-search-id=\"75622488-8146-43e8-bcc6-18aed8ee241d\" data-tracking-id=\"O9VkAFtqiaBOFVloSkoGGw==\"><a class=\"result-card__full-card-link\" data-tracking-client-ingraph=\"\" data-tracking-control-name=\"public_jobs_job-result-card_result-card_full-click\" data-tracking-will-navigate=\"\" href=\"https://kr.linkedin.com/jobs/view/2021-market-data-analyst-seoul-at-bloomberg-lp-2386917310?refId=75622488-8146-43e8-bcc6-18aed8ee241d&amp;trackingId=O9VkAFtqiaBOFVloSkoGGw%3D%3D&amp;position=8&amp;pageNum=0&amp;trk=public_jobs_job-result-card_result-card_full-click\"><span class=\"screen-reader-text\">2021 Market Data Analyst - Seoul</span></a><img alt=\"Bloomberg LP\" aria-hidden=\"true\" class=\"artdeco-entity-image job-result-card artdeco-entity-image--square-4 job-result-card--square-4 result-card__image lazy-load\" data-delayed-url=\"https://media-exp1.licdn.com/dms/image/C4D0BAQF0uyE7RGKDGg/company-logo_100_100/0/1531146047122?e=1622073600&amp;v=beta&amp;t=jzSPy3YGaZfDq5RYugBkdLWkHv25ov16JtEdExa0mHw\" data-ghost-classes=\"artdeco-entity-image--ghost job-result-card--ghost\" data-ghost-url=\"https://static-exp1.licdn.com/sc/p/com.linkedin.jobs-guest-frontend%3Ajobs-guest-frontend-static-content%2B2.0.13/f/%2Fjobs-guest-frontend%2Fartdeco-icons%2Fstatic%2Fimages%2Fentity-ghosts%2Fcompany%2Faccent-4.svg\"/><div class=\"result-card__contents job-result-card__contents\"><h3 class=\"result-card__title job-result-card__title\">2021 Market Data Analyst - Seoul</h3><h4 class=\"result-card__subtitle job-result-card__subtitle\"><a class=\"result-card__subtitle-link job-result-card__subtitle-link\" data-tracking-client-ingraph=\"\" data-tracking-control-name=\"public_jobs_job-result-card_result-card_subtitle-click\" data-tracking-will-navigate=\"\" href=\"https://www.linkedin.com/company/bloomberg-lp?trk=public_jobs_job-result-card_result-card_subtitle-click\">Bloomberg LP</a></h4><div class=\"result-card__meta job-result-card__meta\"><span class=\"job-result-card__location\">서울</span><time class=\"job-result-card__listdate\" datetime=\"2021-02-03\">3주 전</time></div></div></li><li class=\"result-card job-result-card result-card--with-hover-state\" data-column=\"1\" data-entity-urn=\"urn:li:jobPosting:2411999269\" data-id=\"2411999269\" data-row=\"9\" data-search-id=\"75622488-8146-43e8-bcc6-18aed8ee241d\" data-tracking-id=\"EtKAPX9/aCoEsOjS2eC5QQ==\"><a class=\"result-card__full-card-link\" data-tracking-client-ingraph=\"\" data-tracking-control-name=\"public_jobs_job-result-card_result-card_full-click\" data-tracking-will-navigate=\"\" href=\"https://kr.linkedin.com/jobs/view/data-analyst-at-%EB%AF%B8%EB%9E%98%EC%97%90%EC%85%8B%EC%83%9D%EB%AA%85-2411999269?refId=75622488-8146-43e8-bcc6-18aed8ee241d&amp;trackingId=EtKAPX9%2FaCoEsOjS2eC5QQ%3D%3D&amp;position=9&amp;pageNum=0&amp;trk=public_jobs_job-result-card_result-card_full-click\"><span class=\"screen-reader-text\">Data Analyst</span></a><img alt=\"미래에셋생명\" aria-hidden=\"true\" class=\"artdeco-entity-image job-result-card artdeco-entity-image--square-4 job-result-card--square-4 result-card__image lazy-load\" data-delayed-url=\"https://media-exp1.licdn.com/dms/image/C560BAQGAGQrW5oLSMg/company-logo_100_100/0/1613610310020?e=1622073600&amp;v=beta&amp;t=YNm9iayazcpfMGmYhYEjlYyBebdRXjrr47xRJoGGulg\" data-ghost-classes=\"artdeco-entity-image--ghost job-result-card--ghost\" data-ghost-url=\"https://static-exp1.licdn.com/sc/p/com.linkedin.jobs-guest-frontend%3Ajobs-guest-frontend-static-content%2B2.0.13/f/%2Fjobs-guest-frontend%2Fartdeco-icons%2Fstatic%2Fimages%2Fentity-ghosts%2Fcompany%2Faccent-4.svg\"/><div class=\"result-card__contents job-result-card__contents\"><h3 class=\"result-card__title job-result-card__title\">Data Analyst</h3><h4 class=\"result-card__subtitle job-result-card__subtitle\"><a class=\"result-card__subtitle-link job-result-card__subtitle-link\" data-tracking-client-ingraph=\"\" data-tracking-control-name=\"public_jobs_job-result-card_result-card_subtitle-click\" data-tracking-will-navigate=\"\" href=\"https://kr.linkedin.com/company/miraeassetlife?trk=public_jobs_job-result-card_result-card_subtitle-click\">미래에셋생명</a></h4><div class=\"result-card__meta job-result-card__meta\"><span class=\"job-result-card__location\">서울, 대한민국</span><time class=\"job-result-card__listdate\" datetime=\"2021-02-17\">6일 전</time></div></div></li><li class=\"result-card job-result-card result-card--with-hover-state\" data-column=\"1\" data-entity-urn=\"urn:li:jobPosting:2394530647\" data-id=\"2394530647\" data-row=\"10\" data-search-id=\"75622488-8146-43e8-bcc6-18aed8ee241d\" data-tracking-id=\"ihat8mRbVaBdAm2+u3r6OQ==\"><a class=\"result-card__full-card-link\" data-tracking-client-ingraph=\"\" data-tracking-control-name=\"public_jobs_job-result-card_result-card_full-click\" data-tracking-will-navigate=\"\" href=\"https://kr.linkedin.com/jobs/view/data-analyst-at-iqvia-2394530647?refId=75622488-8146-43e8-bcc6-18aed8ee241d&amp;trackingId=ihat8mRbVaBdAm2%2Bu3r6OQ%3D%3D&amp;position=10&amp;pageNum=0&amp;trk=public_jobs_job-result-card_result-card_full-click\"><span class=\"screen-reader-text\">Data Analyst</span></a><img alt=\"IQVIA\" aria-hidden=\"true\" class=\"artdeco-entity-image job-result-card artdeco-entity-image--square-4 job-result-card--square-4 result-card__image lazy-load\" data-delayed-url=\"https://media-exp1.licdn.com/dms/image/C560BAQFfCvo1UXDrDg/company-logo_100_100/0/1576771121026?e=1622073600&amp;v=beta&amp;t=fo1_glezsfI2T8Ev-z-eEdFaD4i8T_jb6du4b5waf-Q\" data-ghost-classes=\"artdeco-entity-image--ghost job-result-card--ghost\" data-ghost-url=\"https://static-exp1.licdn.com/sc/p/com.linkedin.jobs-guest-frontend%3Ajobs-guest-frontend-static-content%2B2.0.13/f/%2Fjobs-guest-frontend%2Fartdeco-icons%2Fstatic%2Fimages%2Fentity-ghosts%2Fcompany%2Faccent-4.svg\"/><div class=\"result-card__contents job-result-card__contents\"><h3 class=\"result-card__title job-result-card__title\">Data Analyst</h3><h4 class=\"result-card__subtitle job-result-card__subtitle\"><a class=\"result-card__subtitle-link job-result-card__subtitle-link\" data-tracking-client-ingraph=\"\" data-tracking-control-name=\"public_jobs_job-result-card_result-card_subtitle-click\" data-tracking-will-navigate=\"\" href=\"https://www.linkedin.com/company/iqvia?trk=public_jobs_job-result-card_result-card_subtitle-click\">IQVIA</a></h4><div class=\"result-card__meta job-result-card__meta\"><span class=\"job-result-card__location\">서울, 대한민국</span><time class=\"job-result-card__listdate\" datetime=\"2021-02-08\">2주 전</time><span class=\"job-result-card__easy-apply-label\">지금 지원</span></div></div></li><li class=\"result-card job-result-card result-card--with-hover-state\" data-column=\"1\" data-entity-urn=\"urn:li:jobPosting:2379484528\" data-id=\"2379484528\" data-row=\"11\" data-search-id=\"75622488-8146-43e8-bcc6-18aed8ee241d\" data-tracking-id=\"elfcamv6XCy3usFUxoI7MQ==\"><a class=\"result-card__full-card-link\" data-tracking-client-ingraph=\"\" data-tracking-control-name=\"public_jobs_job-result-card_result-card_full-click\" data-tracking-will-navigate=\"\" href=\"https://kr.linkedin.com/jobs/view/junior-business-analyst-at-coupang-2379484528?refId=75622488-8146-43e8-bcc6-18aed8ee241d&amp;trackingId=elfcamv6XCy3usFUxoI7MQ%3D%3D&amp;position=11&amp;pageNum=0&amp;trk=public_jobs_job-result-card_result-card_full-click\"><span class=\"screen-reader-text\">Junior Business Analyst</span></a><img alt=\"Coupang\" aria-hidden=\"true\" class=\"artdeco-entity-image job-result-card artdeco-entity-image--square-4 job-result-card--square-4 result-card__image lazy-load\" data-delayed-url=\"https://media-exp1.licdn.com/dms/image/C510BAQEWGpDrBFT1iw/company-logo_100_100/0/1519902034567?e=1622073600&amp;v=beta&amp;t=KX-TT3rp9fE8QpQv_aC7MHjaJamHhYVR9lOt25VFhew\" data-ghost-classes=\"artdeco-entity-image--ghost job-result-card--ghost\" data-ghost-url=\"https://static-exp1.licdn.com/sc/p/com.linkedin.jobs-guest-frontend%3Ajobs-guest-frontend-static-content%2B2.0.13/f/%2Fjobs-guest-frontend%2Fartdeco-icons%2Fstatic%2Fimages%2Fentity-ghosts%2Fcompany%2Faccent-4.svg\"/><div class=\"result-card__contents job-result-card__contents\"><h3 class=\"result-card__title job-result-card__title\">Junior Business Analyst</h3><h4 class=\"result-card__subtitle job-result-card__subtitle\"><a class=\"result-card__subtitle-link job-result-card__subtitle-link\" data-tracking-client-ingraph=\"\" data-tracking-control-name=\"public_jobs_job-result-card_result-card_subtitle-click\" data-tracking-will-navigate=\"\" href=\"https://kr.linkedin.com/company/coupang?trk=public_jobs_job-result-card_result-card_subtitle-click\">Coupang</a></h4><div class=\"result-card__meta job-result-card__meta\"><span class=\"job-result-card__location\">서울, 대한민국</span><time class=\"job-result-card__listdate\" datetime=\"2021-01-25\">4주 전</time><span class=\"job-result-card__easy-apply-label\">지금 지원</span></div></div></li><li class=\"result-card job-result-card result-card--with-hover-state\" data-column=\"1\" data-entity-urn=\"urn:li:jobPosting:2342682260\" data-id=\"2342682260\" data-row=\"12\" data-search-id=\"75622488-8146-43e8-bcc6-18aed8ee241d\" data-tracking-id=\"DKOG8CWgUFV4CZQIldbIgQ==\"><a class=\"result-card__full-card-link\" data-tracking-client-ingraph=\"\" data-tracking-control-name=\"public_jobs_job-result-card_result-card_full-click\" data-tracking-will-navigate=\"\" href=\"https://kr.linkedin.com/jobs/view/anti-cheat-data-analyst-at-pubg-corporation-2342682260?refId=75622488-8146-43e8-bcc6-18aed8ee241d&amp;trackingId=DKOG8CWgUFV4CZQIldbIgQ%3D%3D&amp;position=12&amp;pageNum=0&amp;trk=public_jobs_job-result-card_result-card_full-click\"><span class=\"screen-reader-text\">[Anti-Cheat] Data Analyst</span></a><img alt=\"PUBG Corporation\" aria-hidden=\"true\" class=\"artdeco-entity-image job-result-card artdeco-entity-image--square-4 job-result-card--square-4 result-card__image lazy-load\" data-delayed-url=\"https://media-exp1.licdn.com/dms/image/C510BAQHy-ZR9XJGvsA/company-logo_100_100/0/1567434111166?e=1622073600&amp;v=beta&amp;t=XwnYb0KXOcX1p1sVrI_Zju99FM4NCrT8tBwzavBmPiw\" data-ghost-classes=\"artdeco-entity-image--ghost job-result-card--ghost\" data-ghost-url=\"https://static-exp1.licdn.com/sc/p/com.linkedin.jobs-guest-frontend%3Ajobs-guest-frontend-static-content%2B2.0.13/f/%2Fjobs-guest-frontend%2Fartdeco-icons%2Fstatic%2Fimages%2Fentity-ghosts%2Fcompany%2Faccent-4.svg\"/><div class=\"result-card__contents job-result-card__contents\"><h3 class=\"result-card__title job-result-card__title\">[Anti-Cheat] Data Analyst</h3><h4 class=\"result-card__subtitle job-result-card__subtitle\"><a class=\"result-card__subtitle-link job-result-card__subtitle-link\" data-tracking-client-ingraph=\"\" data-tracking-control-name=\"public_jobs_job-result-card_result-card_subtitle-click\" data-tracking-will-navigate=\"\" href=\"https://kr.linkedin.com/company/pubg-corporation?trk=public_jobs_job-result-card_result-card_subtitle-click\">PUBG Corporation</a></h4><div class=\"result-card__meta job-result-card__meta\"><span class=\"job-result-card__location\">서울</span><time class=\"job-result-card__listdate\" datetime=\"2020-11-17\">3개월 전</time></div></div></li><li class=\"result-card job-result-card result-card--with-hover-state\" data-column=\"1\" data-entity-urn=\"urn:li:jobPosting:2409481659\" data-id=\"2409481659\" data-row=\"13\" data-search-id=\"75622488-8146-43e8-bcc6-18aed8ee241d\" data-tracking-id=\"k/Xw0tFpBHzr1mNE5zAkOw==\"><a class=\"result-card__full-card-link\" data-tracking-client-ingraph=\"\" data-tracking-control-name=\"public_jobs_job-result-card_result-card_full-click\" data-tracking-will-navigate=\"\" href=\"https://kr.linkedin.com/jobs/view/senior-analyst-data-analytics-at-%EB%A7%A5%ED%82%A8%EC%A7%80-2409481659?refId=75622488-8146-43e8-bcc6-18aed8ee241d&amp;trackingId=k%2FXw0tFpBHzr1mNE5zAkOw%3D%3D&amp;position=13&amp;pageNum=0&amp;trk=public_jobs_job-result-card_result-card_full-click\"><span class=\"screen-reader-text\">Senior Analyst - Data Analytics</span></a><img alt=\"맥킨지\" aria-hidden=\"true\" class=\"artdeco-entity-image job-result-card artdeco-entity-image--square-4 job-result-card--square-4 result-card__image lazy-load\" data-delayed-url=\"https://media-exp1.licdn.com/dms/image/C4D0BAQGWkk4JBp0vLQ/company-logo_100_100/0/1612189273035?e=1622073600&amp;v=beta&amp;t=iCHK6DTGTj4LjgLw6G6KDhjYpMMBTeleFrQIczdEuAU\" data-ghost-classes=\"artdeco-entity-image--ghost job-result-card--ghost\" data-ghost-url=\"https://static-exp1.licdn.com/sc/p/com.linkedin.jobs-guest-frontend%3Ajobs-guest-frontend-static-content%2B2.0.13/f/%2Fjobs-guest-frontend%2Fartdeco-icons%2Fstatic%2Fimages%2Fentity-ghosts%2Fcompany%2Faccent-4.svg\"/><div class=\"result-card__contents job-result-card__contents\"><h3 class=\"result-card__title job-result-card__title\">Senior Analyst - Data Analytics</h3><h4 class=\"result-card__subtitle job-result-card__subtitle\"><a class=\"result-card__subtitle-link job-result-card__subtitle-link\" data-tracking-client-ingraph=\"\" data-tracking-control-name=\"public_jobs_job-result-card_result-card_subtitle-click\" data-tracking-will-navigate=\"\" href=\"https://www.linkedin.com/company/mckinsey?trk=public_jobs_job-result-card_result-card_subtitle-click\">맥킨지</a></h4><div class=\"result-card__meta job-result-card__meta\"><span class=\"job-result-card__location\">서울</span><time class=\"job-result-card__listdate\" datetime=\"2021-02-16\">6일 전</time></div></div></li><li class=\"result-card job-result-card result-card--with-hover-state\" data-column=\"1\" data-entity-urn=\"urn:li:jobPosting:2421604619\" data-id=\"2421604619\" data-row=\"14\" data-search-id=\"75622488-8146-43e8-bcc6-18aed8ee241d\" data-tracking-id=\"IsnMVGuiY1oJhfeouzT4wQ==\"><a class=\"result-card__full-card-link\" data-tracking-client-ingraph=\"\" data-tracking-control-name=\"public_jobs_job-result-card_result-card_full-click\" data-tracking-will-navigate=\"\" href=\"https://kr.linkedin.com/jobs/view/2021-%EC%B9%B4%EC%B9%B4%EC%98%A4%ED%8E%98%EC%9D%B4-%EA%B2%BD%EB%A0%A5-%EA%B3%B5%EA%B0%9C%EC%B1%84%EC%9A%A9-at-%EC%B9%B4%EC%B9%B4%EC%98%A4%ED%8E%98%EC%9D%B4-kakaopay-2421604619?refId=75622488-8146-43e8-bcc6-18aed8ee241d&amp;trackingId=IsnMVGuiY1oJhfeouzT4wQ%3D%3D&amp;position=14&amp;pageNum=0&amp;trk=public_jobs_job-result-card_result-card_full-click\"><span class=\"screen-reader-text\">2021 카카오페이 경력 공개채용</span></a><img alt=\"카카오페이 (kakaopay)\" aria-hidden=\"true\" class=\"artdeco-entity-image job-result-card artdeco-entity-image--square-4 job-result-card--square-4 result-card__image lazy-load\" data-delayed-url=\"https://media-exp1.licdn.com/dms/image/C510BAQGYbPSvbg6zBQ/company-logo_100_100/0/1519883358475?e=1622073600&amp;v=beta&amp;t=2GU4xxRmiZ09nh6436g6GxgWGk1vmeTT-GxEHwAenlk\" data-ghost-classes=\"artdeco-entity-image--ghost job-result-card--ghost\" data-ghost-url=\"https://static-exp1.licdn.com/sc/p/com.linkedin.jobs-guest-frontend%3Ajobs-guest-frontend-static-content%2B2.0.13/f/%2Fjobs-guest-frontend%2Fartdeco-icons%2Fstatic%2Fimages%2Fentity-ghosts%2Fcompany%2Faccent-4.svg\"/><div class=\"result-card__contents job-result-card__contents\"><h3 class=\"result-card__title job-result-card__title\">2021 카카오페이 경력 공개채용</h3><h4 class=\"result-card__subtitle job-result-card__subtitle\"><a class=\"result-card__subtitle-link job-result-card__subtitle-link\" data-tracking-client-ingraph=\"\" data-tracking-control-name=\"public_jobs_job-result-card_result-card_subtitle-click\" data-tracking-will-navigate=\"\" href=\"https://kr.linkedin.com/company/kakaopay?trk=public_jobs_job-result-card_result-card_subtitle-click\">카카오페이 (kakaopay)</a></h4><div class=\"result-card__meta job-result-card__meta\"><span class=\"job-result-card__location\">경기도, 대한민국</span><time class=\"job-result-card__listdate\" datetime=\"2021-02-21\">2일 전</time></div></div></li><li class=\"result-card job-result-card result-card--with-hover-state\" data-column=\"1\" data-entity-urn=\"urn:li:jobPosting:2419184623\" data-id=\"2419184623\" data-row=\"15\" data-search-id=\"75622488-8146-43e8-bcc6-18aed8ee241d\" data-tracking-id=\"MIkyVmor/ddgREBdich3Ew==\"><a class=\"result-card__full-card-link\" data-tracking-client-ingraph=\"\" data-tracking-control-name=\"public_jobs_job-result-card_result-card_full-click\" data-tracking-will-navigate=\"\" href=\"https://kr.linkedin.com/jobs/view/associate-data-research-analyst-at-morningstar-2419184623?refId=75622488-8146-43e8-bcc6-18aed8ee241d&amp;trackingId=MIkyVmor%2FddgREBdich3Ew%3D%3D&amp;position=15&amp;pageNum=0&amp;trk=public_jobs_job-result-card_result-card_full-click\"><span class=\"screen-reader-text\">Associate data research analyst</span></a><img alt=\"Morningstar\" aria-hidden=\"true\" class=\"artdeco-entity-image job-result-card artdeco-entity-image--square-4 job-result-card--square-4 result-card__image lazy-load\" data-delayed-url=\"https://media-exp1.licdn.com/dms/image/C4E0BAQF4t1C1yX788Q/company-logo_100_100/0/1612210234545?e=1622073600&amp;v=beta&amp;t=CoEWrFEs5CvqTGeiv_gITX_0g8AqxIFRKpluMFtQE7M\" data-ghost-classes=\"artdeco-entity-image--ghost job-result-card--ghost\" data-ghost-url=\"https://static-exp1.licdn.com/sc/p/com.linkedin.jobs-guest-frontend%3Ajobs-guest-frontend-static-content%2B2.0.13/f/%2Fjobs-guest-frontend%2Fartdeco-icons%2Fstatic%2Fimages%2Fentity-ghosts%2Fcompany%2Faccent-4.svg\"/><div class=\"result-card__contents job-result-card__contents\"><h3 class=\"result-card__title job-result-card__title\">Associate data research analyst</h3><h4 class=\"result-card__subtitle job-result-card__subtitle\"><a class=\"result-card__subtitle-link job-result-card__subtitle-link\" data-tracking-client-ingraph=\"\" data-tracking-control-name=\"public_jobs_job-result-card_result-card_subtitle-click\" data-tracking-will-navigate=\"\" href=\"https://www.linkedin.com/company/morningstar?trk=public_jobs_job-result-card_result-card_subtitle-click\">Morningstar</a></h4><div class=\"result-card__meta job-result-card__meta\"><span class=\"job-result-card__location\">서울</span><time class=\"job-result-card__listdate\" datetime=\"2021-01-21\">1개월 전</time></div></div></li><li class=\"result-card job-result-card result-card--with-hover-state\" data-column=\"1\" data-entity-urn=\"urn:li:jobPosting:2409465660\" data-id=\"2409465660\" data-row=\"16\" data-search-id=\"75622488-8146-43e8-bcc6-18aed8ee241d\" data-tracking-id=\"Iex+E7Adup4tppbglfb7ZA==\"><a class=\"result-card__full-card-link\" data-tracking-client-ingraph=\"\" data-tracking-control-name=\"public_jobs_job-result-card_result-card_full-click\" data-tracking-will-navigate=\"\" href=\"https://kr.linkedin.com/jobs/view/l-oreal-korea-it-business-analyst-at-l-or%C3%A9al-2409465660?refId=75622488-8146-43e8-bcc6-18aed8ee241d&amp;trackingId=Iex%2BE7Adup4tppbglfb7ZA%3D%3D&amp;position=16&amp;pageNum=0&amp;trk=public_jobs_job-result-card_result-card_full-click\"><span class=\"screen-reader-text\">[L'Oreal Korea] IT Business Analyst</span></a><img alt=\"L&amp;#39;Oréal\" aria-hidden=\"true\" class=\"artdeco-entity-image job-result-card artdeco-entity-image--square-4 job-result-card--square-4 result-card__image lazy-load\" data-delayed-url=\"https://media-exp1.licdn.com/dms/image/C4D0BAQF_KBJ9v-2Gqw/company-logo_100_100/0/1611566745415?e=1622073600&amp;v=beta&amp;t=rTo4XhaHs7JwAakj58k6Kq6653t2NVAlWjxTxi6NmPo\" data-ghost-classes=\"artdeco-entity-image--ghost job-result-card--ghost\" data-ghost-url=\"https://static-exp1.licdn.com/sc/p/com.linkedin.jobs-guest-frontend%3Ajobs-guest-frontend-static-content%2B2.0.13/f/%2Fjobs-guest-frontend%2Fartdeco-icons%2Fstatic%2Fimages%2Fentity-ghosts%2Fcompany%2Faccent-4.svg\"/><div class=\"result-card__contents job-result-card__contents\"><h3 class=\"result-card__title job-result-card__title\">[L'Oreal Korea] IT Business Analyst</h3><h4 class=\"result-card__subtitle job-result-card__subtitle\"><a class=\"result-card__subtitle-link job-result-card__subtitle-link\" data-tracking-client-ingraph=\"\" data-tracking-control-name=\"public_jobs_job-result-card_result-card_subtitle-click\" data-tracking-will-navigate=\"\" href=\"https://fr.linkedin.com/company/lor%C3%A9al?trk=public_jobs_job-result-card_result-card_subtitle-click\">L'Oréal</a></h4><div class=\"result-card__meta job-result-card__meta\"><span class=\"job-result-card__location\">서울</span><time class=\"job-result-card__listdate\" datetime=\"2021-01-22\">1개월 전</time></div></div></li><li class=\"result-card job-result-card result-card--with-hover-state\" data-column=\"1\" data-entity-urn=\"urn:li:jobPosting:2296228914\" data-id=\"2296228914\" data-row=\"17\" data-search-id=\"75622488-8146-43e8-bcc6-18aed8ee241d\" data-tracking-id=\"WqtL0Ut8qRDo4iwFepV9Eg==\"><a class=\"result-card__full-card-link\" data-tracking-client-ingraph=\"\" data-tracking-control-name=\"public_jobs_job-result-card_result-card_full-click\" data-tracking-will-navigate=\"\" href=\"https://kr.linkedin.com/jobs/view/data-analyst-at-mathpresso-inc-2296228914?refId=75622488-8146-43e8-bcc6-18aed8ee241d&amp;trackingId=WqtL0Ut8qRDo4iwFepV9Eg%3D%3D&amp;position=17&amp;pageNum=0&amp;trk=public_jobs_job-result-card_result-card_full-click\"><span class=\"screen-reader-text\">Data Analyst</span></a><img alt=\"Mathpresso Inc.\" aria-hidden=\"true\" class=\"artdeco-entity-image job-result-card artdeco-entity-image--square-4 job-result-card--square-4 result-card__image lazy-load\" data-delayed-url=\"https://media-exp1.licdn.com/dms/image/C4D0BAQGSCbpH2fZKSA/company-logo_100_100/0/1519887690255?e=1622073600&amp;v=beta&amp;t=jDekR3bw1qdmq0YKm332267-2xenJJYLVyRfz6y6TPY\" data-ghost-classes=\"artdeco-entity-image--ghost job-result-card--ghost\" data-ghost-url=\"https://static-exp1.licdn.com/sc/p/com.linkedin.jobs-guest-frontend%3Ajobs-guest-frontend-static-content%2B2.0.13/f/%2Fjobs-guest-frontend%2Fartdeco-icons%2Fstatic%2Fimages%2Fentity-ghosts%2Fcompany%2Faccent-4.svg\"/><div class=\"result-card__contents job-result-card__contents\"><h3 class=\"result-card__title job-result-card__title\">Data Analyst</h3><h4 class=\"result-card__subtitle job-result-card__subtitle\"><a class=\"result-card__subtitle-link job-result-card__subtitle-link\" data-tracking-client-ingraph=\"\" data-tracking-control-name=\"public_jobs_job-result-card_result-card_subtitle-click\" data-tracking-will-navigate=\"\" href=\"https://kr.linkedin.com/company/mathpresso-inc?trk=public_jobs_job-result-card_result-card_subtitle-click\">Mathpresso Inc.</a></h4><div class=\"result-card__meta job-result-card__meta\"><span class=\"job-result-card__location\">서울</span><time class=\"job-result-card__listdate\" datetime=\"2020-10-16\">4개월 전</time></div></div></li><li class=\"result-card job-result-card result-card--with-hover-state\" data-column=\"1\" data-entity-urn=\"urn:li:jobPosting:2276884213\" data-id=\"2276884213\" data-row=\"18\" data-search-id=\"75622488-8146-43e8-bcc6-18aed8ee241d\" data-tracking-id=\"DpVKmCkTXdCLRlui9mPMJw==\"><a class=\"result-card__full-card-link\" data-tracking-client-ingraph=\"\" data-tracking-control-name=\"public_jobs_job-result-card_result-card_full-click\" data-tracking-will-navigate=\"\" href=\"https://kr.linkedin.com/jobs/view/data-analyst-at-42dot-2276884213?refId=75622488-8146-43e8-bcc6-18aed8ee241d&amp;trackingId=DpVKmCkTXdCLRlui9mPMJw%3D%3D&amp;position=18&amp;pageNum=0&amp;trk=public_jobs_job-result-card_result-card_full-click\"><span class=\"screen-reader-text\">Data Analyst</span></a><img alt=\"42dot\" aria-hidden=\"true\" class=\"artdeco-entity-image job-result-card artdeco-entity-image--square-4 job-result-card--square-4 result-card__image lazy-load\" data-delayed-url=\"https://media-exp1.licdn.com/dms/image/C560BAQG1ET5_q7b3Mg/company-logo_100_100/0/1596408753733?e=1622073600&amp;v=beta&amp;t=50aLdwdNqCrfUT2ZmHAJfIcUIJNwKZs9OtuyjE0ONE0\" data-ghost-classes=\"artdeco-entity-image--ghost job-result-card--ghost\" data-ghost-url=\"https://static-exp1.licdn.com/sc/p/com.linkedin.jobs-guest-frontend%3Ajobs-guest-frontend-static-content%2B2.0.13/f/%2Fjobs-guest-frontend%2Fartdeco-icons%2Fstatic%2Fimages%2Fentity-ghosts%2Fcompany%2Faccent-4.svg\"/><div class=\"result-card__contents job-result-card__contents\"><h3 class=\"result-card__title job-result-card__title\">Data Analyst</h3><h4 class=\"result-card__subtitle job-result-card__subtitle\"><a class=\"result-card__subtitle-link job-result-card__subtitle-link\" data-tracking-client-ingraph=\"\" data-tracking-control-name=\"public_jobs_job-result-card_result-card_subtitle-click\" data-tracking-will-navigate=\"\" href=\"https://kr.linkedin.com/company/42dot?trk=public_jobs_job-result-card_result-card_subtitle-click\">42dot</a></h4><div class=\"result-card__meta job-result-card__meta\"><span class=\"job-result-card__location\">서울</span><time class=\"job-result-card__listdate\" datetime=\"2020-10-11\">4개월 전</time></div></div></li><li class=\"result-card job-result-card result-card--with-hover-state\" data-column=\"1\" data-entity-urn=\"urn:li:jobPosting:2407609483\" data-id=\"2407609483\" data-row=\"19\" data-search-id=\"75622488-8146-43e8-bcc6-18aed8ee241d\" data-tracking-id=\"iRmcb0xoyKYxVgBxZxh0zQ==\"><a class=\"result-card__full-card-link\" data-tracking-client-ingraph=\"\" data-tracking-control-name=\"public_jobs_job-result-card_result-card_full-click\" data-tracking-will-navigate=\"\" href=\"https://kr.linkedin.com/jobs/view/data-research-analyst-korea-market-at-unity-technologies-2407609483?refId=75622488-8146-43e8-bcc6-18aed8ee241d&amp;trackingId=iRmcb0xoyKYxVgBxZxh0zQ%3D%3D&amp;position=19&amp;pageNum=0&amp;trk=public_jobs_job-result-card_result-card_full-click\"><span class=\"screen-reader-text\">Data Research Analyst, Korea market</span></a><img alt=\"Unity Technologies\" aria-hidden=\"true\" class=\"artdeco-entity-image job-result-card artdeco-entity-image--square-4 job-result-card--square-4 result-card__image lazy-load\" data-delayed-url=\"https://media-exp1.licdn.com/dms/image/C4E0BAQENGF_f27EylA/company-logo_100_100/0/1519912874442?e=1622073600&amp;v=beta&amp;t=FWC9A_Oda1InFpQKStfBywjd3gSt3PRNh3AkAVA1OxQ\" data-ghost-classes=\"artdeco-entity-image--ghost job-result-card--ghost\" data-ghost-url=\"https://static-exp1.licdn.com/sc/p/com.linkedin.jobs-guest-frontend%3Ajobs-guest-frontend-static-content%2B2.0.13/f/%2Fjobs-guest-frontend%2Fartdeco-icons%2Fstatic%2Fimages%2Fentity-ghosts%2Fcompany%2Faccent-4.svg\"/><div class=\"result-card__contents job-result-card__contents\"><h3 class=\"result-card__title job-result-card__title\">Data Research Analyst, Korea market</h3><h4 class=\"result-card__subtitle job-result-card__subtitle\"><a class=\"result-card__subtitle-link job-result-card__subtitle-link\" data-tracking-client-ingraph=\"\" data-tracking-control-name=\"public_jobs_job-result-card_result-card_subtitle-click\" data-tracking-will-navigate=\"\" href=\"https://www.linkedin.com/company/unity-technologies?trk=public_jobs_job-result-card_result-card_subtitle-click\">Unity Technologies</a></h4><div class=\"result-card__meta job-result-card__meta\"><span class=\"job-result-card__location\">서울</span><time class=\"job-result-card__listdate\" datetime=\"2021-02-11\">2주 전</time></div></div></li><li class=\"result-card job-result-card result-card--with-hover-state\" data-column=\"1\" data-entity-urn=\"urn:li:jobPosting:2342680040\" data-id=\"2342680040\" data-row=\"20\" data-search-id=\"75622488-8146-43e8-bcc6-18aed8ee241d\" data-tracking-id=\"nNpsLLJkPwzhYmukvBzylA==\"><a class=\"result-card__full-card-link\" data-tracking-client-ingraph=\"\" data-tracking-control-name=\"public_jobs_job-result-card_result-card_full-click\" data-tracking-will-navigate=\"\" href=\"https://kr.linkedin.com/jobs/view/cross-border-ecommerce-business-intelligence-based-in-seoul-at-shopee-2342680040?refId=75622488-8146-43e8-bcc6-18aed8ee241d&amp;trackingId=nNpsLLJkPwzhYmukvBzylA%3D%3D&amp;position=20&amp;pageNum=0&amp;trk=public_jobs_job-result-card_result-card_full-click\"><span class=\"screen-reader-text\">Cross Border Ecommerce - Business Intelligence (Based in Seoul)</span></a><img alt=\"Shopee\" aria-hidden=\"true\" class=\"artdeco-entity-image job-result-card artdeco-entity-image--square-4 job-result-card--square-4 result-card__image lazy-load\" data-delayed-url=\"https://media-exp1.licdn.com/dms/image/C560BAQE78wud6uJMVA/company-logo_100_100/0/1609240983675?e=1622073600&amp;v=beta&amp;t=zfJdFa5-e6KdEru7rMFRvGD7mTiHtqHTsM76K3cV3sM\" data-ghost-classes=\"artdeco-entity-image--ghost job-result-card--ghost\" data-ghost-url=\"https://static-exp1.licdn.com/sc/p/com.linkedin.jobs-guest-frontend%3Ajobs-guest-frontend-static-content%2B2.0.13/f/%2Fjobs-guest-frontend%2Fartdeco-icons%2Fstatic%2Fimages%2Fentity-ghosts%2Fcompany%2Faccent-4.svg\"/><div class=\"result-card__contents job-result-card__contents\"><h3 class=\"result-card__title job-result-card__title\">Cross Border Ecommerce - Business Intelligence (Based in Seoul)</h3><h4 class=\"result-card__subtitle job-result-card__subtitle\"><a class=\"result-card__subtitle-link job-result-card__subtitle-link\" data-tracking-client-ingraph=\"\" data-tracking-control-name=\"public_jobs_job-result-card_result-card_subtitle-click\" data-tracking-will-navigate=\"\" href=\"https://sg.linkedin.com/company/shopee?trk=public_jobs_job-result-card_result-card_subtitle-click\">Shopee</a></h4><div class=\"result-card__meta job-result-card__meta\"><span class=\"job-result-card__location\">서울</span><time class=\"job-result-card__listdate\" datetime=\"2020-11-17\">3개월 전</time></div></div></li><li class=\"result-card job-result-card result-card--with-hover-state\" data-column=\"1\" data-entity-urn=\"urn:li:jobPosting:2395836906\" data-id=\"2395836906\" data-row=\"21\" data-search-id=\"75622488-8146-43e8-bcc6-18aed8ee241d\" data-tracking-id=\"t5Eo8P3TwWZZBOJsgedX6A==\"><a class=\"result-card__full-card-link\" data-tracking-client-ingraph=\"\" data-tracking-control-name=\"public_jobs_job-result-card_result-card_full-click\" data-tracking-will-navigate=\"\" href=\"https://kr.linkedin.com/jobs/view/strategic-data-analyst-digital-ecommerce-at-thermo-fisher-scientific-2395836906?refId=75622488-8146-43e8-bcc6-18aed8ee241d&amp;trackingId=t5Eo8P3TwWZZBOJsgedX6A%3D%3D&amp;position=21&amp;pageNum=0&amp;trk=public_jobs_job-result-card_result-card_full-click\"><span class=\"screen-reader-text\">Strategic Data Analyst, digital &amp; eCommerce</span></a><img alt=\"Thermo Fisher Scientific\" aria-hidden=\"true\" class=\"artdeco-entity-image job-result-card artdeco-entity-image--square-4 job-result-card--square-4 result-card__image lazy-load\" data-delayed-url=\"https://media-exp1.licdn.com/dms/image/C4E0BAQHX2VR2XPQBjQ/company-logo_100_100/0/1519856221459?e=1622073600&amp;v=beta&amp;t=2bIZPFK6mbd9dxadQivDeC5jGsyFHg-QWvLrlyoiDOU\" data-ghost-classes=\"artdeco-entity-image--ghost job-result-card--ghost\" data-ghost-url=\"https://static-exp1.licdn.com/sc/p/com.linkedin.jobs-guest-frontend%3Ajobs-guest-frontend-static-content%2B2.0.13/f/%2Fjobs-guest-frontend%2Fartdeco-icons%2Fstatic%2Fimages%2Fentity-ghosts%2Fcompany%2Faccent-4.svg\"/><div class=\"result-card__contents job-result-card__contents\"><h3 class=\"result-card__title job-result-card__title\">Strategic Data Analyst, digital &amp; eCommerce</h3><h4 class=\"result-card__subtitle job-result-card__subtitle\"><a class=\"result-card__subtitle-link job-result-card__subtitle-link\" data-tracking-client-ingraph=\"\" data-tracking-control-name=\"public_jobs_job-result-card_result-card_subtitle-click\" data-tracking-will-navigate=\"\" href=\"https://www.linkedin.com/company/thermo-fisher-scientific?trk=public_jobs_job-result-card_result-card_subtitle-click\">Thermo Fisher Scientific</a></h4><div class=\"result-card__meta job-result-card__meta\"><span class=\"job-result-card__location\">서울</span><time class=\"job-result-card__listdate\" datetime=\"2021-02-03\">3주 전</time></div></div></li><li class=\"result-card job-result-card result-card--with-hover-state\" data-column=\"1\" data-entity-urn=\"urn:li:jobPosting:2149792774\" data-id=\"2149792774\" data-row=\"22\" data-search-id=\"75622488-8146-43e8-bcc6-18aed8ee241d\" data-tracking-id=\"uQEehMn8CSgci2pqr+7Iqw==\"><a class=\"result-card__full-card-link\" data-tracking-client-ingraph=\"\" data-tracking-control-name=\"public_jobs_job-result-card_result-card_full-click\" data-tracking-will-navigate=\"\" href=\"https://kr.linkedin.com/jobs/view/aia%EC%83%9D%EB%AA%85-%EA%B3%A0%EA%B0%9D%EB%B6%84%EC%84%9D%ED%8C%80-data-analyst-at-aia%EC%83%9D%EB%AA%85-2149792774?refId=75622488-8146-43e8-bcc6-18aed8ee241d&amp;trackingId=uQEehMn8CSgci2pqr%2B7Iqw%3D%3D&amp;position=22&amp;pageNum=0&amp;trk=public_jobs_job-result-card_result-card_full-click\"><span class=\"screen-reader-text\">[AIA생명] 고객분석팀 - Data Analyst</span></a><img alt=\"AIA생명\" aria-hidden=\"true\" class=\"artdeco-entity-image job-result-card artdeco-entity-image--square-4 job-result-card--square-4 result-card__image lazy-load\" data-delayed-url=\"https://media-exp1.licdn.com/dms/image/C4D0BAQEZc9QrbZvM7g/company-logo_100_100/0/1578489774206?e=1622073600&amp;v=beta&amp;t=dc-IXheRdXq0PTUTLKQdYcq0XrKTM7EGoLiroAQHi6c\" data-ghost-classes=\"artdeco-entity-image--ghost job-result-card--ghost\" data-ghost-url=\"https://static-exp1.licdn.com/sc/p/com.linkedin.jobs-guest-frontend%3Ajobs-guest-frontend-static-content%2B2.0.13/f/%2Fjobs-guest-frontend%2Fartdeco-icons%2Fstatic%2Fimages%2Fentity-ghosts%2Fcompany%2Faccent-4.svg\"/><div class=\"result-card__contents job-result-card__contents\"><h3 class=\"result-card__title job-result-card__title\">[AIA생명] 고객분석팀 - Data Analyst</h3><h4 class=\"result-card__subtitle job-result-card__subtitle\"><a class=\"result-card__subtitle-link job-result-card__subtitle-link\" data-tracking-client-ingraph=\"\" data-tracking-control-name=\"public_jobs_job-result-card_result-card_subtitle-click\" data-tracking-will-navigate=\"\" href=\"https://kr.linkedin.com/company/aia%EC%83%9D%EB%AA%85%EB%B3%B4%ED%97%98-%EC%A3%BC%EC%8B%9D%ED%9A%8C%EC%82%AC?trk=public_jobs_job-result-card_result-card_subtitle-click\">AIA생명</a></h4><div class=\"result-card__meta job-result-card__meta\"><span class=\"job-result-card__location\">서울, 대한민국</span><time class=\"job-result-card__listdate\" datetime=\"2020-09-25\">5개월 전</time></div></div></li><li class=\"result-card job-result-card result-card--with-hover-state\" data-column=\"1\" data-entity-urn=\"urn:li:jobPosting:2385509220\" data-id=\"2385509220\" data-row=\"23\" data-search-id=\"75622488-8146-43e8-bcc6-18aed8ee241d\" data-tracking-id=\"xMkJGhPO+ZDu4B+COZnTBQ==\"><a class=\"result-card__full-card-link\" data-tracking-client-ingraph=\"\" data-tracking-control-name=\"public_jobs_job-result-card_result-card_full-click\" data-tracking-will-navigate=\"\" href=\"https://kr.linkedin.com/jobs/view/customer-business-analyst-at-intel-2385509220?refId=75622488-8146-43e8-bcc6-18aed8ee241d&amp;trackingId=xMkJGhPO%2BZDu4B%2BCOZnTBQ%3D%3D&amp;position=23&amp;pageNum=0&amp;trk=public_jobs_job-result-card_result-card_full-click\"><span class=\"screen-reader-text\">Customer Business Analyst</span></a><img alt=\"Intel\" aria-hidden=\"true\" class=\"artdeco-entity-image job-result-card artdeco-entity-image--square-4 job-result-card--square-4 result-card__image lazy-load\" data-delayed-url=\"https://media-exp1.licdn.com/dms/image/C560BAQGb5uXn1xXitg/company-logo_100_100/0/1599065204805?e=1622073600&amp;v=beta&amp;t=pNYGxVizCWqFTl6yJabwUmBS_V5SBk9xDd1bsvU8H1c\" data-ghost-classes=\"artdeco-entity-image--ghost job-result-card--ghost\" data-ghost-url=\"https://static-exp1.licdn.com/sc/p/com.linkedin.jobs-guest-frontend%3Ajobs-guest-frontend-static-content%2B2.0.13/f/%2Fjobs-guest-frontend%2Fartdeco-icons%2Fstatic%2Fimages%2Fentity-ghosts%2Fcompany%2Faccent-4.svg\"/><div class=\"result-card__contents job-result-card__contents\"><h3 class=\"result-card__title job-result-card__title\">Customer Business Analyst</h3><h4 class=\"result-card__subtitle job-result-card__subtitle\"><a class=\"result-card__subtitle-link job-result-card__subtitle-link\" data-tracking-client-ingraph=\"\" data-tracking-control-name=\"public_jobs_job-result-card_result-card_subtitle-click\" data-tracking-will-navigate=\"\" href=\"https://www.linkedin.com/company/intel-corporation?trk=public_jobs_job-result-card_result-card_subtitle-click\">Intel</a></h4><div class=\"result-card__meta job-result-card__meta\"><span class=\"job-result-card__location\">서울</span><time class=\"job-result-card__listdate\" datetime=\"2021-01-28\">4주 전</time></div></div></li></ul>"
      ]
     },
     "execution_count": 184,
     "metadata": {},
     "output_type": "execute_result"
    }
   ],
   "source": [
    "job_container"
   ]
  },
  {
   "cell_type": "code",
   "execution_count": 185,
   "metadata": {},
   "outputs": [],
   "source": [
    "# setting up list for job information\n",
    "job_id = []\n",
    "post_title = []\n",
    "company_name = []\n",
    "post_date = []\n",
    "job_location = []\n",
    "job_desc = []\n",
    "level = []\n",
    "emp_type = []\n",
    "functions = []\n",
    "industries = []\n",
    "\n",
    "# for loop for job title, company, id, location and date posted\n",
    "for job in job_container:\n",
    "    \n",
    "    # job title\n",
    "    job_titles = job.find(\"span\", class_=\"screen-reader-text\").text\n",
    "    post_title.append(job_titles)\n",
    "    \n",
    "    # linkedin job id\n",
    "    job_ids = job.find('a', href=True)['href']\n",
    "    job_ids = re.findall(r'(?!-)([0-9]*)(?=\\?)',job_ids)[0]\n",
    "    job_id.append(job_ids)\n",
    "    \n",
    "    # company name\n",
    "    company_names = job.select_one('img')['alt']\n",
    "    company_name.append(company_names)\n",
    "    \n",
    "    # job location\n",
    "    job_locations = job.find(\"span\", class_=\"job-result-card__location\").text\n",
    "    job_location.append(job_locations)\n",
    "    \n",
    "    # posting date\n",
    "    post_dates = job.select_one('time')['datetime']\n",
    "    post_date.append(post_dates)\n",
    "\n",
    "# for loop for job description and criterias\n",
    "for x in range(1,len(job_id)+1):\n",
    "    \n",
    "    # clicking on different job containers to view information about the job\n",
    "    job_xpath = '/html/body/main/div/section/ul/li[{}]/img'.format(x)\n",
    "    driver.find_element_by_xpath(job_xpath).click()\n",
    "    sleep(3)\n",
    "    \n",
    "    # job description\n",
    "    jobdesc_xpath = '/html/body/main/section/div[2]/section[2]/div'\n",
    "    job_descs = driver.find_element_by_xpath(jobdesc_xpath).text\n",
    "    job_desc.append(job_descs)\n",
    "    \n",
    "    # job criteria container below the description\n",
    "    job_criteria_container = lxml_soup.find('ul', class_ = 'job-criteria__list')\n",
    "    all_job_criterias = job_criteria_container.find_all(\"span\", class_='job-criteria__text job-criteria__text--criteria')\n",
    "    \n",
    "    # Seniority level\n",
    "    seniority_xpath = '/html/body/main/section/div[2]/section[2]/ul/li[1]'\n",
    "    seniority = driver.find_element_by_xpath(seniority_xpath).text.splitlines(0)[1]\n",
    "    level.append(seniority)\n",
    "    \n",
    "    # Employment type\n",
    "    type_xpath = '/html/body/main/section/div[2]/section[2]/ul/li[2]'\n",
    "    employment_type = driver.find_element_by_xpath(type_xpath).text.splitlines(0)[1]\n",
    "    emp_type.append(employment_type)\n",
    "    \n",
    "    # Job function\n",
    "    function_xpath = '/html/body/main/section/div[2]/section[2]/ul/li[3]'\n",
    "    job_function = driver.find_element_by_xpath(function_xpath).text.splitlines(0)[1]\n",
    "    functions.append(job_function)\n",
    "    \n",
    "    # Industries\n",
    "    industry_xpath = '/html/body/main/section/div[2]/section[2]/ul/li[4]'\n",
    "    industry_type = driver.find_element_by_xpath(industry_xpath).text.splitlines(0)[1]\n",
    "    industries.append(industry_type)\n",
    "    \n",
    "    x = x+1"
   ]
  },
  {
   "cell_type": "code",
   "execution_count": 186,
   "metadata": {},
   "outputs": [
    {
     "name": "stdout",
     "output_type": "stream",
     "text": [
      "23\n",
      "23\n",
      "23\n",
      "23\n",
      "23\n",
      "23\n",
      "23\n",
      "23\n",
      "23\n",
      "23\n"
     ]
    }
   ],
   "source": [
    "# to check if we have all information\n",
    "print(len(job_id))\n",
    "print(len(post_date))\n",
    "print(len(company_name))\n",
    "print(len(post_title))\n",
    "print(len(job_location))\n",
    "print(len(job_desc))\n",
    "print(len(level))\n",
    "print(len(emp_type))\n",
    "print(len(functions))\n",
    "print(len(industries))"
   ]
  },
  {
   "cell_type": "code",
   "execution_count": 187,
   "metadata": {},
   "outputs": [
    {
     "name": "stdout",
     "output_type": "stream",
     "text": [
      "<class 'pandas.core.frame.DataFrame'>\n",
      "RangeIndex: 23 entries, 0 to 22\n",
      "Data columns (total 10 columns):\n",
      " #   Column        Non-Null Count  Dtype \n",
      "---  ------        --------------  ----- \n",
      " 0   Job ID        23 non-null     object\n",
      " 1   Date          23 non-null     object\n",
      " 2   Company Name  23 non-null     object\n",
      " 3   Post          23 non-null     object\n",
      " 4   Location      23 non-null     object\n",
      " 5   Description   23 non-null     object\n",
      " 6   Level         23 non-null     object\n",
      " 7   Type          23 non-null     object\n",
      " 8   Function      23 non-null     object\n",
      " 9   Industry      23 non-null     object\n",
      "dtypes: object(10)\n",
      "memory usage: 1.9+ KB\n",
      "None\n"
     ]
    },
    {
     "data": {
      "text/html": [
       "<div>\n",
       "<style scoped>\n",
       "    .dataframe tbody tr th:only-of-type {\n",
       "        vertical-align: middle;\n",
       "    }\n",
       "\n",
       "    .dataframe tbody tr th {\n",
       "        vertical-align: top;\n",
       "    }\n",
       "\n",
       "    .dataframe thead th {\n",
       "        text-align: right;\n",
       "    }\n",
       "</style>\n",
       "<table border=\"1\" class=\"dataframe\">\n",
       "  <thead>\n",
       "    <tr style=\"text-align: right;\">\n",
       "      <th></th>\n",
       "      <th>Job ID</th>\n",
       "      <th>Date</th>\n",
       "      <th>Company Name</th>\n",
       "      <th>Post</th>\n",
       "      <th>Location</th>\n",
       "      <th>Description</th>\n",
       "      <th>Level</th>\n",
       "      <th>Type</th>\n",
       "      <th>Function</th>\n",
       "      <th>Industry</th>\n",
       "    </tr>\n",
       "  </thead>\n",
       "  <tbody>\n",
       "    <tr>\n",
       "      <th>0</th>\n",
       "      <td>2401687696</td>\n",
       "      <td>2021-02-07</td>\n",
       "      <td>Dyson</td>\n",
       "      <td>Digital Optimisation Analyst</td>\n",
       "      <td>서울</td>\n",
       "      <td>About Us  Relentlessly solving problems is at ...</td>\n",
       "      <td>신입</td>\n",
       "      <td>풀타임</td>\n",
       "      <td>광고디자인마케팅</td>\n",
       "      <td>IT컴퓨터 소프트웨어소매</td>\n",
       "    </tr>\n",
       "    <tr>\n",
       "      <th>1</th>\n",
       "      <td>2421699533</td>\n",
       "      <td>2021-02-22</td>\n",
       "      <td>Viva Republica (Toss)</td>\n",
       "      <td>[토스증권] Data Analyst</td>\n",
       "      <td>서울, 대한민국</td>\n",
       "      <td>Viva Republica (Toss)에서 채용공고 게시자에게 직접 메시지를 보냅니...</td>\n",
       "      <td>과장·부장</td>\n",
       "      <td>풀타임</td>\n",
       "      <td>IT애널리스트전략·기획</td>\n",
       "      <td>금융 서비스IT은행</td>\n",
       "    </tr>\n",
       "    <tr>\n",
       "      <th>2</th>\n",
       "      <td>2412547747</td>\n",
       "      <td>2021-02-16</td>\n",
       "      <td>Han Sung Motor 한성자동차</td>\n",
       "      <td>Data Analyst</td>\n",
       "      <td>서울, 대한민국</td>\n",
       "      <td>Han Sung Motor 한성자동차에서 채용공고 게시자에게 직접 메시지를 보냅니다...</td>\n",
       "      <td>신입</td>\n",
       "      <td>풀타임</td>\n",
       "      <td>IT</td>\n",
       "      <td>자동차</td>\n",
       "    </tr>\n",
       "    <tr>\n",
       "      <th>3</th>\n",
       "      <td>2433340415</td>\n",
       "      <td>2021-02-21</td>\n",
       "      <td>Morningstar</td>\n",
       "      <td>Associate data research analyst - Seoul</td>\n",
       "      <td>서울</td>\n",
       "      <td>An associate data research analyst will perfor...</td>\n",
       "      <td>대리</td>\n",
       "      <td>풀타임</td>\n",
       "      <td>연구애널리스트IT</td>\n",
       "      <td>경영 자문금융 서비스투자 관리</td>\n",
       "    </tr>\n",
       "    <tr>\n",
       "      <th>4</th>\n",
       "      <td>2383871476</td>\n",
       "      <td>2021-01-28</td>\n",
       "      <td>Asurion</td>\n",
       "      <td>Data Analyst</td>\n",
       "      <td>서울 인천 지역</td>\n",
       "      <td>To apply the position, please attached your de...</td>\n",
       "      <td>대리</td>\n",
       "      <td>풀타임</td>\n",
       "      <td>애널리스트IT</td>\n",
       "      <td>IT보험</td>\n",
       "    </tr>\n",
       "  </tbody>\n",
       "</table>\n",
       "</div>"
      ],
      "text/plain": [
       "       Job ID        Date           Company Name  \\\n",
       "0  2401687696  2021-02-07                  Dyson   \n",
       "1  2421699533  2021-02-22  Viva Republica (Toss)   \n",
       "2  2412547747  2021-02-16   Han Sung Motor 한성자동차   \n",
       "3  2433340415  2021-02-21            Morningstar   \n",
       "4  2383871476  2021-01-28                Asurion   \n",
       "\n",
       "                                      Post  Location  \\\n",
       "0             Digital Optimisation Analyst        서울   \n",
       "1                      [토스증권] Data Analyst  서울, 대한민국   \n",
       "2                             Data Analyst  서울, 대한민국   \n",
       "3  Associate data research analyst - Seoul        서울   \n",
       "4                             Data Analyst  서울 인천 지역   \n",
       "\n",
       "                                         Description  Level Type  \\\n",
       "0  About Us  Relentlessly solving problems is at ...     신입  풀타임   \n",
       "1  Viva Republica (Toss)에서 채용공고 게시자에게 직접 메시지를 보냅니...  과장·부장  풀타임   \n",
       "2  Han Sung Motor 한성자동차에서 채용공고 게시자에게 직접 메시지를 보냅니다...     신입  풀타임   \n",
       "3  An associate data research analyst will perfor...     대리  풀타임   \n",
       "4  To apply the position, please attached your de...     대리  풀타임   \n",
       "\n",
       "       Function          Industry  \n",
       "0      광고디자인마케팅     IT컴퓨터 소프트웨어소매  \n",
       "1  IT애널리스트전략·기획        금융 서비스IT은행  \n",
       "2            IT               자동차  \n",
       "3     연구애널리스트IT  경영 자문금융 서비스투자 관리  \n",
       "4       애널리스트IT              IT보험  "
      ]
     },
     "execution_count": 187,
     "metadata": {},
     "output_type": "execute_result"
    }
   ],
   "source": [
    "# creating a dataframe\n",
    "job_data = pd.DataFrame({'Job ID': job_id,\n",
    "'Date': post_date,\n",
    "'Company Name': company_name,\n",
    "'Post': post_title,\n",
    "'Location': job_location,\n",
    "'Description': job_desc,\n",
    "'Level': level,\n",
    "'Type': emp_type,\n",
    "'Function': functions,\n",
    "'Industry': industries\n",
    "})\n",
    "\n",
    "# cleaning description column\n",
    "job_data['Description'] = job_data['Description'].str.replace('\\n',' ')\n",
    "\n",
    "print(job_data.info())\n",
    "job_data.head()"
   ]
  },
  {
   "cell_type": "code",
   "execution_count": null,
   "metadata": {},
   "outputs": [],
   "source": []
  },
  {
   "cell_type": "code",
   "execution_count": 188,
   "metadata": {},
   "outputs": [],
   "source": [
    "job_data.to_csv(\"linkedin_job_crawling_0223.csv\", index = False)"
   ]
  },
  {
   "cell_type": "code",
   "execution_count": 202,
   "metadata": {},
   "outputs": [
    {
     "data": {
      "text/html": [
       "<div>\n",
       "<style scoped>\n",
       "    .dataframe tbody tr th:only-of-type {\n",
       "        vertical-align: middle;\n",
       "    }\n",
       "\n",
       "    .dataframe tbody tr th {\n",
       "        vertical-align: top;\n",
       "    }\n",
       "\n",
       "    .dataframe thead th {\n",
       "        text-align: right;\n",
       "    }\n",
       "</style>\n",
       "<table border=\"1\" class=\"dataframe\">\n",
       "  <thead>\n",
       "    <tr style=\"text-align: right;\">\n",
       "      <th></th>\n",
       "      <th>Job ID</th>\n",
       "      <th>Date</th>\n",
       "      <th>Company Name</th>\n",
       "      <th>Post</th>\n",
       "      <th>Location</th>\n",
       "      <th>Description</th>\n",
       "      <th>Level</th>\n",
       "      <th>Type</th>\n",
       "      <th>Function</th>\n",
       "      <th>Industry</th>\n",
       "    </tr>\n",
       "  </thead>\n",
       "  <tbody>\n",
       "    <tr>\n",
       "      <th>0</th>\n",
       "      <td>2401687696</td>\n",
       "      <td>2021-02-07</td>\n",
       "      <td>Dyson</td>\n",
       "      <td>Digital Optimisation Analyst</td>\n",
       "      <td>서울</td>\n",
       "      <td>About Us  Relentlessly solving problems is at ...</td>\n",
       "      <td>신입</td>\n",
       "      <td>풀타임</td>\n",
       "      <td>광고디자인마케팅</td>\n",
       "      <td>IT컴퓨터 소프트웨어소매</td>\n",
       "    </tr>\n",
       "    <tr>\n",
       "      <th>1</th>\n",
       "      <td>2421699533</td>\n",
       "      <td>2021-02-22</td>\n",
       "      <td>Viva Republica (Toss)</td>\n",
       "      <td>[토스증권] Data Analyst</td>\n",
       "      <td>서울, 대한민국</td>\n",
       "      <td>Viva Republica (Toss)에서 채용공고 게시자에게 직접 메시지를 보냅니...</td>\n",
       "      <td>과장·부장</td>\n",
       "      <td>풀타임</td>\n",
       "      <td>IT애널리스트전략·기획</td>\n",
       "      <td>금융 서비스IT은행</td>\n",
       "    </tr>\n",
       "    <tr>\n",
       "      <th>2</th>\n",
       "      <td>2412547747</td>\n",
       "      <td>2021-02-16</td>\n",
       "      <td>Han Sung Motor 한성자동차</td>\n",
       "      <td>Data Analyst</td>\n",
       "      <td>서울, 대한민국</td>\n",
       "      <td>Han Sung Motor 한성자동차에서 채용공고 게시자에게 직접 메시지를 보냅니다...</td>\n",
       "      <td>신입</td>\n",
       "      <td>풀타임</td>\n",
       "      <td>IT</td>\n",
       "      <td>자동차</td>\n",
       "    </tr>\n",
       "    <tr>\n",
       "      <th>3</th>\n",
       "      <td>2433340415</td>\n",
       "      <td>2021-02-21</td>\n",
       "      <td>Morningstar</td>\n",
       "      <td>Associate data research analyst - Seoul</td>\n",
       "      <td>서울</td>\n",
       "      <td>An associate data research analyst will perfor...</td>\n",
       "      <td>대리</td>\n",
       "      <td>풀타임</td>\n",
       "      <td>연구애널리스트IT</td>\n",
       "      <td>경영 자문금융 서비스투자 관리</td>\n",
       "    </tr>\n",
       "    <tr>\n",
       "      <th>4</th>\n",
       "      <td>2383871476</td>\n",
       "      <td>2021-01-28</td>\n",
       "      <td>Asurion</td>\n",
       "      <td>Data Analyst</td>\n",
       "      <td>서울 인천 지역</td>\n",
       "      <td>To apply the position, please attached your de...</td>\n",
       "      <td>대리</td>\n",
       "      <td>풀타임</td>\n",
       "      <td>애널리스트IT</td>\n",
       "      <td>IT보험</td>\n",
       "    </tr>\n",
       "  </tbody>\n",
       "</table>\n",
       "</div>"
      ],
      "text/plain": [
       "       Job ID       Date           Company Name  \\\n",
       "0  2401687696 2021-02-07                  Dyson   \n",
       "1  2421699533 2021-02-22  Viva Republica (Toss)   \n",
       "2  2412547747 2021-02-16   Han Sung Motor 한성자동차   \n",
       "3  2433340415 2021-02-21            Morningstar   \n",
       "4  2383871476 2021-01-28                Asurion   \n",
       "\n",
       "                                      Post  Location  \\\n",
       "0             Digital Optimisation Analyst        서울   \n",
       "1                      [토스증권] Data Analyst  서울, 대한민국   \n",
       "2                             Data Analyst  서울, 대한민국   \n",
       "3  Associate data research analyst - Seoul        서울   \n",
       "4                             Data Analyst  서울 인천 지역   \n",
       "\n",
       "                                         Description  Level Type  \\\n",
       "0  About Us  Relentlessly solving problems is at ...     신입  풀타임   \n",
       "1  Viva Republica (Toss)에서 채용공고 게시자에게 직접 메시지를 보냅니...  과장·부장  풀타임   \n",
       "2  Han Sung Motor 한성자동차에서 채용공고 게시자에게 직접 메시지를 보냅니다...     신입  풀타임   \n",
       "3  An associate data research analyst will perfor...     대리  풀타임   \n",
       "4  To apply the position, please attached your de...     대리  풀타임   \n",
       "\n",
       "       Function          Industry  \n",
       "0      광고디자인마케팅     IT컴퓨터 소프트웨어소매  \n",
       "1  IT애널리스트전략·기획        금융 서비스IT은행  \n",
       "2            IT               자동차  \n",
       "3     연구애널리스트IT  경영 자문금융 서비스투자 관리  \n",
       "4       애널리스트IT              IT보험  "
      ]
     },
     "execution_count": 202,
     "metadata": {},
     "output_type": "execute_result"
    }
   ],
   "source": [
    "df.head()"
   ]
  },
  {
   "cell_type": "code",
   "execution_count": 203,
   "metadata": {},
   "outputs": [
    {
     "name": "stdout",
     "output_type": "stream",
     "text": [
      "<class 'pandas.core.frame.DataFrame'>\n",
      "RangeIndex: 23 entries, 0 to 22\n",
      "Data columns (total 10 columns):\n",
      " #   Column        Non-Null Count  Dtype         \n",
      "---  ------        --------------  -----         \n",
      " 0   Job ID        23 non-null     int64         \n",
      " 1   Date          23 non-null     datetime64[ns]\n",
      " 2   Company Name  23 non-null     object        \n",
      " 3   Post          23 non-null     object        \n",
      " 4   Location      23 non-null     object        \n",
      " 5   Description   23 non-null     object        \n",
      " 6   Level         23 non-null     object        \n",
      " 7   Type          23 non-null     object        \n",
      " 8   Function      23 non-null     object        \n",
      " 9   Industry      23 non-null     object        \n",
      "dtypes: datetime64[ns](1), int64(1), object(8)\n",
      "memory usage: 1.9+ KB\n"
     ]
    }
   ],
   "source": [
    "df.info()"
   ]
  },
  {
   "cell_type": "code",
   "execution_count": 201,
   "metadata": {},
   "outputs": [],
   "source": [
    "df[\"Date\"] = pd.to_datetime(df[\"Date\"], format = \"%Y/%m/%d\")"
   ]
  },
  {
   "cell_type": "code",
   "execution_count": 204,
   "metadata": {},
   "outputs": [
    {
     "data": {
      "text/plain": [
       "array(['서울', '서울, 대한민국', '서울 인천 지역', '강남구', '경기도, 대한민국'], dtype=object)"
      ]
     },
     "execution_count": 204,
     "metadata": {},
     "output_type": "execute_result"
    }
   ],
   "source": [
    "df[\"Location\"].unique()"
   ]
  },
  {
   "cell_type": "code",
   "execution_count": 211,
   "metadata": {},
   "outputs": [],
   "source": [
    "df = df.sort_values(by = \"Date\", ascending = False)"
   ]
  },
  {
   "cell_type": "code",
   "execution_count": 213,
   "metadata": {},
   "outputs": [],
   "source": [
    "df.reset_index(drop = True, inplace = True)"
   ]
  },
  {
   "cell_type": "code",
   "execution_count": 219,
   "metadata": {},
   "outputs": [],
   "source": [
    "df = df.replace(\"L&#39;Oréal\", \"L'Oreal Korea\")\n",
    "df.to_csv(\"linkedin_job_crawling_0223.csv\", index = False)"
   ]
  },
  {
   "cell_type": "code",
   "execution_count": null,
   "metadata": {},
   "outputs": [],
   "source": []
  },
  {
   "cell_type": "code",
   "execution_count": null,
   "metadata": {},
   "outputs": [],
   "source": []
  },
  {
   "cell_type": "code",
   "execution_count": null,
   "metadata": {},
   "outputs": [],
   "source": []
  },
  {
   "cell_type": "code",
   "execution_count": null,
   "metadata": {},
   "outputs": [],
   "source": []
  }
 ],
 "metadata": {
  "kernelspec": {
   "display_name": "Python 3",
   "language": "python",
   "name": "python3"
  },
  "language_info": {
   "codemirror_mode": {
    "name": "ipython",
    "version": 3
   },
   "file_extension": ".py",
   "mimetype": "text/x-python",
   "name": "python",
   "nbconvert_exporter": "python",
   "pygments_lexer": "ipython3",
   "version": "3.7.6"
  },
  "toc": {
   "base_numbering": 1,
   "nav_menu": {},
   "number_sections": true,
   "sideBar": true,
   "skip_h1_title": false,
   "title_cell": "Table of Contents",
   "title_sidebar": "Contents",
   "toc_cell": false,
   "toc_position": {},
   "toc_section_display": true,
   "toc_window_display": false
  }
 },
 "nbformat": 4,
 "nbformat_minor": 4
}
