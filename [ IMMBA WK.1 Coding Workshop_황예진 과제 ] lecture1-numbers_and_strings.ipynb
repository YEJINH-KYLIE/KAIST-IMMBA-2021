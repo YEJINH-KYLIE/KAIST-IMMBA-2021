{
 "cells": [
  {
   "cell_type": "markdown",
   "metadata": {},
   "source": [
    "# Lecture 1 : Numbers and Strings"
   ]
  },
  {
   "cell_type": "markdown",
   "metadata": {},
   "source": [
    "* Numbers and strings are important data types in any Python program.\n",
    "    * These are the fundamental building blocks we use to build more complex data structures\n",
    "* In this lecture, you will learn how to work with numbers and strings. We will write several simple programs that use them.\n",
    "\n",
    "## 1. Variables"
   ]
  },
  {
   "cell_type": "markdown",
   "metadata": {},
   "source": [
    "* A variable is a named storage location in a computer program.\n",
    "* There are many different types of variables, each type used to store different things\n",
    "* You 'define' a variable by telling the compiler:\n",
    "    * What name you will use to refer to it\n",
    "    * The initial value of the variable\n",
    "* You use an assignment statement to place a value into a variable\n",
    "\n",
    "### 1.1 Variable Definition"
   ]
  },
  {
   "cell_type": "markdown",
   "metadata": {},
   "source": [
    "* To define a variable, you must specify an initial value\n",
    "* Use the **assignment statement** '=' to place a new value into a variable\n",
    "    * Beware the '=' sign is NOT used for comparison:\n",
    "        * It copies the value on the right side into the variable on the left side\n",
    "        * Guess what the comparison operator (We will learn about it in the next lecture, of course :))"
   ]
  },
  {
   "cell_type": "code",
   "execution_count": 1,
   "metadata": {},
   "outputs": [
    {
     "ename": "NameError",
     "evalue": "name 'rate' is not defined",
     "output_type": "error",
     "traceback": [
      "\u001b[0;31m---------------------------------------------------------------------------\u001b[0m",
      "\u001b[0;31mNameError\u001b[0m                                 Traceback (most recent call last)",
      "\u001b[0;32m<ipython-input-1-618f9019e160>\u001b[0m in \u001b[0;36m<module>\u001b[0;34m\u001b[0m\n\u001b[1;32m      2\u001b[0m \u001b[0;34m\u001b[0m\u001b[0m\n\u001b[1;32m      3\u001b[0m \u001b[0mhours\u001b[0m \u001b[0;34m=\u001b[0m \u001b[0;36m40.0\u001b[0m\u001b[0;34m\u001b[0m\u001b[0;34m\u001b[0m\u001b[0m\n\u001b[0;32m----> 4\u001b[0;31m \u001b[0mpay\u001b[0m \u001b[0;34m=\u001b[0m \u001b[0mhours\u001b[0m \u001b[0;34m*\u001b[0m \u001b[0mrate\u001b[0m\u001b[0;34m\u001b[0m\u001b[0;34m\u001b[0m\u001b[0m\n\u001b[0m\u001b[1;32m      5\u001b[0m \u001b[0mprint\u001b[0m\u001b[0;34m(\u001b[0m\u001b[0mpay\u001b[0m\u001b[0;34m)\u001b[0m\u001b[0;34m\u001b[0m\u001b[0;34m\u001b[0m\u001b[0m\n",
      "\u001b[0;31mNameError\u001b[0m: name 'rate' is not defined"
     ]
    }
   ],
   "source": [
    "# What's wrong with this code?\n",
    "# rate 에 할당이 안되어 잇음 \n",
    "hours = 40.0 \n",
    "pay = hours * rate\n",
    "print(pay)"
   ]
  },
  {
   "cell_type": "code",
   "execution_count": 2,
   "metadata": {},
   "outputs": [
    {
     "name": "stdout",
     "output_type": "stream",
     "text": [
      "120.0\n"
     ]
    }
   ],
   "source": [
    "# your code here\n",
    "\n",
    "hours = 40.0 \n",
    "rate = 3\n",
    "pay = hours * rate\n",
    "print(pay)"
   ]
  },
  {
   "cell_type": "markdown",
   "metadata": {},
   "source": [
    "* If an existing variable is assigned a new value, that value **replaces** the previous contents of the variable."
   ]
  },
  {
   "cell_type": "code",
   "execution_count": 3,
   "metadata": {},
   "outputs": [
    {
     "name": "stdout",
     "output_type": "stream",
     "text": [
      "8\n"
     ]
    }
   ],
   "source": [
    "cansPerPack = 6\n",
    "cansPerPack = 8\n",
    "print(cansPerPack)"
   ]
  },
  {
   "cell_type": "markdown",
   "metadata": {},
   "source": [
    "### Quiz1\n",
    "https://forms.gle/18kQN1JsgWE7xqNQ9"
   ]
  },
  {
   "cell_type": "code",
   "execution_count": 4,
   "metadata": {},
   "outputs": [
    {
     "data": {
      "text/plain": [
       "10"
      ]
     },
     "execution_count": 4,
     "metadata": {},
     "output_type": "execute_result"
    }
   ],
   "source": [
    "10"
   ]
  },
  {
   "cell_type": "markdown",
   "metadata": {},
   "source": [
    "### Python variable name rules\n",
    "* Must start with a letter or underline\n",
    "* Must consist of letters, numbers, and underlines\n",
    "* Case Sensitive\n",
    "\n",
    "### Quiz2\n",
    "https://forms.gle/nzPnQ2s7MqcaxSoo9"
   ]
  },
  {
   "cell_type": "code",
   "execution_count": null,
   "metadata": {},
   "outputs": [],
   "source": [
    "_egg "
   ]
  },
  {
   "cell_type": "markdown",
   "metadata": {},
   "source": [
    "### Reserved words\n",
    "* You cannot use reserved words as variable names / identifiers"
   ]
  },
  {
   "cell_type": "code",
   "execution_count": 5,
   "metadata": {},
   "outputs": [
    {
     "name": "stdout",
     "output_type": "stream",
     "text": [
      "\n",
      "Here is a list of the Python keywords.  Enter any keyword to get more help.\n",
      "\n",
      "False               class               from                or\n",
      "None                continue            global              pass\n",
      "True                def                 if                  raise\n",
      "and                 del                 import              return\n",
      "as                  elif                in                  try\n",
      "assert              else                is                  while\n",
      "async               except              lambda              with\n",
      "await               finally             nonlocal            yield\n",
      "break               for                 not                 \n",
      "\n"
     ]
    }
   ],
   "source": [
    "help('keywords')"
   ]
  },
  {
   "cell_type": "markdown",
   "metadata": {},
   "source": [
    "### Programming Tip: Use descriptive variable names\n",
    "* Choose descriptive variable names\n",
    "* Which variable name is more self descriptive?"
   ]
  },
  {
   "cell_type": "code",
   "execution_count": 6,
   "metadata": {},
   "outputs": [],
   "source": [
    "canVolume = 0.35\n",
    "cv = 0.35"
   ]
  },
  {
   "cell_type": "markdown",
   "metadata": {},
   "source": [
    "* This is particularly important when programs are written by more than one person.\n",
    "\n",
    "### Programming Tip: Do not use magic numbers\n",
    "* A magic number is a numeric constant that appears in your code without explanation. For example,"
   ]
  },
  {
   "cell_type": "code",
   "execution_count": 9,
   "metadata": {},
   "outputs": [
    {
     "data": {
      "text/plain": [
       "15.0"
      ]
     },
     "execution_count": 9,
     "metadata": {},
     "output_type": "execute_result"
    }
   ],
   "source": [
    "totalVolume = 10 * 1.5\n",
    "totalVolume "
   ]
  },
  {
   "cell_type": "markdown",
   "metadata": {},
   "source": [
    "* Rather than that, use a named constant to make the code self-documenting:"
   ]
  },
  {
   "cell_type": "code",
   "execution_count": 25,
   "metadata": {},
   "outputs": [
    {
     "data": {
      "text/plain": [
       "15.0"
      ]
     },
     "execution_count": 25,
     "metadata": {},
     "output_type": "execute_result"
    }
   ],
   "source": [
    "bottle_volume = 1.5\n",
    "bottles = 10\n",
    "totalVolume = bottles * bottle_volume\n",
    "totalVolume\n"
   ]
  },
  {
   "cell_type": "markdown",
   "metadata": {},
   "source": [
    "### One more thing! : Multiple variable assignments. \n",
    "   * You can use commas and variables to assign multiple values to the variables at a time."
   ]
  },
  {
   "cell_type": "code",
   "execution_count": 21,
   "metadata": {},
   "outputs": [
    {
     "data": {
      "text/plain": [
       "[2, 2, 3, '1']"
      ]
     },
     "execution_count": 21,
     "metadata": {},
     "output_type": "execute_result"
    }
   ],
   "source": [
    "a = [1,2,3,\"1\"]\n",
    "a[0] = 2\n",
    "a"
   ]
  },
  {
   "cell_type": "markdown",
   "metadata": {},
   "source": [
    "### 1.2 Python Comments\n",
    "* Use comments at the beginning of each program, and to clarify details of the code\n",
    "* Comments are a courtesy to others and a way to document your thinking\n",
    "    * Comments to add explanations for humans who read your code\n",
    "* Turn off a line of code - perhaps temporarily\n",
    "* The compiler ignores comments"
   ]
  },
  {
   "cell_type": "code",
   "execution_count": 15,
   "metadata": {},
   "outputs": [
    {
     "name": "stdout",
     "output_type": "stream",
     "text": [
      "A six-pack of 12-ounce cans contains 2.13 liters.\n",
      "A six-pack and a two-liter bottle contain 4.13 liters.\n"
     ]
    }
   ],
   "source": [
    "##\n",
    "#  This program computes the volume (in liters) of a six-pack of soda\n",
    "#  cans and the total volume of a six-pack and a two-liter bottle\n",
    "#\n",
    "## CONSTANTS ##\n",
    "CAN_VOLUME = 0.355   # Liters in a 12-ounce can\n",
    "BOTTLE_VOLUME = 2     # Liters in a two-liter bottle\n",
    "# Number of cans per pack.\n",
    "cansPerPack = 6\n",
    "# Calculate total volume in the cans.\n",
    "totalVolume = cansPerPack * CAN_VOLUME\n",
    "print(\"A six-pack of 12-ounce cans contains\", totalVolume, \"liters.\")\n",
    "# Calculate total volume in the cans and a 2-liter bottle.\n",
    "totalVolume = totalVolume + BOTTLE_VOLUME\n",
    "print(\"A six-pack and a two-liter bottle contain\", totalVolume, \"liters.\")"
   ]
  },
  {
   "cell_type": "markdown",
   "metadata": {},
   "source": [
    "### 1.3 Types\n",
    "* In Python variables, literals, and constants have a \"type\".\n",
    "    * Python knows the difference between an integer number and a string."
   ]
  },
  {
   "cell_type": "code",
   "execution_count": 27,
   "metadata": {},
   "outputs": [
    {
     "data": {
      "text/plain": [
       "float"
      ]
     },
     "execution_count": 27,
     "metadata": {},
     "output_type": "execute_result"
    }
   ],
   "source": [
    "type(1.2)"
   ]
  },
  {
   "cell_type": "markdown",
   "metadata": {},
   "source": [
    "* You can convert numeric types with the built-in functions int() and float()."
   ]
  },
  {
   "cell_type": "code",
   "execution_count": 29,
   "metadata": {},
   "outputs": [
    {
     "data": {
      "text/plain": [
       "1"
      ]
     },
     "execution_count": 29,
     "metadata": {},
     "output_type": "execute_result"
    }
   ],
   "source": [
    "total = 1.2\n",
    "int(total)"
   ]
  },
  {
   "cell_type": "code",
   "execution_count": 30,
   "metadata": {},
   "outputs": [
    {
     "ename": "AttributeError",
     "evalue": "'float' object has no attribute 'astype'",
     "output_type": "error",
     "traceback": [
      "\u001b[0;31m---------------------------------------------------------------------------\u001b[0m",
      "\u001b[0;31mAttributeError\u001b[0m                            Traceback (most recent call last)",
      "\u001b[0;32m<ipython-input-30-300d1248189e>\u001b[0m in \u001b[0;36m<module>\u001b[0;34m\u001b[0m\n\u001b[0;32m----> 1\u001b[0;31m \u001b[0mtotal\u001b[0m\u001b[0;34m.\u001b[0m\u001b[0mastype\u001b[0m\u001b[0;34m(\u001b[0m\u001b[0mint\u001b[0m\u001b[0;34m)\u001b[0m\u001b[0;34m\u001b[0m\u001b[0;34m\u001b[0m\u001b[0m\n\u001b[0m",
      "\u001b[0;31mAttributeError\u001b[0m: 'float' object has no attribute 'astype'"
     ]
    }
   ],
   "source": [
    "total.astype(int)"
   ]
  },
  {
   "cell_type": "code",
   "execution_count": 2,
   "metadata": {},
   "outputs": [
    {
     "data": {
      "text/html": [
       "<div>\n",
       "<style scoped>\n",
       "    .dataframe tbody tr th:only-of-type {\n",
       "        vertical-align: middle;\n",
       "    }\n",
       "\n",
       "    .dataframe tbody tr th {\n",
       "        vertical-align: top;\n",
       "    }\n",
       "\n",
       "    .dataframe thead th {\n",
       "        text-align: right;\n",
       "    }\n",
       "</style>\n",
       "<table border=\"1\" class=\"dataframe\">\n",
       "  <thead>\n",
       "    <tr style=\"text-align: right;\">\n",
       "      <th></th>\n",
       "      <th>0</th>\n",
       "    </tr>\n",
       "  </thead>\n",
       "  <tbody>\n",
       "    <tr>\n",
       "      <th>0</th>\n",
       "      <td>1.1</td>\n",
       "    </tr>\n",
       "    <tr>\n",
       "      <th>1</th>\n",
       "      <td>2.1</td>\n",
       "    </tr>\n",
       "  </tbody>\n",
       "</table>\n",
       "</div>"
      ],
      "text/plain": [
       "     0\n",
       "0  1.1\n",
       "1  2.1"
      ]
     },
     "execution_count": 2,
     "metadata": {},
     "output_type": "execute_result"
    }
   ],
   "source": [
    "# 임의 데이터프레임 만들기\n",
    "import pandas as pd\n",
    "import numpy as np\n",
    "df = pd.DataFrame(np.array([1.1,2.1]))\n",
    "df"
   ]
  },
  {
   "cell_type": "code",
   "execution_count": 3,
   "metadata": {},
   "outputs": [
    {
     "data": {
      "text/plain": [
       "0    1\n",
       "1    2\n",
       "Name: 0, dtype: int64"
      ]
     },
     "execution_count": 3,
     "metadata": {},
     "output_type": "execute_result"
    }
   ],
   "source": [
    "# 열의 타입 정수로 만들기 \n",
    "df[0].astype(int)"
   ]
  },
  {
   "cell_type": "code",
   "execution_count": 4,
   "metadata": {},
   "outputs": [
    {
     "data": {
      "text/html": [
       "<div>\n",
       "<style scoped>\n",
       "    .dataframe tbody tr th:only-of-type {\n",
       "        vertical-align: middle;\n",
       "    }\n",
       "\n",
       "    .dataframe tbody tr th {\n",
       "        vertical-align: top;\n",
       "    }\n",
       "\n",
       "    .dataframe thead th {\n",
       "        text-align: right;\n",
       "    }\n",
       "</style>\n",
       "<table border=\"1\" class=\"dataframe\">\n",
       "  <thead>\n",
       "    <tr style=\"text-align: right;\">\n",
       "      <th></th>\n",
       "      <th>0</th>\n",
       "    </tr>\n",
       "  </thead>\n",
       "  <tbody>\n",
       "    <tr>\n",
       "      <th>0</th>\n",
       "      <td>1</td>\n",
       "    </tr>\n",
       "  </tbody>\n",
       "</table>\n",
       "</div>"
      ],
      "text/plain": [
       "   0\n",
       "0  1"
      ]
     },
     "execution_count": 4,
     "metadata": {},
     "output_type": "execute_result"
    }
   ],
   "source": [
    "# 열의 변수값 정수화\n",
    "df[(df[0] == 1.1) == True].astype(int)"
   ]
  },
  {
   "cell_type": "code",
   "execution_count": 5,
   "metadata": {},
   "outputs": [
    {
     "data": {
      "text/plain": [
       "0    1.1\n",
       "Name: 0, dtype: float64"
      ]
     },
     "execution_count": 5,
     "metadata": {},
     "output_type": "execute_result"
    }
   ],
   "source": [
    "# 열에서 1.1 찾아서, 데이터타입 보기, 시리즈임을 확인 \n",
    "df[0][(df[0] == 1.1) == True]"
   ]
  },
  {
   "cell_type": "code",
   "execution_count": 6,
   "metadata": {},
   "outputs": [
    {
     "data": {
      "text/plain": [
       "1"
      ]
     },
     "execution_count": 6,
     "metadata": {},
     "output_type": "execute_result"
    }
   ],
   "source": [
    "# int() 로 시리즈 정수로 만들기 \n",
    "int(df[0][(df[0] == 1.1) == True])"
   ]
  },
  {
   "cell_type": "code",
   "execution_count": 7,
   "metadata": {},
   "outputs": [
    {
     "data": {
      "text/plain": [
       "0    1\n",
       "Name: 0, dtype: int64"
      ]
     },
     "execution_count": 7,
     "metadata": {},
     "output_type": "execute_result"
    }
   ],
   "source": [
    "# astype() 으로 시리즈 정수로 만들기 \n",
    "(df[0][(df[0] == 1.1) == True]).astype(int)"
   ]
  },
  {
   "cell_type": "code",
   "execution_count": 8,
   "metadata": {
    "scrolled": true
   },
   "outputs": [
    {
     "name": "stdout",
     "output_type": "stream",
     "text": [
      "<class 'tuple'>\n",
      "<class 'list'>\n",
      "<class 'pandas.core.series.Series'>\n"
     ]
    }
   ],
   "source": [
    "# 튜플, 리스트, 시리즈로 비교 : 변수 할당 후, 데이터타입 확인 \n",
    "a = (1.2,1.1)\n",
    "b = [1.2,1.1]\n",
    "c = df[0][(df[0] == 1.1) == True]\n",
    "print(type(a))\n",
    "print(type(b))\n",
    "print(type(c))"
   ]
  },
  {
   "cell_type": "code",
   "execution_count": 137,
   "metadata": {},
   "outputs": [
    {
     "data": {
      "text/plain": [
       "1"
      ]
     },
     "execution_count": 137,
     "metadata": {},
     "output_type": "execute_result"
    }
   ],
   "source": [
    "# 튜플 : int() 로 정수화 가능 \n",
    "int(1.1)\n"
   ]
  },
  {
   "cell_type": "code",
   "execution_count": 71,
   "metadata": {},
   "outputs": [
    {
     "ename": "TypeError",
     "evalue": "int() argument must be a string, a bytes-like object or a number, not 'list'",
     "output_type": "error",
     "traceback": [
      "\u001b[0;31m---------------------------------------------------------------------------\u001b[0m",
      "\u001b[0;31mTypeError\u001b[0m                                 Traceback (most recent call last)",
      "\u001b[0;32m<ipython-input-71-07ae29993d50>\u001b[0m in \u001b[0;36m<module>\u001b[0;34m\u001b[0m\n\u001b[0;32m----> 1\u001b[0;31m \u001b[0mint\u001b[0m\u001b[0;34m(\u001b[0m\u001b[0mb\u001b[0m\u001b[0;34m)\u001b[0m\u001b[0;34m\u001b[0m\u001b[0;34m\u001b[0m\u001b[0m\n\u001b[0m",
      "\u001b[0;31mTypeError\u001b[0m: int() argument must be a string, a bytes-like object or a number, not 'list'"
     ]
    }
   ],
   "source": [
    "# 리스트  : int() 로 정수화 불가능 \n",
    "int(b)"
   ]
  },
  {
   "cell_type": "code",
   "execution_count": 72,
   "metadata": {},
   "outputs": [
    {
     "data": {
      "text/plain": [
       "1"
      ]
     },
     "execution_count": 72,
     "metadata": {},
     "output_type": "execute_result"
    }
   ],
   "source": [
    "# 시리즈  : int() 로 정수화 가능 \n",
    "int(c)"
   ]
  },
  {
   "cell_type": "code",
   "execution_count": 73,
   "metadata": {},
   "outputs": [
    {
     "ename": "AttributeError",
     "evalue": "'tuple' object has no attribute 'astype'",
     "output_type": "error",
     "traceback": [
      "\u001b[0;31m---------------------------------------------------------------------------\u001b[0m",
      "\u001b[0;31mAttributeError\u001b[0m                            Traceback (most recent call last)",
      "\u001b[0;32m<ipython-input-73-b24105f79d89>\u001b[0m in \u001b[0;36m<module>\u001b[0;34m\u001b[0m\n\u001b[0;32m----> 1\u001b[0;31m \u001b[0ma\u001b[0m\u001b[0;34m.\u001b[0m\u001b[0mastype\u001b[0m\u001b[0;34m(\u001b[0m\u001b[0mint\u001b[0m\u001b[0;34m)\u001b[0m\u001b[0;34m\u001b[0m\u001b[0;34m\u001b[0m\u001b[0m\n\u001b[0m",
      "\u001b[0;31mAttributeError\u001b[0m: 'tuple' object has no attribute 'astype'"
     ]
    }
   ],
   "source": [
    "# 튜플  : astype() 로 정수화 불가능 \n",
    "a.astype(int)"
   ]
  },
  {
   "cell_type": "code",
   "execution_count": 13,
   "metadata": {},
   "outputs": [
    {
     "ename": "AttributeError",
     "evalue": "'tuple' object has no attribute 'to_list'",
     "output_type": "error",
     "traceback": [
      "\u001b[0;31m---------------------------------------------------------------------------\u001b[0m",
      "\u001b[0;31mAttributeError\u001b[0m                            Traceback (most recent call last)",
      "\u001b[0;32m<ipython-input-13-340958a98e5e>\u001b[0m in \u001b[0;36m<module>\u001b[0;34m\u001b[0m\n\u001b[1;32m      1\u001b[0m \u001b[0;31m# 리스트 : astype() 로 정수화 불가능\u001b[0m\u001b[0;34m\u001b[0m\u001b[0;34m\u001b[0m\u001b[0;34m\u001b[0m\u001b[0m\n\u001b[0;32m----> 2\u001b[0;31m \u001b[0ma\u001b[0m\u001b[0;34m.\u001b[0m\u001b[0mto_list\u001b[0m\u001b[0;34m(\u001b[0m\u001b[0;34m)\u001b[0m\u001b[0;34m\u001b[0m\u001b[0;34m\u001b[0m\u001b[0m\n\u001b[0m",
      "\u001b[0;31mAttributeError\u001b[0m: 'tuple' object has no attribute 'to_list'"
     ]
    }
   ],
   "source": [
    "# 리스트 : astype() 로 정수화 불가능 \n",
    "a.to_list()"
   ]
  },
  {
   "cell_type": "code",
   "execution_count": 18,
   "metadata": {},
   "outputs": [
    {
     "ename": "AttributeError",
     "evalue": "'tuple' object has no attribute 'apply'",
     "output_type": "error",
     "traceback": [
      "\u001b[0;31m---------------------------------------------------------------------------\u001b[0m",
      "\u001b[0;31mAttributeError\u001b[0m                            Traceback (most recent call last)",
      "\u001b[0;32m<ipython-input-18-0f5cf40126f0>\u001b[0m in \u001b[0;36m<module>\u001b[0;34m\u001b[0m\n\u001b[0;32m----> 1\u001b[0;31m \u001b[0ma\u001b[0m\u001b[0;34m.\u001b[0m\u001b[0mapply\u001b[0m\u001b[0;34m(\u001b[0m\u001b[0;32mlambda\u001b[0m \u001b[0mx\u001b[0m \u001b[0;34m:\u001b[0m \u001b[0ma\u001b[0m\u001b[0;34m[\u001b[0m\u001b[0mx\u001b[0m\u001b[0;34m]\u001b[0m\u001b[0;34m.\u001b[0m\u001b[0mist\u001b[0m\u001b[0;34m(\u001b[0m\u001b[0;34m)\u001b[0m\u001b[0;34m)\u001b[0m\u001b[0;34m\u001b[0m\u001b[0;34m\u001b[0m\u001b[0m\n\u001b[0m",
      "\u001b[0;31mAttributeError\u001b[0m: 'tuple' object has no attribute 'apply'"
     ]
    }
   ],
   "source": [
    "a.apply(lambda x : a[x].ist())"
   ]
  },
  {
   "cell_type": "code",
   "execution_count": 16,
   "metadata": {},
   "outputs": [
    {
     "ename": "AttributeError",
     "evalue": "'tuple' object has no attribute 'extend'",
     "output_type": "error",
     "traceback": [
      "\u001b[0;31m---------------------------------------------------------------------------\u001b[0m",
      "\u001b[0;31mAttributeError\u001b[0m                            Traceback (most recent call last)",
      "\u001b[0;32m<ipython-input-16-d9a499b704bf>\u001b[0m in \u001b[0;36m<module>\u001b[0;34m\u001b[0m\n\u001b[0;32m----> 1\u001b[0;31m \u001b[0ma\u001b[0m\u001b[0;34m.\u001b[0m\u001b[0mextend\u001b[0m\u001b[0;34m(\u001b[0m\u001b[0;34m)\u001b[0m\u001b[0;34m\u001b[0m\u001b[0;34m\u001b[0m\u001b[0m\n\u001b[0m",
      "\u001b[0;31mAttributeError\u001b[0m: 'tuple' object has no attribute 'extend'"
     ]
    }
   ],
   "source": [
    "a.extend()"
   ]
  },
  {
   "cell_type": "code",
   "execution_count": 75,
   "metadata": {},
   "outputs": [
    {
     "data": {
      "text/plain": [
       "0    1\n",
       "Name: 0, dtype: int64"
      ]
     },
     "execution_count": 75,
     "metadata": {},
     "output_type": "execute_result"
    }
   ],
   "source": [
    "# 시리즈 : astype() 로 가능 \n",
    "c.astype(int)"
   ]
  },
  {
   "cell_type": "code",
   "execution_count": 79,
   "metadata": {},
   "outputs": [
    {
     "data": {
      "text/plain": [
       "0    1\n",
       "1    2\n",
       "Name: 0, dtype: int64"
      ]
     },
     "execution_count": 79,
     "metadata": {},
     "output_type": "execute_result"
    }
   ],
   "source": [
    "# 열을 불러왔을 땐,astype() 정수화 가능\n",
    "df[0].astype(int)"
   ]
  },
  {
   "cell_type": "code",
   "execution_count": 81,
   "metadata": {},
   "outputs": [
    {
     "data": {
      "text/plain": [
       "pandas.core.series.Series"
      ]
     },
     "execution_count": 81,
     "metadata": {},
     "output_type": "execute_result"
    }
   ],
   "source": [
    "type(df[0])"
   ]
  },
  {
   "cell_type": "code",
   "execution_count": 1,
   "metadata": {},
   "outputs": [
    {
     "ename": "NameError",
     "evalue": "name 'a' is not defined",
     "output_type": "error",
     "traceback": [
      "\u001b[0;31m---------------------------------------------------------------------------\u001b[0m",
      "\u001b[0;31mNameError\u001b[0m                                 Traceback (most recent call last)",
      "\u001b[0;32m<ipython-input-1-b88d8e19d93e>\u001b[0m in \u001b[0;36m<module>\u001b[0;34m\u001b[0m\n\u001b[0;32m----> 1\u001b[0;31m \u001b[0ma\u001b[0m\u001b[0;34m.\u001b[0m\u001b[0mastype\u001b[0m\u001b[0;34m(\u001b[0m\u001b[0mlist\u001b[0m\u001b[0;34m)\u001b[0m\u001b[0;34m\u001b[0m\u001b[0;34m\u001b[0m\u001b[0m\n\u001b[0m",
      "\u001b[0;31mNameError\u001b[0m: name 'a' is not defined"
     ]
    }
   ],
   "source": [
    "a.astype(list)"
   ]
  },
  {
   "cell_type": "markdown",
   "metadata": {},
   "source": [
    "### 1.4 Basic Arithmetic Operators\n",
    "* Python supports all of the basic arithmetic operations:\n",
    "    * Addition \"+\"\n",
    "    * Subtraction \"-\"\n",
    "    * Multiplication \"*\"\n",
    "    * Division \"/\"\n",
    "* If you mix integer and floating-point values in an arithmetic expression, the result is a floating-point value."
   ]
  },
  {
   "cell_type": "code",
   "execution_count": null,
   "metadata": {},
   "outputs": [],
   "source": []
  },
  {
   "cell_type": "markdown",
   "metadata": {},
   "source": [
    "* Double stars ** are used to calculate an exponent\n",
    "\n",
    "* $ b \\times (1+\\frac{r}{100})^{n} $"
   ]
  },
  {
   "cell_type": "code",
   "execution_count": null,
   "metadata": {},
   "outputs": [],
   "source": []
  },
  {
   "cell_type": "markdown",
   "metadata": {},
   "source": [
    "* When you divide two integers with the / operator, you get a floating- point value."
   ]
  },
  {
   "cell_type": "code",
   "execution_count": null,
   "metadata": {},
   "outputs": [],
   "source": []
  },
  {
   "cell_type": "markdown",
   "metadata": {},
   "source": [
    "* We can also perform floor division using the // operator.\n",
    "    * The \"//\" operator computes the quotient and discards the fractional part"
   ]
  },
  {
   "cell_type": "code",
   "execution_count": null,
   "metadata": {},
   "outputs": [],
   "source": []
  },
  {
   "cell_type": "markdown",
   "metadata": {},
   "source": [
    "* If you are interested in the remainder of dividing two integers, use the \"%\" operator (called modulus):"
   ]
  },
  {
   "cell_type": "code",
   "execution_count": null,
   "metadata": {},
   "outputs": [],
   "source": []
  },
  {
   "cell_type": "markdown",
   "metadata": {},
   "source": [
    "### Order of evaluation\n",
    "* When we string operators together - Python mush know which one to do first\n",
    "* This is called \"operator precedence\"\n",
    "* Highest precedence rule to lowest precedence rule:\n",
    "    * Parentheses are always respected\n",
    "    * Exponentiation (raise to a power)\n",
    "    * Multiplication, Division, and Remainder\n",
    "    * Addition and Subtraction\n",
    "    * Left to right"
   ]
  },
  {
   "cell_type": "code",
   "execution_count": null,
   "metadata": {},
   "outputs": [],
   "source": [
    "x = 1 + 2**3 / 4 * 5"
   ]
  },
  {
   "cell_type": "markdown",
   "metadata": {},
   "source": [
    "### Combining assignment and arithmetic\n",
    "* In Python, you can combine arithmetic and assignment. For example, the instruction"
   ]
  },
  {
   "cell_type": "code",
   "execution_count": null,
   "metadata": {},
   "outputs": [],
   "source": [
    "total = 0\n",
    "total += 2"
   ]
  },
  {
   "cell_type": "markdown",
   "metadata": {},
   "source": [
    "is a shortcut for"
   ]
  },
  {
   "cell_type": "code",
   "execution_count": null,
   "metadata": {},
   "outputs": [],
   "source": []
  },
  {
   "cell_type": "markdown",
   "metadata": {},
   "source": [
    "* Similarly, "
   ]
  },
  {
   "cell_type": "code",
   "execution_count": null,
   "metadata": {},
   "outputs": [],
   "source": []
  },
  {
   "cell_type": "markdown",
   "metadata": {},
   "source": [
    "### 1.5 Calling functions \n",
    "* A function is a collection of programming instructions that carry out a particular task.\n",
    "* Most functions return a value. That is, when the function completes its task, it passes a value back to the point where the function was called.\n",
    "* Built in mathematical functions:"
   ]
  },
  {
   "cell_type": "code",
   "execution_count": null,
   "metadata": {},
   "outputs": [],
   "source": []
  },
  {
   "cell_type": "markdown",
   "metadata": {},
   "source": [
    "### 1.6 Python libraries (modules)\n",
    "* A library is a collection of code, written and compiled by someone else, that is ready for you to use in your program\n",
    "* A standard library is a library that is considered part of the language and must be included with any Python system.\n",
    "* Python’s standard library is organized into modules.\n",
    "    * Related functions and data types are grouped into the same module.\n",
    "    * Functions defined in a module must be explicitly loaded into your program before they can be used.\n",
    "* Using functions from the \"math\" module\n",
    "    * For example, to use the sqrt() function, which computes the square root of its argument:"
   ]
  },
  {
   "cell_type": "code",
   "execution_count": null,
   "metadata": {},
   "outputs": [],
   "source": [
    "# First include this statement at the top of your # program file.\n",
    "import math\n",
    "from math import sqrt\n",
    "# Then you can simply call the function as\n",
    "x = 4.0\n",
    "y = sqrt(x)"
   ]
  },
  {
   "cell_type": "code",
   "execution_count": null,
   "metadata": {},
   "outputs": [],
   "source": []
  },
  {
   "cell_type": "markdown",
   "metadata": {},
   "source": [
    "* Functions from the \"math\" module:"
   ]
  },
  {
   "cell_type": "code",
   "execution_count": null,
   "metadata": {},
   "outputs": [],
   "source": []
  },
  {
   "cell_type": "markdown",
   "metadata": {},
   "source": [
    "## 2. Strings\n"
   ]
  },
  {
   "cell_type": "markdown",
   "metadata": {},
   "source": [
    "* In python, string literals are specified by enclosing a sequence of **characters** within a matching pair of either single or double quotes."
   ]
  },
  {
   "cell_type": "code",
   "execution_count": null,
   "metadata": {},
   "outputs": [],
   "source": [
    "print(\"This is a string.\")"
   ]
  },
  {
   "cell_type": "markdown",
   "metadata": {},
   "source": [
    "* By allowing both types of delimiters, Python makes it easy to include an apostrophe or quotation mark within a string."
   ]
  },
  {
   "cell_type": "code",
   "execution_count": null,
   "metadata": {},
   "outputs": [],
   "source": [
    "message = 'He said \"Hello\"'\n",
    "print('He said \"Hello\"')"
   ]
  },
  {
   "cell_type": "markdown",
   "metadata": {},
   "source": [
    "### 2.1 String length\n",
    "* The number of characters in a string is called the length of the string.\n",
    "* You can compute the length of a string using Python’s len() function:"
   ]
  },
  {
   "cell_type": "code",
   "execution_count": null,
   "metadata": {},
   "outputs": [],
   "source": []
  },
  {
   "cell_type": "markdown",
   "metadata": {},
   "source": [
    "### 2.2 String concatenation"
   ]
  },
  {
   "cell_type": "markdown",
   "metadata": {},
   "source": [
    "* You can ‘add’ one String onto the end of another."
   ]
  },
  {
   "cell_type": "code",
   "execution_count": 93,
   "metadata": {},
   "outputs": [
    {
     "name": "stdout",
     "output_type": "stream",
     "text": [
      "Harry Potter\n"
     ]
    }
   ],
   "source": [
    "firstName = \"Harry\"\n",
    "lastName = \"Potter\"\n",
    "name  = firstName + lastName\n",
    "name  = firstName +\" \"+ lastName\n",
    "print(name)"
   ]
  },
  {
   "cell_type": "markdown",
   "metadata": {},
   "source": [
    "* You want a space in between the two names?"
   ]
  },
  {
   "cell_type": "code",
   "execution_count": null,
   "metadata": {},
   "outputs": [],
   "source": [
    "# your code here\n",
    "\n"
   ]
  },
  {
   "cell_type": "markdown",
   "metadata": {},
   "source": [
    "### 2.3 String repetition"
   ]
  },
  {
   "cell_type": "markdown",
   "metadata": {},
   "source": [
    "* You can also produce a string that is the result of repeating a string multiple times.\n",
    "* Suppose you need to print a dashed line.\n",
    "* Instead of specifying a literal string with 50 dashes, you can use the * operator to create a string that is comprised of the string \"-\" repeated 50 times."
   ]
  },
  {
   "cell_type": "code",
   "execution_count": 82,
   "metadata": {},
   "outputs": [
    {
     "name": "stdout",
     "output_type": "stream",
     "text": [
      "--------------------------------------------------\n"
     ]
    }
   ],
   "source": [
    "dashes = \"-\" * 50\n",
    "print(dashes)"
   ]
  },
  {
   "cell_type": "markdown",
   "metadata": {},
   "source": [
    "### 2.4  Converting numbers to strings"
   ]
  },
  {
   "cell_type": "markdown",
   "metadata": {},
   "source": [
    "* Use the str() function to convert between numbers and strings."
   ]
  },
  {
   "cell_type": "code",
   "execution_count": 83,
   "metadata": {},
   "outputs": [
    {
     "name": "stdout",
     "output_type": "stream",
     "text": [
      "123.45\n",
      "123\n"
     ]
    }
   ],
   "source": [
    "balance = 123.45\n",
    "dollars = 123   \n",
    "balanceAsString = str(balance) \n",
    "dollarsAsString = str(dollars)\n",
    "print(balanceAsString)\n",
    "print(dollarsAsString) "
   ]
  },
  {
   "cell_type": "code",
   "execution_count": null,
   "metadata": {},
   "outputs": [],
   "source": []
  },
  {
   "cell_type": "markdown",
   "metadata": {},
   "source": [
    "* To turn a string containing a number into a numerical value, we use the int() and float() functions:"
   ]
  },
  {
   "cell_type": "code",
   "execution_count": null,
   "metadata": {},
   "outputs": [],
   "source": []
  },
  {
   "cell_type": "markdown",
   "metadata": {},
   "source": [
    "* The [  ] operator returns a char at a given index inside a String:"
   ]
  },
  {
   "cell_type": "code",
   "execution_count": null,
   "metadata": {},
   "outputs": [],
   "source": []
  },
  {
   "cell_type": "markdown",
   "metadata": {},
   "source": [
    "* You can see more slicing operations through https://stackoverflow.com/questions/509211/understanding-slice-notation.\n",
    "\n",
    "### 2.5 Methods\n",
    "\n",
    "* A method is a collection of programming instructions to carry out a specific task – similar to a function."
   ]
  },
  {
   "cell_type": "code",
   "execution_count": 92,
   "metadata": {},
   "outputs": [],
   "source": [
    "name = \"Python\""
   ]
  },
  {
   "cell_type": "code",
   "execution_count": null,
   "metadata": {},
   "outputs": [],
   "source": []
  },
  {
   "cell_type": "markdown",
   "metadata": {},
   "source": [
    "### 2.6 String escape sequences"
   ]
  },
  {
   "cell_type": "markdown",
   "metadata": {},
   "source": [
    "* How would you print a double quote?   \n",
    "    * He said \"Hello\""
   ]
  },
  {
   "cell_type": "code",
   "execution_count": 96,
   "metadata": {},
   "outputs": [
    {
     "ename": "SyntaxError",
     "evalue": "EOL while scanning string literal (<ipython-input-96-e9e13e6a8871>, line 1)",
     "output_type": "error",
     "traceback": [
      "\u001b[0;36m  File \u001b[0;32m\"<ipython-input-96-e9e13e6a8871>\"\u001b[0;36m, line \u001b[0;32m1\u001b[0m\n\u001b[0;31m    print(\"He said \\\"Hello\\\")\u001b[0m\n\u001b[0m                             ^\u001b[0m\n\u001b[0;31mSyntaxError\u001b[0m\u001b[0;31m:\u001b[0m EOL while scanning string literal\n"
     ]
    }
   ],
   "source": [
    "print(\"He said \\\"Hello\\\")"
   ]
  },
  {
   "cell_type": "markdown",
   "metadata": {},
   "source": [
    "* then how do you print a backslash?\n",
    "    * C:\\\\home\\\\nations.txt"
   ]
  },
  {
   "cell_type": "code",
   "execution_count": null,
   "metadata": {},
   "outputs": [],
   "source": []
  },
  {
   "cell_type": "markdown",
   "metadata": {},
   "source": [
    "* Output a newline<br/>\n",
    "$*$<br/>\n",
    "$**$<br/>\n",
    "$***$"
   ]
  },
  {
   "cell_type": "code",
   "execution_count": null,
   "metadata": {},
   "outputs": [],
   "source": []
  },
  {
   "cell_type": "markdown",
   "metadata": {},
   "source": [
    "### Mini exercise\n",
    "* Write a code to print the sentence: \n",
    "\n",
    "    President Barack Obama said,  \n",
    "    \"Don't just play on your phone, program it.\" "
   ]
  },
  {
   "cell_type": "code",
   "execution_count": null,
   "metadata": {},
   "outputs": [],
   "source": [
    "#your code here\n",
    "\n"
   ]
  },
  {
   "cell_type": "markdown",
   "metadata": {},
   "source": [
    "### 2.7 Input and Output"
   ]
  },
  {
   "cell_type": "markdown",
   "metadata": {},
   "source": [
    "* You can read a String from the console with the input() function:"
   ]
  },
  {
   "cell_type": "code",
   "execution_count": 99,
   "metadata": {},
   "outputs": [
    {
     "name": "stdout",
     "output_type": "stream",
     "text": [
      "Please enter your name:   yejin\n"
     ]
    }
   ],
   "source": [
    "name = input(\"Please enter your name:\" + \"   \")"
   ]
  },
  {
   "cell_type": "code",
   "execution_count": 98,
   "metadata": {},
   "outputs": [
    {
     "data": {
      "text/plain": [
       "'yejin'"
      ]
     },
     "execution_count": 98,
     "metadata": {},
     "output_type": "execute_result"
    }
   ],
   "source": [
    "name "
   ]
  },
  {
   "cell_type": "markdown",
   "metadata": {},
   "source": [
    "* Converting a String variable to a number can be used if numeric (rather than string input) is needed"
   ]
  },
  {
   "cell_type": "code",
   "execution_count": 100,
   "metadata": {},
   "outputs": [
    {
     "name": "stdout",
     "output_type": "stream",
     "text": [
      "Please enter age: 30\n"
     ]
    }
   ],
   "source": [
    "age = int(input(\"Please enter age: \"))"
   ]
  },
  {
   "cell_type": "code",
   "execution_count": 102,
   "metadata": {},
   "outputs": [
    {
     "data": {
      "text/plain": [
       "30"
      ]
     },
     "execution_count": 102,
     "metadata": {},
     "output_type": "execute_result"
    }
   ],
   "source": [
    "age"
   ]
  },
  {
   "cell_type": "markdown",
   "metadata": {},
   "source": [
    "### 2.8 Formatted output"
   ]
  },
  {
   "cell_type": "markdown",
   "metadata": {},
   "source": [
    "* Outputting floating point values can look strange:\n",
    "    * Price per liter:  1.21997\n",
    "    \n",
    "* To control the output appearance of numeric variables, use formatted output tools such as:"
   ]
  },
  {
   "cell_type": "code",
   "execution_count": 104,
   "metadata": {},
   "outputs": [],
   "source": [
    "price = 1.219978888"
   ]
  },
  {
   "cell_type": "code",
   "execution_count": 105,
   "metadata": {},
   "outputs": [
    {
     "name": "stdout",
     "output_type": "stream",
     "text": [
      "Price per liter 1.22\n"
     ]
    }
   ],
   "source": [
    "print(\"Price per liter %.2f\"  %(price))\n",
    "#print(\"Price per liter %10.2f\"  %(price))"
   ]
  },
  {
   "cell_type": "code",
   "execution_count": null,
   "metadata": {},
   "outputs": [],
   "source": []
  },
  {
   "cell_type": "markdown",
   "metadata": {},
   "source": [
    "## Exercise\n",
    "1. Create a variable named carname and assign the value Tesla to it."
   ]
  },
  {
   "cell_type": "markdown",
   "metadata": {},
   "source": [
    "### Exercise 1. 정답"
   ]
  },
  {
   "cell_type": "code",
   "execution_count": 27,
   "metadata": {},
   "outputs": [
    {
     "data": {
      "text/plain": [
       "['roadstar', 'model_s', 'model_y', 'model_3']"
      ]
     },
     "execution_count": 27,
     "metadata": {},
     "output_type": "execute_result"
    }
   ],
   "source": [
    "# your code here\n",
    "\n",
    "Tesla = [\"roadstar\", \"model_s\", \"model_y\", \"model_3\"]\n",
    "Tesla"
   ]
  },
  {
   "cell_type": "markdown",
   "metadata": {},
   "source": [
    "### Exercise 2. 정답"
   ]
  },
  {
   "cell_type": "markdown",
   "metadata": {},
   "source": [
    "2. Display the sum of 5 + 10, using two variables: x and y."
   ]
  },
  {
   "cell_type": "code",
   "execution_count": 28,
   "metadata": {},
   "outputs": [
    {
     "data": {
      "text/plain": [
       "15"
      ]
     },
     "execution_count": 28,
     "metadata": {},
     "output_type": "execute_result"
    }
   ],
   "source": [
    "# your code here\n",
    "\n",
    "x = 5\n",
    "y = 10\n",
    "x+y"
   ]
  },
  {
   "cell_type": "markdown",
   "metadata": {},
   "source": [
    "### Exercise 3. 정답"
   ]
  },
  {
   "cell_type": "markdown",
   "metadata": {},
   "source": [
    "3. Print the length of the string x."
   ]
  },
  {
   "cell_type": "code",
   "execution_count": 31,
   "metadata": {},
   "outputs": [
    {
     "data": {
      "text/plain": [
       "26"
      ]
     },
     "execution_count": 31,
     "metadata": {},
     "output_type": "execute_result"
    }
   ],
   "source": [
    "x = (\"2021 IMMBA Coding Workshop\")\n",
    "\n",
    "# your code here\n",
    "len(x)"
   ]
  },
  {
   "cell_type": "markdown",
   "metadata": {},
   "source": [
    "### Exercise 4. 정답"
   ]
  },
  {
   "cell_type": "markdown",
   "metadata": {},
   "source": [
    "4. Get the second character of the string txt."
   ]
  },
  {
   "cell_type": "code",
   "execution_count": 357,
   "metadata": {},
   "outputs": [
    {
     "name": "stdout",
     "output_type": "stream",
     "text": [
      "1.Get the second character from txt :  A\n",
      "2.txt_list 리스트 보기 :  ['KAIST', 'Business', 'School']\n",
      "3. second word from txt : Business\n"
     ]
    }
   ],
   "source": [
    "txt = \"KAIST Business School\"\n",
    "\n",
    "# your code here\n",
    "\n",
    "print(\"1.Get the second character from txt : \", txt[1])\n",
    "\n",
    "# if get the second word from txt\n",
    "\n",
    "txt_list = txt.split(\" \")\n",
    "print(\"2.txt_list 리스트 보기 : \", txt_list)\n",
    "print(\"3. second word from txt :\", txt_list[1])"
   ]
  },
  {
   "cell_type": "markdown",
   "metadata": {},
   "source": [
    "### Exercise 5. 정답"
   ]
  },
  {
   "cell_type": "markdown",
   "metadata": {},
   "source": [
    "5. Write a program to prompt the user for hours and rate per hour to compute gross pay."
   ]
  },
  {
   "cell_type": "code",
   "execution_count": 48,
   "metadata": {},
   "outputs": [
    {
     "name": "stdout",
     "output_type": "stream",
     "text": [
      "gross pay for abc  :  110.0\n"
     ]
    }
   ],
   "source": [
    "# your code here\n",
    "# 유저라벨 할당 \n",
    "program_label = \"abc\"\n",
    "# 유저수 할당\n",
    "user_for_hours = 20 \n",
    "# 사용시간 할당\n",
    "rate_per_hour = 0.1\n",
    "# 시간당 페이 할당\n",
    "payment = 5.5\n",
    "\n",
    "print(\"gross pay for\", program_label, \" : \", user_for_hours*payment )"
   ]
  },
  {
   "cell_type": "markdown",
   "metadata": {},
   "source": [
    "### Exercise 6. 정답"
   ]
  },
  {
   "cell_type": "markdown",
   "metadata": {},
   "source": [
    "6. Write a program to get the volume of a sphere with radius 7.\n",
    "    * hint: you can call the pi($\\pi$) with using the **math** module by math.pi)"
   ]
  },
  {
   "cell_type": "code",
   "execution_count": 239,
   "metadata": {},
   "outputs": [
    {
     "name": "stdout",
     "output_type": "stream",
     "text": [
      "반지름이 7인 구의 전체 부피 :  808.17 m3\n",
      "전체에서 \"abc\" 부피 :  80.82 m3\n"
     ]
    },
    {
     "data": {
      "image/png": "[encoded data removed]",
      "text/plain": [
       "<Figure size 1080x504 with 1 Axes>"
      ]
     },
     "metadata": {
      "image/png": {
       "height": 394,
       "width": 851
      }
     },
     "output_type": "display_data"
    }
   ],
   "source": [
    "# 필요한 기본 패키지 부르기 \n",
    "import math\n",
    "import pandas as pd\n",
    "import numpy as npd\n",
    "# 맷플랏립 플롯 그리기용\n",
    "import matplotlib.pyplot as plt\n",
    "# 플롯 시각화 레티나 설정으로 화질 개선 \n",
    "%matplotlib inline\n",
    "%config InlineBackend.figure_format='retina'\n",
    "# 플롯 그릴 때, 한글 폰트 보이도록 설정 \n",
    "plt.rc('font', family='AppleGothic') \n",
    "# 플롯에서 마이너스 값도 보이도록 설정 \n",
    "plt.rcParams['axes.unicode_minus'] = False\n",
    "# 워닝 무시 \n",
    "import warnings\n",
    "warnings.filterwarnings(\"ignore\") \n",
    "\n",
    "# your code here\n",
    "\n",
    "# 반지름이 7인 구의 전체 넓이 (소수점 셋째짜리에서 반올림)\n",
    "circle_full = 3/4*math.pi*(7**3)\n",
    "print(\"반지름이 7인 구의 전체 부피 : \", round(circle_full,2), \"m3\")\n",
    "\n",
    "# \"abc\" 에 대한 넓이 (소수점 셋째짜리에서 반올림)\n",
    "print(\"전체에서 \\\"abc\\\" 부피 : \",round(circle_full*rate_per_hour,2), \"m3\")\n",
    "\n",
    "# 전체유저\n",
    "all_user = user_for_hours/rate_per_hour\n",
    "all_user\n",
    "\n",
    "# 파이차트로 그리기 위해 변수 할당 (생각해보니 파이차트를 한번도 안그려봐서 시도해보았습니다!)\n",
    "labels = 'abc_user', 'Non_abc_user'\n",
    "sizes = [user_for_hours,all_user*(1-rate_per_hour)]\n",
    "explode = (0.1,0)  # only \"explode\" the 2nd slice (i.e. 'Hogs')\n",
    "\n",
    "# 파이차트에 비율과 실제값 함께 보이도록 autopct 메소드용 함수 만들기 \n",
    "def make_autopct(sizes):\n",
    "    def my_autopct(pct):\n",
    "        total = sum(sizes)\n",
    "        val = int(round(pct*total/100.0))\n",
    "        return '{p:.1f}%  ({v:d})'.format(p=pct,v=val)\n",
    "    return my_autopct\n",
    "\n",
    "# 파이차트 그리기\n",
    "# 플롯 사이즈 조금 크게\n",
    "fig1, ax1 = plt.subplots(figsize = (15,7))\n",
    "ax1.pie(sizes, explode=explode, labels=labels, autopct= make_autopct(sizes),\n",
    "        shadow=True, startangle=90)\n",
    "ax1.axis('equal')  # Equal aspect ratio ensures that pie is drawn as a circle.\n",
    "\n",
    "\n",
    "plt.show()\n"
   ]
  },
  {
   "cell_type": "markdown",
   "metadata": {},
   "source": [
    "### Exercise 7. 정답"
   ]
  },
  {
   "cell_type": "markdown",
   "metadata": {},
   "source": [
    "7. Create a program that asks the user to enter their name and their age. Print out a message addressed to them that tells them the year that they will turn 100 years old."
   ]
  },
  {
   "cell_type": "code",
   "execution_count": 106,
   "metadata": {},
   "outputs": [
    {
     "name": "stdout",
     "output_type": "stream",
     "text": [
      "Please enter your name:   yejin\n"
     ]
    }
   ],
   "source": [
    "# your code here\n",
    "\n",
    "name_1 = input(\"Please enter your name:\" + \"   \")"
   ]
  },
  {
   "cell_type": "code",
   "execution_count": 107,
   "metadata": {},
   "outputs": [
    {
     "name": "stdout",
     "output_type": "stream",
     "text": [
      "Please enter age: 30\n"
     ]
    }
   ],
   "source": [
    "age_1 = int(input(\"Please enter age: \"))"
   ]
  },
  {
   "cell_type": "code",
   "execution_count": 108,
   "metadata": {},
   "outputs": [
    {
     "data": {
      "text/plain": [
       "30"
      ]
     },
     "execution_count": 108,
     "metadata": {},
     "output_type": "execute_result"
    }
   ],
   "source": [
    "age_1"
   ]
  },
  {
   "cell_type": "code",
   "execution_count": 241,
   "metadata": {},
   "outputs": [
    {
     "name": "stdout",
     "output_type": "stream",
     "text": [
      "You will be 100 years old in : 2091 년\n"
     ]
    }
   ],
   "source": [
    "print(\"You will be 100 years old in :\", 2021+(100-age_1), \"년\")"
   ]
  },
  {
   "cell_type": "markdown",
   "metadata": {},
   "source": [
    "### Exercise 8. 정답"
   ]
  },
  {
   "cell_type": "markdown",
   "metadata": {},
   "source": [
    "8. Write a code which prompts the user's first and last name and print them in reverse order with a space between them."
   ]
  },
  {
   "cell_type": "code",
   "execution_count": 90,
   "metadata": {},
   "outputs": [
    {
     "name": "stdout",
     "output_type": "stream",
     "text": [
      "result from above :  ['yejin', 'hwang']\n",
      "full name :  hwang yejin\n"
     ]
    }
   ],
   "source": [
    "# your code here\n",
    "\n",
    "full_name = \"yejin hwang\"\n",
    "full_name = full_name.split(\" \")\n",
    "print(\"result from above : \", full_name)\n",
    "print(\"full name : \" , full_name[1]+\" \"+full_name[0])"
   ]
  },
  {
   "cell_type": "markdown",
   "metadata": {},
   "source": [
    "### Exercise 9. 정답 "
   ]
  },
  {
   "cell_type": "markdown",
   "metadata": {},
   "source": [
    "9. Write a code which prompts the user for a Fahrenheit temperature (use the input() function, convert the temperature to Celsius, and print out the converted temperature.\n",
    "    * hint: The conversion Fahrenheit to Celsius is following the formula,\n",
    "    \n",
    "    $T_{C} = (T_{F} - 32) \\times \\frac{5}{9} $"
   ]
  },
  {
   "cell_type": "code",
   "execution_count": 124,
   "metadata": {},
   "outputs": [
    {
     "name": "stdout",
     "output_type": "stream",
     "text": [
      "Fahrenheit temperature : 22\n",
      "Celsuius is : -5.56\n"
     ]
    }
   ],
   "source": [
    "# your code here\n",
    "\n",
    "# input 을 변수 할당 \n",
    "f_to_c = ((float(input('Fahrenheit temperature : ')) - 32)*5/9)\n",
    "f_to_c\n",
    "\n",
    "# 소수점 셋째자리에서 반올림되서 출력, 예) 22 인풋 \n",
    "print(\"Celsuius is : %.2f\" %f_to_c)"
   ]
  },
  {
   "cell_type": "markdown",
   "metadata": {},
   "source": [
    "### Exercise 10. 정답"
   ]
  },
  {
   "cell_type": "markdown",
   "metadata": {},
   "source": [
    "10. Write a program that reads a number between 10,000 and 99,999 from the user, where the user enters a comma in the input. Then print the number without a comma. Here is a sample example; the user input is in **bold**:\n",
    "\n",
    "    Please enter an integer between 10,000 and 99,999: **23,456**<br/>23456\n",
    "    \n",
    "   Hint: Read the input as a string. Turn the strings consisting of the first two characters and the last three characters into numbers, and combine them."
   ]
  },
  {
   "cell_type": "code",
   "execution_count": 134,
   "metadata": {
    "scrolled": true
   },
   "outputs": [
    {
     "name": "stdout",
     "output_type": "stream",
     "text": [
      "Please enter an integer between 10,000 and 99,999 : 33,3333\n",
      "333333\n"
     ]
    }
   ],
   "source": [
    "# your code here\n",
    "\n",
    "input_1 = str(input(\"Please enter an integer between 10,000 and 99,999 : \"))\n",
    "input_2 = int(input_1.replace(\",\", \"\"))\n",
    "print(input_2)"
   ]
  },
  {
   "cell_type": "markdown",
   "metadata": {},
   "source": [
    "### Exercise 11. 정답"
   ]
  },
  {
   "cell_type": "markdown",
   "metadata": {},
   "source": [
    "11. Write a program that reads a number between 1000 and 999999 from the user and prints it with a comma separating the thousands. Here is a sample example; the user input is in **bold**:\n",
    "    \n",
    "    Please enter an integer between 1000 and 999999: **23456**<br/> 23,456"
   ]
  },
  {
   "cell_type": "code",
   "execution_count": 236,
   "metadata": {},
   "outputs": [
    {
     "name": "stdout",
     "output_type": "stream",
     "text": [
      "Please enter an integer between 1000 and 999999:343434\n",
      "참고 - lst 리스트 출력해서 보기 : ['3', '4', '3', ',', '4', '3', '4']\n",
      "Please enter an integer between 1000 and 999999:  343,434\n"
     ]
    }
   ],
   "source": [
    "# your code here\n",
    "\n",
    "# 인티저를 스트링으로 변환하여 할당\n",
    "ex = str(input(\"Please enter an integer between 1000 and 999999:\"))\n",
    "\n",
    "# 할당한 변수를 나누어 주기 \n",
    "ex_1 = ex.replace(\"\", \" \")\n",
    "ex_2 = ex_1.split(\" \")\n",
    "\n",
    "# 끝에서 4번째 자리에 쉼표가 삽입 될 수 있도록 for loop 만들기 \n",
    "lst = []\n",
    "for i in range(1, len(ex_2)) :\n",
    "    if i < len(ex_2)-4 :\n",
    "        lst.append(ex_2[i])\n",
    "    elif -i == -(len(ex_2)-4) :\n",
    "        lst.append(\",\")\n",
    "    else  :\n",
    "        lst.append(ex_2[i-1])\n",
    "#각각의 스트링 나누어져 하나의 리스트로 묶이기 때문에 각각의 값을 하나로 붙여줘야함.. 간단히하는 함수를 모르겠어요 ㅜㅜ 그래서 시리즈 변환..\n",
    "print(\"참고 - lst 리스트 출력해서 보기 :\", lst)  \n",
    "\n",
    "# 상기 리스트를 시리즈로 만들고 붙여줌\n",
    "lst_series = pd.Series([lst]).str.join(\"\")\n",
    "\n",
    "# 상기 시리즈에서 값만 출력되도록 인덱스 선택 \n",
    "print(\"Please enter an integer between 1000 and 999999: \", lst_series[0])\n",
    "\n",
    "    "
   ]
  },
  {
   "cell_type": "markdown",
   "metadata": {},
   "source": [
    "### Exercise 12. 정답"
   ]
  },
  {
   "cell_type": "markdown",
   "metadata": {},
   "source": [
    "12. An online bank wants you to create a program that shows prospective customers how their deposits will grow. Your program should read the initial balance and the annual interest rate. Interest is compounded monthly. Print out the balances after the first three months. Here is a sample:\n",
    "\n",
    "    Initial balance: **1000**<br/>\n",
    "    Annual interest rate in percent: **6.0**<br/>\n",
    "    After first month: 1005.00<br/>\n",
    "    After second month: 1010.03<br/>\n",
    "    After third month: 1015.08"
   ]
  },
  {
   "cell_type": "code",
   "execution_count": 349,
   "metadata": {},
   "outputs": [
    {
     "data": {
      "text/plain": [
       "0.005"
      ]
     },
     "execution_count": 349,
     "metadata": {},
     "output_type": "execute_result"
    }
   ],
   "source": [
    "# 월 별 이자 구하기 \n",
    "montly_interest_rate =  0.06/12\n",
    "montly_interest_rate"
   ]
  },
  {
   "cell_type": "code",
   "execution_count": 353,
   "metadata": {},
   "outputs": [
    {
     "name": "stdout",
     "output_type": "stream",
     "text": [
      "After 13 month 까지 리스트로 보기 :  [1000.0, 1005.0, 1010.02, 1015.08, 1020.15, 1025.25, 1030.38, 1035.53, 1040.71, 1045.91, 1051.14, 1056.4, 1061.68]\n",
      "1. After first month :  1005.0\n",
      "2. After second month :  1010.02\n",
      "3. After third month :  1015.08\n"
     ]
    }
   ],
   "source": [
    "# 12개월 후까지의 잔액을 for loop 으로 리스트로 묶기 \n",
    "\n",
    "total_balance = []\n",
    "\n",
    "for i in range(0,13) : \n",
    "    monthly_balance = round(1000*(1.005**i),2)\n",
    "    total_balance.append(monthly_balance)\n",
    "\n",
    "print(\"After 13 month 까지 리스트로 보기 : \", total_balance)\n",
    "print(\"1. After first month : \", total_balance[1])\n",
    "print(\"2. After second month : \", total_balance[2])\n",
    "print(\"3. After third month : \", total_balance[3])"
   ]
  },
  {
   "cell_type": "markdown",
   "metadata": {},
   "source": [
    "## References\n",
    "* Horstmann, C. S., & Necaise, R. D. (2015). Python for everyone. Wiley Publishing.\n",
    "* 박진수 (2020). 바로 쓰는 파이썬. 서울대학교출판문화원\n",
    "* Python for Everybody Specialization on Coursera: https://www.coursera.org/specializations/python"
   ]
  },
  {
   "cell_type": "code",
   "execution_count": null,
   "metadata": {},
   "outputs": [],
   "source": []
  }
 ],
 "metadata": {
  "kernelspec": {
   "display_name": "Python 3",
   "language": "python",
   "name": "python3"
  },
  "language_info": {
   "codemirror_mode": {
    "name": "ipython",
    "version": 3
   },
   "file_extension": ".py",
   "mimetype": "text/x-python",
   "name": "python",
   "nbconvert_exporter": "python",
   "pygments_lexer": "ipython3",
   "version": "3.7.6"
  },
  "toc": {
   "base_numbering": 1,
   "nav_menu": {},
   "number_sections": true,
   "sideBar": true,
   "skip_h1_title": false,
   "title_cell": "Table of Contents",
   "title_sidebar": "Contents",
   "toc_cell": false,
   "toc_position": {
    "height": "calc(100% - 180px)",
    "left": "10px",
    "top": "150px",
    "width": "426.586px"
   },
   "toc_section_display": true,
   "toc_window_display": true
  }
 },
 "nbformat": 4,
 "nbformat_minor": 2
}
